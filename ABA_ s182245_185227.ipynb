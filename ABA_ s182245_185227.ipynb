{
 "cells": [
  {
   "cell_type": "markdown",
   "metadata": {},
   "source": [
    "# Final Project for course 42578 Advanced Business Analytics"
   ]
  },
  {
   "cell_type": "markdown",
   "metadata": {},
   "source": [
    "## Introduction\n",
    "\n",
    "One of the main issues in e-commerce is the difficulty to understand the key of the success or the problems as a company. This kind of business requires a complex architecture that usually involves several kinds of customers, sellers, products or broad location coverage. In some cases, even with a good architecture, it is difficult to address the weakest points, as the number of variables can be immense.\n",
    "\n",
    "Throughout this project, the Olist dataset is analyzed to understanding how Business Analytics can help on the comprehension of its situation, in order to create future strategies or develop hypotheses to reinforce their business."
   ]
  },
  {
   "cell_type": "markdown",
   "metadata": {},
   "source": [
    "### Imports"
   ]
  },
  {
   "cell_type": "code",
   "execution_count": 1,
   "metadata": {},
   "outputs": [
    {
     "name": "stderr",
     "output_type": "stream",
     "text": [
      "Using TensorFlow backend.\n"
     ]
    }
   ],
   "source": [
    "import numpy as np\n",
    "import pandas as pd\n",
    "from keras.models import Sequential\n",
    "from keras.layers import Dense, Dropout\n",
    "from sklearn.metrics import confusion_matrix, recall_score, accuracy_score, precision_score, r2_score, mean_squared_error\n",
    "from sklearn.linear_model import LinearRegression\n",
    "import seaborn as sns\n",
    "from unidecode import unidecode\n",
    "\n",
    "%matplotlib inline\n",
    "import matplotlib.pyplot as plt\n",
    "\n",
    "#matplotlib style options\n",
    "plt.style.use('ggplot')\n",
    "plt.rcParams['figure.figsize'] = (15, 8)\n",
    "plt.style.use('ggplot')\n",
    "plt.rcParams['figure.figsize'] = (15, 8)"
   ]
  },
  {
   "cell_type": "code",
   "execution_count": 2,
   "metadata": {},
   "outputs": [],
   "source": [
    "customers = pd.read_csv('Olist/olist_customers_dataset.csv')\n",
    "geolocation = pd.read_csv('Olist/olist_geolocation_dataset.csv')\n",
    "order_items = pd.read_csv('Olist/olist_order_items_dataset.csv')\n",
    "order_payments = pd.read_csv('Olist/olist_order_payments_dataset.csv')\n",
    "order_reviews = pd.read_csv('Olist/olist_order_reviews_dataset.csv')\n",
    "orders = pd.read_csv('Olist/olist_orders_dataset.csv')\n",
    "products = pd.read_csv('Olist/olist_products_dataset.csv')\n",
    "sellers = pd.read_csv('Olist/olist_sellers_dataset.csv')"
   ]
  },
  {
   "cell_type": "markdown",
   "metadata": {},
   "source": [
    "![\"titulo\"](schema.jpeg)"
   ]
  },
  {
   "cell_type": "markdown",
   "metadata": {},
   "source": [
    "## Dataset Analysis and preparation"
   ]
  },
  {
   "cell_type": "markdown",
   "metadata": {},
   "source": [
    "### Orders dataset"
   ]
  },
  {
   "cell_type": "code",
   "execution_count": 3,
   "metadata": {},
   "outputs": [
    {
     "data": {
      "text/html": [
       "<div>\n",
       "<style scoped>\n",
       "    .dataframe tbody tr th:only-of-type {\n",
       "        vertical-align: middle;\n",
       "    }\n",
       "\n",
       "    .dataframe tbody tr th {\n",
       "        vertical-align: top;\n",
       "    }\n",
       "\n",
       "    .dataframe thead th {\n",
       "        text-align: right;\n",
       "    }\n",
       "</style>\n",
       "<table border=\"1\" class=\"dataframe\">\n",
       "  <thead>\n",
       "    <tr style=\"text-align: right;\">\n",
       "      <th></th>\n",
       "      <th>order_id</th>\n",
       "      <th>customer_id</th>\n",
       "      <th>order_status</th>\n",
       "      <th>order_purchase_timestamp</th>\n",
       "      <th>order_approved_at</th>\n",
       "      <th>order_delivered_carrier_date</th>\n",
       "      <th>order_delivered_customer_date</th>\n",
       "      <th>order_estimated_delivery_date</th>\n",
       "    </tr>\n",
       "  </thead>\n",
       "  <tbody>\n",
       "    <tr>\n",
       "      <th>0</th>\n",
       "      <td>e481f51cbdc54678b7cc49136f2d6af7</td>\n",
       "      <td>9ef432eb6251297304e76186b10a928d</td>\n",
       "      <td>delivered</td>\n",
       "      <td>2017-10-02 10:56:33</td>\n",
       "      <td>2017-10-02 11:07:15</td>\n",
       "      <td>2017-10-04 19:55:00</td>\n",
       "      <td>2017-10-10 21:25:13</td>\n",
       "      <td>2017-10-18 00:00:00</td>\n",
       "    </tr>\n",
       "    <tr>\n",
       "      <th>1</th>\n",
       "      <td>53cdb2fc8bc7dce0b6741e2150273451</td>\n",
       "      <td>b0830fb4747a6c6d20dea0b8c802d7ef</td>\n",
       "      <td>delivered</td>\n",
       "      <td>2018-07-24 20:41:37</td>\n",
       "      <td>2018-07-26 03:24:27</td>\n",
       "      <td>2018-07-26 14:31:00</td>\n",
       "      <td>2018-08-07 15:27:45</td>\n",
       "      <td>2018-08-13 00:00:00</td>\n",
       "    </tr>\n",
       "    <tr>\n",
       "      <th>2</th>\n",
       "      <td>47770eb9100c2d0c44946d9cf07ec65d</td>\n",
       "      <td>41ce2a54c0b03bf3443c3d931a367089</td>\n",
       "      <td>delivered</td>\n",
       "      <td>2018-08-08 08:38:49</td>\n",
       "      <td>2018-08-08 08:55:23</td>\n",
       "      <td>2018-08-08 13:50:00</td>\n",
       "      <td>2018-08-17 18:06:29</td>\n",
       "      <td>2018-09-04 00:00:00</td>\n",
       "    </tr>\n",
       "    <tr>\n",
       "      <th>3</th>\n",
       "      <td>949d5b44dbf5de918fe9c16f97b45f8a</td>\n",
       "      <td>f88197465ea7920adcdbec7375364d82</td>\n",
       "      <td>delivered</td>\n",
       "      <td>2017-11-18 19:28:06</td>\n",
       "      <td>2017-11-18 19:45:59</td>\n",
       "      <td>2017-11-22 13:39:59</td>\n",
       "      <td>2017-12-02 00:28:42</td>\n",
       "      <td>2017-12-15 00:00:00</td>\n",
       "    </tr>\n",
       "    <tr>\n",
       "      <th>4</th>\n",
       "      <td>ad21c59c0840e6cb83a9ceb5573f8159</td>\n",
       "      <td>8ab97904e6daea8866dbdbc4fb7aad2c</td>\n",
       "      <td>delivered</td>\n",
       "      <td>2018-02-13 21:18:39</td>\n",
       "      <td>2018-02-13 22:20:29</td>\n",
       "      <td>2018-02-14 19:46:34</td>\n",
       "      <td>2018-02-16 18:17:02</td>\n",
       "      <td>2018-02-26 00:00:00</td>\n",
       "    </tr>\n",
       "  </tbody>\n",
       "</table>\n",
       "</div>"
      ],
      "text/plain": [
       "                           order_id                       customer_id  \\\n",
       "0  e481f51cbdc54678b7cc49136f2d6af7  9ef432eb6251297304e76186b10a928d   \n",
       "1  53cdb2fc8bc7dce0b6741e2150273451  b0830fb4747a6c6d20dea0b8c802d7ef   \n",
       "2  47770eb9100c2d0c44946d9cf07ec65d  41ce2a54c0b03bf3443c3d931a367089   \n",
       "3  949d5b44dbf5de918fe9c16f97b45f8a  f88197465ea7920adcdbec7375364d82   \n",
       "4  ad21c59c0840e6cb83a9ceb5573f8159  8ab97904e6daea8866dbdbc4fb7aad2c   \n",
       "\n",
       "  order_status order_purchase_timestamp    order_approved_at  \\\n",
       "0    delivered      2017-10-02 10:56:33  2017-10-02 11:07:15   \n",
       "1    delivered      2018-07-24 20:41:37  2018-07-26 03:24:27   \n",
       "2    delivered      2018-08-08 08:38:49  2018-08-08 08:55:23   \n",
       "3    delivered      2017-11-18 19:28:06  2017-11-18 19:45:59   \n",
       "4    delivered      2018-02-13 21:18:39  2018-02-13 22:20:29   \n",
       "\n",
       "  order_delivered_carrier_date order_delivered_customer_date  \\\n",
       "0          2017-10-04 19:55:00           2017-10-10 21:25:13   \n",
       "1          2018-07-26 14:31:00           2018-08-07 15:27:45   \n",
       "2          2018-08-08 13:50:00           2018-08-17 18:06:29   \n",
       "3          2017-11-22 13:39:59           2017-12-02 00:28:42   \n",
       "4          2018-02-14 19:46:34           2018-02-16 18:17:02   \n",
       "\n",
       "  order_estimated_delivery_date  \n",
       "0           2017-10-18 00:00:00  \n",
       "1           2018-08-13 00:00:00  \n",
       "2           2018-09-04 00:00:00  \n",
       "3           2017-12-15 00:00:00  \n",
       "4           2018-02-26 00:00:00  "
      ]
     },
     "execution_count": 3,
     "metadata": {},
     "output_type": "execute_result"
    }
   ],
   "source": [
    "orders.head()"
   ]
  },
  {
   "cell_type": "code",
   "execution_count": 4,
   "metadata": {},
   "outputs": [
    {
     "name": "stdout",
     "output_type": "stream",
     "text": [
      "<class 'pandas.core.frame.DataFrame'>\n",
      "RangeIndex: 99441 entries, 0 to 99440\n",
      "Data columns (total 8 columns):\n",
      "order_id                         99441 non-null object\n",
      "customer_id                      99441 non-null object\n",
      "order_status                     99441 non-null object\n",
      "order_purchase_timestamp         99441 non-null object\n",
      "order_approved_at                99281 non-null object\n",
      "order_delivered_carrier_date     97658 non-null object\n",
      "order_delivered_customer_date    96476 non-null object\n",
      "order_estimated_delivery_date    99441 non-null object\n",
      "dtypes: object(8)\n",
      "memory usage: 6.1+ MB\n"
     ]
    }
   ],
   "source": [
    "orders.info()"
   ]
  },
  {
   "cell_type": "code",
   "execution_count": 3,
   "metadata": {},
   "outputs": [
    {
     "data": {
      "text/plain": [
       "8"
      ]
     },
     "execution_count": 3,
     "metadata": {},
     "output_type": "execute_result"
    }
   ],
   "source": [
    "orders['order_status'].nunique()"
   ]
  },
  {
   "cell_type": "code",
   "execution_count": 4,
   "metadata": {},
   "outputs": [
    {
     "data": {
      "image/png": "[encoded data removed]",
      "text/plain": [
       "<Figure size 504x360 with 1 Axes>"
      ]
     },
     "metadata": {},
     "output_type": "display_data"
    }
   ],
   "source": [
    "status = orders.order_status.value_counts()\n",
    "status.plot(kind='pie', autopct = '%1.1f%%', pctdistance = 0.8, figsize=(7,5))\n",
    "plt.legend(loc = \"right\", bbox_to_anchor = (1,0,1,1))\n",
    "plt.title('% of records by Status');"
   ]
  },
  {
   "cell_type": "markdown",
   "metadata": {},
   "source": [
    "With almost all orders delivered, it will be our filter for our data, because the other possible categories would add a lot of 0 in our data that can affect the sensitivity on the analysis. Just in case, the format of all of them are transformed. If later is needed for data reduction, all but \"delivered\" would be removes."
   ]
  },
  {
   "cell_type": "code",
   "execution_count": 5,
   "metadata": {},
   "outputs": [],
   "source": [
    "#Dummies for the \"order status\" column\n",
    "category_columns = ['order_status']\n",
    "for col in category_columns:\n",
    "    orders[col] = orders[col].astype('category')\n",
    "orders = pd.get_dummies(orders, columns=category_columns)"
   ]
  },
  {
   "cell_type": "code",
   "execution_count": 6,
   "metadata": {},
   "outputs": [],
   "source": [
    "# Change of date format\n",
    "orders['order_purchase_timestamp'] = pd.to_datetime(orders['order_purchase_timestamp'], format=\"%Y-%m-%d %H:%M:%S\")\n",
    "orders['order_approved_at'] = pd.to_datetime(orders['order_approved_at'], format=\"%Y-%m-%d %H:%M:%S\")\n",
    "orders['order_delivered_carrier_date'] = pd.to_datetime(orders['order_delivered_carrier_date'], format=\"%Y-%m-%d %H:%M:%S\")\n",
    "orders['order_delivered_customer_date'] = pd.to_datetime(orders['order_delivered_customer_date'], format=\"%Y-%m-%d %H:%M:%S\")\n",
    "orders['order_estimated_delivery_date'] = pd.to_datetime(orders['order_estimated_delivery_date'], format=\"%Y-%m-%d %H:%M:%S\")"
   ]
  },
  {
   "cell_type": "code",
   "execution_count": 7,
   "metadata": {},
   "outputs": [
    {
     "data": {
      "text/html": [
       "<div>\n",
       "<style scoped>\n",
       "    .dataframe tbody tr th:only-of-type {\n",
       "        vertical-align: middle;\n",
       "    }\n",
       "\n",
       "    .dataframe tbody tr th {\n",
       "        vertical-align: top;\n",
       "    }\n",
       "\n",
       "    .dataframe thead th {\n",
       "        text-align: right;\n",
       "    }\n",
       "</style>\n",
       "<table border=\"1\" class=\"dataframe\">\n",
       "  <thead>\n",
       "    <tr style=\"text-align: right;\">\n",
       "      <th></th>\n",
       "      <th>order_id</th>\n",
       "      <th>customer_id</th>\n",
       "      <th>order_purchase_timestamp</th>\n",
       "      <th>order_approved_at</th>\n",
       "      <th>order_delivered_carrier_date</th>\n",
       "      <th>order_delivered_customer_date</th>\n",
       "      <th>order_estimated_delivery_date</th>\n",
       "      <th>order_status_approved</th>\n",
       "      <th>order_status_canceled</th>\n",
       "      <th>order_status_created</th>\n",
       "      <th>order_status_delivered</th>\n",
       "      <th>order_status_invoiced</th>\n",
       "      <th>order_status_processing</th>\n",
       "      <th>order_status_shipped</th>\n",
       "      <th>order_status_unavailable</th>\n",
       "    </tr>\n",
       "  </thead>\n",
       "  <tbody>\n",
       "    <tr>\n",
       "      <th>0</th>\n",
       "      <td>e481f51cbdc54678b7cc49136f2d6af7</td>\n",
       "      <td>9ef432eb6251297304e76186b10a928d</td>\n",
       "      <td>2017-10-02 10:56:33</td>\n",
       "      <td>2017-10-02 11:07:15</td>\n",
       "      <td>2017-10-04 19:55:00</td>\n",
       "      <td>2017-10-10 21:25:13</td>\n",
       "      <td>2017-10-18</td>\n",
       "      <td>0</td>\n",
       "      <td>0</td>\n",
       "      <td>0</td>\n",
       "      <td>1</td>\n",
       "      <td>0</td>\n",
       "      <td>0</td>\n",
       "      <td>0</td>\n",
       "      <td>0</td>\n",
       "    </tr>\n",
       "    <tr>\n",
       "      <th>1</th>\n",
       "      <td>53cdb2fc8bc7dce0b6741e2150273451</td>\n",
       "      <td>b0830fb4747a6c6d20dea0b8c802d7ef</td>\n",
       "      <td>2018-07-24 20:41:37</td>\n",
       "      <td>2018-07-26 03:24:27</td>\n",
       "      <td>2018-07-26 14:31:00</td>\n",
       "      <td>2018-08-07 15:27:45</td>\n",
       "      <td>2018-08-13</td>\n",
       "      <td>0</td>\n",
       "      <td>0</td>\n",
       "      <td>0</td>\n",
       "      <td>1</td>\n",
       "      <td>0</td>\n",
       "      <td>0</td>\n",
       "      <td>0</td>\n",
       "      <td>0</td>\n",
       "    </tr>\n",
       "    <tr>\n",
       "      <th>2</th>\n",
       "      <td>47770eb9100c2d0c44946d9cf07ec65d</td>\n",
       "      <td>41ce2a54c0b03bf3443c3d931a367089</td>\n",
       "      <td>2018-08-08 08:38:49</td>\n",
       "      <td>2018-08-08 08:55:23</td>\n",
       "      <td>2018-08-08 13:50:00</td>\n",
       "      <td>2018-08-17 18:06:29</td>\n",
       "      <td>2018-09-04</td>\n",
       "      <td>0</td>\n",
       "      <td>0</td>\n",
       "      <td>0</td>\n",
       "      <td>1</td>\n",
       "      <td>0</td>\n",
       "      <td>0</td>\n",
       "      <td>0</td>\n",
       "      <td>0</td>\n",
       "    </tr>\n",
       "    <tr>\n",
       "      <th>3</th>\n",
       "      <td>949d5b44dbf5de918fe9c16f97b45f8a</td>\n",
       "      <td>f88197465ea7920adcdbec7375364d82</td>\n",
       "      <td>2017-11-18 19:28:06</td>\n",
       "      <td>2017-11-18 19:45:59</td>\n",
       "      <td>2017-11-22 13:39:59</td>\n",
       "      <td>2017-12-02 00:28:42</td>\n",
       "      <td>2017-12-15</td>\n",
       "      <td>0</td>\n",
       "      <td>0</td>\n",
       "      <td>0</td>\n",
       "      <td>1</td>\n",
       "      <td>0</td>\n",
       "      <td>0</td>\n",
       "      <td>0</td>\n",
       "      <td>0</td>\n",
       "    </tr>\n",
       "    <tr>\n",
       "      <th>4</th>\n",
       "      <td>ad21c59c0840e6cb83a9ceb5573f8159</td>\n",
       "      <td>8ab97904e6daea8866dbdbc4fb7aad2c</td>\n",
       "      <td>2018-02-13 21:18:39</td>\n",
       "      <td>2018-02-13 22:20:29</td>\n",
       "      <td>2018-02-14 19:46:34</td>\n",
       "      <td>2018-02-16 18:17:02</td>\n",
       "      <td>2018-02-26</td>\n",
       "      <td>0</td>\n",
       "      <td>0</td>\n",
       "      <td>0</td>\n",
       "      <td>1</td>\n",
       "      <td>0</td>\n",
       "      <td>0</td>\n",
       "      <td>0</td>\n",
       "      <td>0</td>\n",
       "    </tr>\n",
       "  </tbody>\n",
       "</table>\n",
       "</div>"
      ],
      "text/plain": [
       "                           order_id                       customer_id  \\\n",
       "0  e481f51cbdc54678b7cc49136f2d6af7  9ef432eb6251297304e76186b10a928d   \n",
       "1  53cdb2fc8bc7dce0b6741e2150273451  b0830fb4747a6c6d20dea0b8c802d7ef   \n",
       "2  47770eb9100c2d0c44946d9cf07ec65d  41ce2a54c0b03bf3443c3d931a367089   \n",
       "3  949d5b44dbf5de918fe9c16f97b45f8a  f88197465ea7920adcdbec7375364d82   \n",
       "4  ad21c59c0840e6cb83a9ceb5573f8159  8ab97904e6daea8866dbdbc4fb7aad2c   \n",
       "\n",
       "  order_purchase_timestamp   order_approved_at order_delivered_carrier_date  \\\n",
       "0      2017-10-02 10:56:33 2017-10-02 11:07:15          2017-10-04 19:55:00   \n",
       "1      2018-07-24 20:41:37 2018-07-26 03:24:27          2018-07-26 14:31:00   \n",
       "2      2018-08-08 08:38:49 2018-08-08 08:55:23          2018-08-08 13:50:00   \n",
       "3      2017-11-18 19:28:06 2017-11-18 19:45:59          2017-11-22 13:39:59   \n",
       "4      2018-02-13 21:18:39 2018-02-13 22:20:29          2018-02-14 19:46:34   \n",
       "\n",
       "  order_delivered_customer_date order_estimated_delivery_date  \\\n",
       "0           2017-10-10 21:25:13                    2017-10-18   \n",
       "1           2018-08-07 15:27:45                    2018-08-13   \n",
       "2           2018-08-17 18:06:29                    2018-09-04   \n",
       "3           2017-12-02 00:28:42                    2017-12-15   \n",
       "4           2018-02-16 18:17:02                    2018-02-26   \n",
       "\n",
       "   order_status_approved  order_status_canceled  order_status_created  \\\n",
       "0                      0                      0                     0   \n",
       "1                      0                      0                     0   \n",
       "2                      0                      0                     0   \n",
       "3                      0                      0                     0   \n",
       "4                      0                      0                     0   \n",
       "\n",
       "   order_status_delivered  order_status_invoiced  order_status_processing  \\\n",
       "0                       1                      0                        0   \n",
       "1                       1                      0                        0   \n",
       "2                       1                      0                        0   \n",
       "3                       1                      0                        0   \n",
       "4                       1                      0                        0   \n",
       "\n",
       "   order_status_shipped  order_status_unavailable  \n",
       "0                     0                         0  \n",
       "1                     0                         0  \n",
       "2                     0                         0  \n",
       "3                     0                         0  \n",
       "4                     0                         0  "
      ]
     },
     "execution_count": 7,
     "metadata": {},
     "output_type": "execute_result"
    }
   ],
   "source": [
    "orders.head()"
   ]
  },
  {
   "cell_type": "code",
   "execution_count": 8,
   "metadata": {},
   "outputs": [
    {
     "data": {
      "text/html": [
       "<div>\n",
       "<style scoped>\n",
       "    .dataframe tbody tr th:only-of-type {\n",
       "        vertical-align: middle;\n",
       "    }\n",
       "\n",
       "    .dataframe tbody tr th {\n",
       "        vertical-align: top;\n",
       "    }\n",
       "\n",
       "    .dataframe thead th {\n",
       "        text-align: right;\n",
       "    }\n",
       "</style>\n",
       "<table border=\"1\" class=\"dataframe\">\n",
       "  <thead>\n",
       "    <tr style=\"text-align: right;\">\n",
       "      <th></th>\n",
       "      <th>order_status_approved</th>\n",
       "      <th>order_status_canceled</th>\n",
       "      <th>order_status_created</th>\n",
       "      <th>order_status_delivered</th>\n",
       "      <th>order_status_invoiced</th>\n",
       "      <th>order_status_processing</th>\n",
       "      <th>order_status_shipped</th>\n",
       "      <th>order_status_unavailable</th>\n",
       "    </tr>\n",
       "  </thead>\n",
       "  <tbody>\n",
       "    <tr>\n",
       "      <th>count</th>\n",
       "      <td>99441.000000</td>\n",
       "      <td>99441.000000</td>\n",
       "      <td>99441.000000</td>\n",
       "      <td>99441.000000</td>\n",
       "      <td>99441.000000</td>\n",
       "      <td>99441.000000</td>\n",
       "      <td>99441.000000</td>\n",
       "      <td>99441.000000</td>\n",
       "    </tr>\n",
       "    <tr>\n",
       "      <th>mean</th>\n",
       "      <td>0.000020</td>\n",
       "      <td>0.006285</td>\n",
       "      <td>0.000050</td>\n",
       "      <td>0.970203</td>\n",
       "      <td>0.003158</td>\n",
       "      <td>0.003027</td>\n",
       "      <td>0.011132</td>\n",
       "      <td>0.006124</td>\n",
       "    </tr>\n",
       "    <tr>\n",
       "      <th>std</th>\n",
       "      <td>0.004485</td>\n",
       "      <td>0.079030</td>\n",
       "      <td>0.007091</td>\n",
       "      <td>0.170027</td>\n",
       "      <td>0.056104</td>\n",
       "      <td>0.054934</td>\n",
       "      <td>0.104921</td>\n",
       "      <td>0.078018</td>\n",
       "    </tr>\n",
       "    <tr>\n",
       "      <th>min</th>\n",
       "      <td>0.000000</td>\n",
       "      <td>0.000000</td>\n",
       "      <td>0.000000</td>\n",
       "      <td>0.000000</td>\n",
       "      <td>0.000000</td>\n",
       "      <td>0.000000</td>\n",
       "      <td>0.000000</td>\n",
       "      <td>0.000000</td>\n",
       "    </tr>\n",
       "    <tr>\n",
       "      <th>25%</th>\n",
       "      <td>0.000000</td>\n",
       "      <td>0.000000</td>\n",
       "      <td>0.000000</td>\n",
       "      <td>1.000000</td>\n",
       "      <td>0.000000</td>\n",
       "      <td>0.000000</td>\n",
       "      <td>0.000000</td>\n",
       "      <td>0.000000</td>\n",
       "    </tr>\n",
       "    <tr>\n",
       "      <th>50%</th>\n",
       "      <td>0.000000</td>\n",
       "      <td>0.000000</td>\n",
       "      <td>0.000000</td>\n",
       "      <td>1.000000</td>\n",
       "      <td>0.000000</td>\n",
       "      <td>0.000000</td>\n",
       "      <td>0.000000</td>\n",
       "      <td>0.000000</td>\n",
       "    </tr>\n",
       "    <tr>\n",
       "      <th>75%</th>\n",
       "      <td>0.000000</td>\n",
       "      <td>0.000000</td>\n",
       "      <td>0.000000</td>\n",
       "      <td>1.000000</td>\n",
       "      <td>0.000000</td>\n",
       "      <td>0.000000</td>\n",
       "      <td>0.000000</td>\n",
       "      <td>0.000000</td>\n",
       "    </tr>\n",
       "    <tr>\n",
       "      <th>max</th>\n",
       "      <td>1.000000</td>\n",
       "      <td>1.000000</td>\n",
       "      <td>1.000000</td>\n",
       "      <td>1.000000</td>\n",
       "      <td>1.000000</td>\n",
       "      <td>1.000000</td>\n",
       "      <td>1.000000</td>\n",
       "      <td>1.000000</td>\n",
       "    </tr>\n",
       "  </tbody>\n",
       "</table>\n",
       "</div>"
      ],
      "text/plain": [
       "       order_status_approved  order_status_canceled  order_status_created  \\\n",
       "count           99441.000000           99441.000000          99441.000000   \n",
       "mean                0.000020               0.006285              0.000050   \n",
       "std                 0.004485               0.079030              0.007091   \n",
       "min                 0.000000               0.000000              0.000000   \n",
       "25%                 0.000000               0.000000              0.000000   \n",
       "50%                 0.000000               0.000000              0.000000   \n",
       "75%                 0.000000               0.000000              0.000000   \n",
       "max                 1.000000               1.000000              1.000000   \n",
       "\n",
       "       order_status_delivered  order_status_invoiced  order_status_processing  \\\n",
       "count            99441.000000           99441.000000             99441.000000   \n",
       "mean                 0.970203               0.003158                 0.003027   \n",
       "std                  0.170027               0.056104                 0.054934   \n",
       "min                  0.000000               0.000000                 0.000000   \n",
       "25%                  1.000000               0.000000                 0.000000   \n",
       "50%                  1.000000               0.000000                 0.000000   \n",
       "75%                  1.000000               0.000000                 0.000000   \n",
       "max                  1.000000               1.000000                 1.000000   \n",
       "\n",
       "       order_status_shipped  order_status_unavailable  \n",
       "count          99441.000000              99441.000000  \n",
       "mean               0.011132                  0.006124  \n",
       "std                0.104921                  0.078018  \n",
       "min                0.000000                  0.000000  \n",
       "25%                0.000000                  0.000000  \n",
       "50%                0.000000                  0.000000  \n",
       "75%                0.000000                  0.000000  \n",
       "max                1.000000                  1.000000  "
      ]
     },
     "execution_count": 8,
     "metadata": {},
     "output_type": "execute_result"
    }
   ],
   "source": [
    "orders.describe()"
   ]
  },
  {
   "cell_type": "markdown",
   "metadata": {},
   "source": [
    "### Customers dataset"
   ]
  },
  {
   "cell_type": "code",
   "execution_count": 9,
   "metadata": {},
   "outputs": [
    {
     "data": {
      "text/html": [
       "<div>\n",
       "<style scoped>\n",
       "    .dataframe tbody tr th:only-of-type {\n",
       "        vertical-align: middle;\n",
       "    }\n",
       "\n",
       "    .dataframe tbody tr th {\n",
       "        vertical-align: top;\n",
       "    }\n",
       "\n",
       "    .dataframe thead th {\n",
       "        text-align: right;\n",
       "    }\n",
       "</style>\n",
       "<table border=\"1\" class=\"dataframe\">\n",
       "  <thead>\n",
       "    <tr style=\"text-align: right;\">\n",
       "      <th></th>\n",
       "      <th>customer_id</th>\n",
       "      <th>customer_unique_id</th>\n",
       "      <th>customer_zip_code_prefix</th>\n",
       "      <th>customer_city</th>\n",
       "      <th>customer_state</th>\n",
       "    </tr>\n",
       "  </thead>\n",
       "  <tbody>\n",
       "    <tr>\n",
       "      <th>0</th>\n",
       "      <td>06b8999e2fba1a1fbc88172c00ba8bc7</td>\n",
       "      <td>861eff4711a542e4b93843c6dd7febb0</td>\n",
       "      <td>14409</td>\n",
       "      <td>franca</td>\n",
       "      <td>SP</td>\n",
       "    </tr>\n",
       "    <tr>\n",
       "      <th>1</th>\n",
       "      <td>18955e83d337fd6b2def6b18a428ac77</td>\n",
       "      <td>290c77bc529b7ac935b93aa66c333dc3</td>\n",
       "      <td>9790</td>\n",
       "      <td>sao bernardo do campo</td>\n",
       "      <td>SP</td>\n",
       "    </tr>\n",
       "    <tr>\n",
       "      <th>2</th>\n",
       "      <td>4e7b3e00288586ebd08712fdd0374a03</td>\n",
       "      <td>060e732b5b29e8181a18229c7b0b2b5e</td>\n",
       "      <td>1151</td>\n",
       "      <td>sao paulo</td>\n",
       "      <td>SP</td>\n",
       "    </tr>\n",
       "    <tr>\n",
       "      <th>3</th>\n",
       "      <td>b2b6027bc5c5109e529d4dc6358b12c3</td>\n",
       "      <td>259dac757896d24d7702b9acbbff3f3c</td>\n",
       "      <td>8775</td>\n",
       "      <td>mogi das cruzes</td>\n",
       "      <td>SP</td>\n",
       "    </tr>\n",
       "    <tr>\n",
       "      <th>4</th>\n",
       "      <td>4f2d8ab171c80ec8364f7c12e35b23ad</td>\n",
       "      <td>345ecd01c38d18a9036ed96c73b8d066</td>\n",
       "      <td>13056</td>\n",
       "      <td>campinas</td>\n",
       "      <td>SP</td>\n",
       "    </tr>\n",
       "  </tbody>\n",
       "</table>\n",
       "</div>"
      ],
      "text/plain": [
       "                        customer_id                customer_unique_id  \\\n",
       "0  06b8999e2fba1a1fbc88172c00ba8bc7  861eff4711a542e4b93843c6dd7febb0   \n",
       "1  18955e83d337fd6b2def6b18a428ac77  290c77bc529b7ac935b93aa66c333dc3   \n",
       "2  4e7b3e00288586ebd08712fdd0374a03  060e732b5b29e8181a18229c7b0b2b5e   \n",
       "3  b2b6027bc5c5109e529d4dc6358b12c3  259dac757896d24d7702b9acbbff3f3c   \n",
       "4  4f2d8ab171c80ec8364f7c12e35b23ad  345ecd01c38d18a9036ed96c73b8d066   \n",
       "\n",
       "   customer_zip_code_prefix          customer_city customer_state  \n",
       "0                     14409                 franca             SP  \n",
       "1                      9790  sao bernardo do campo             SP  \n",
       "2                      1151              sao paulo             SP  \n",
       "3                      8775        mogi das cruzes             SP  \n",
       "4                     13056               campinas             SP  "
      ]
     },
     "execution_count": 9,
     "metadata": {},
     "output_type": "execute_result"
    }
   ],
   "source": [
    "customers.head()"
   ]
  },
  {
   "cell_type": "markdown",
   "metadata": {},
   "source": [
    "Apart from using it as a link, considering our computational power and how much it would increase the categorical values, the customer_state variable will be the one taken from this dataset to add to the study.\n"
   ]
  },
  {
   "cell_type": "code",
   "execution_count": 10,
   "metadata": {},
   "outputs": [],
   "source": [
    "cities = customers.customer_city.unique()"
   ]
  },
  {
   "cell_type": "code",
   "execution_count": 11,
   "metadata": {},
   "outputs": [],
   "source": [
    "cities = customers.customer_city.value_counts()"
   ]
  },
  {
   "cell_type": "code",
   "execution_count": 12,
   "metadata": {},
   "outputs": [
    {
     "name": "stdout",
     "output_type": "stream",
     "text": [
      "<class 'pandas.core.frame.DataFrame'>\n",
      "RangeIndex: 99441 entries, 0 to 99440\n",
      "Data columns (total 5 columns):\n",
      "customer_id                 99441 non-null object\n",
      "customer_unique_id          99441 non-null object\n",
      "customer_zip_code_prefix    99441 non-null int64\n",
      "customer_city               99441 non-null object\n",
      "customer_state              99441 non-null object\n",
      "dtypes: int64(1), object(4)\n",
      "memory usage: 3.8+ MB\n"
     ]
    }
   ],
   "source": [
    "customers.info()"
   ]
  },
  {
   "cell_type": "markdown",
   "metadata": {},
   "source": [
    "### Order reviews dataset"
   ]
  },
  {
   "cell_type": "code",
   "execution_count": 13,
   "metadata": {},
   "outputs": [
    {
     "data": {
      "text/html": [
       "<div>\n",
       "<style scoped>\n",
       "    .dataframe tbody tr th:only-of-type {\n",
       "        vertical-align: middle;\n",
       "    }\n",
       "\n",
       "    .dataframe tbody tr th {\n",
       "        vertical-align: top;\n",
       "    }\n",
       "\n",
       "    .dataframe thead th {\n",
       "        text-align: right;\n",
       "    }\n",
       "</style>\n",
       "<table border=\"1\" class=\"dataframe\">\n",
       "  <thead>\n",
       "    <tr style=\"text-align: right;\">\n",
       "      <th></th>\n",
       "      <th>review_id</th>\n",
       "      <th>order_id</th>\n",
       "      <th>review_score</th>\n",
       "      <th>review_comment_title</th>\n",
       "      <th>review_comment_message</th>\n",
       "      <th>review_creation_date</th>\n",
       "      <th>review_answer_timestamp</th>\n",
       "    </tr>\n",
       "  </thead>\n",
       "  <tbody>\n",
       "    <tr>\n",
       "      <th>0</th>\n",
       "      <td>7bc2406110b926393aa56f80a40eba40</td>\n",
       "      <td>73fc7af87114b39712e6da79b0a377eb</td>\n",
       "      <td>4</td>\n",
       "      <td>NaN</td>\n",
       "      <td>NaN</td>\n",
       "      <td>2018-01-18 00:00:00</td>\n",
       "      <td>2018-01-18 21:46:59</td>\n",
       "    </tr>\n",
       "    <tr>\n",
       "      <th>1</th>\n",
       "      <td>80e641a11e56f04c1ad469d5645fdfde</td>\n",
       "      <td>a548910a1c6147796b98fdf73dbeba33</td>\n",
       "      <td>5</td>\n",
       "      <td>NaN</td>\n",
       "      <td>NaN</td>\n",
       "      <td>2018-03-10 00:00:00</td>\n",
       "      <td>2018-03-11 03:05:13</td>\n",
       "    </tr>\n",
       "    <tr>\n",
       "      <th>2</th>\n",
       "      <td>228ce5500dc1d8e020d8d1322874b6f0</td>\n",
       "      <td>f9e4b658b201a9f2ecdecbb34bed034b</td>\n",
       "      <td>5</td>\n",
       "      <td>NaN</td>\n",
       "      <td>NaN</td>\n",
       "      <td>2018-02-17 00:00:00</td>\n",
       "      <td>2018-02-18 14:36:24</td>\n",
       "    </tr>\n",
       "    <tr>\n",
       "      <th>3</th>\n",
       "      <td>e64fb393e7b32834bb789ff8bb30750e</td>\n",
       "      <td>658677c97b385a9be170737859d3511b</td>\n",
       "      <td>5</td>\n",
       "      <td>NaN</td>\n",
       "      <td>Recebi bem antes do prazo estipulado.</td>\n",
       "      <td>2017-04-21 00:00:00</td>\n",
       "      <td>2017-04-21 22:02:06</td>\n",
       "    </tr>\n",
       "    <tr>\n",
       "      <th>4</th>\n",
       "      <td>f7c4243c7fe1938f181bec41a392bdeb</td>\n",
       "      <td>8e6bfb81e283fa7e4f11123a3fb894f1</td>\n",
       "      <td>5</td>\n",
       "      <td>NaN</td>\n",
       "      <td>Parabéns lojas lannister adorei comprar pela I...</td>\n",
       "      <td>2018-03-01 00:00:00</td>\n",
       "      <td>2018-03-02 10:26:53</td>\n",
       "    </tr>\n",
       "  </tbody>\n",
       "</table>\n",
       "</div>"
      ],
      "text/plain": [
       "                          review_id                          order_id  \\\n",
       "0  7bc2406110b926393aa56f80a40eba40  73fc7af87114b39712e6da79b0a377eb   \n",
       "1  80e641a11e56f04c1ad469d5645fdfde  a548910a1c6147796b98fdf73dbeba33   \n",
       "2  228ce5500dc1d8e020d8d1322874b6f0  f9e4b658b201a9f2ecdecbb34bed034b   \n",
       "3  e64fb393e7b32834bb789ff8bb30750e  658677c97b385a9be170737859d3511b   \n",
       "4  f7c4243c7fe1938f181bec41a392bdeb  8e6bfb81e283fa7e4f11123a3fb894f1   \n",
       "\n",
       "   review_score review_comment_title  \\\n",
       "0             4                  NaN   \n",
       "1             5                  NaN   \n",
       "2             5                  NaN   \n",
       "3             5                  NaN   \n",
       "4             5                  NaN   \n",
       "\n",
       "                              review_comment_message review_creation_date  \\\n",
       "0                                                NaN  2018-01-18 00:00:00   \n",
       "1                                                NaN  2018-03-10 00:00:00   \n",
       "2                                                NaN  2018-02-17 00:00:00   \n",
       "3              Recebi bem antes do prazo estipulado.  2017-04-21 00:00:00   \n",
       "4  Parabéns lojas lannister adorei comprar pela I...  2018-03-01 00:00:00   \n",
       "\n",
       "  review_answer_timestamp  \n",
       "0     2018-01-18 21:46:59  \n",
       "1     2018-03-11 03:05:13  \n",
       "2     2018-02-18 14:36:24  \n",
       "3     2017-04-21 22:02:06  \n",
       "4     2018-03-02 10:26:53  "
      ]
     },
     "execution_count": 13,
     "metadata": {},
     "output_type": "execute_result"
    }
   ],
   "source": [
    "order_reviews.head()"
   ]
  },
  {
   "cell_type": "code",
   "execution_count": 14,
   "metadata": {
    "scrolled": true
   },
   "outputs": [
    {
     "name": "stdout",
     "output_type": "stream",
     "text": [
      "Number of different review_score:  5\n"
     ]
    }
   ],
   "source": [
    "print('Number of different review_score: ', order_reviews['review_score'].nunique())"
   ]
  },
  {
   "cell_type": "code",
   "execution_count": 15,
   "metadata": {},
   "outputs": [],
   "source": [
    "#change of the date format\n",
    "order_reviews['review_creation_date'] = pd.to_datetime(order_reviews['review_creation_date'], format=\"%Y-%m-%d %H:%M:%S\")\n",
    "order_reviews['review_answer_timestamp'] = pd.to_datetime(order_reviews['review_answer_timestamp'], format=\"%Y-%m-%d %H:%M:%S\")"
   ]
  },
  {
   "cell_type": "code",
   "execution_count": 16,
   "metadata": {},
   "outputs": [
    {
     "name": "stdout",
     "output_type": "stream",
     "text": [
      "<class 'pandas.core.frame.DataFrame'>\n",
      "RangeIndex: 100000 entries, 0 to 99999\n",
      "Data columns (total 7 columns):\n",
      "review_id                  100000 non-null object\n",
      "order_id                   100000 non-null object\n",
      "review_score               100000 non-null int64\n",
      "review_comment_title       11715 non-null object\n",
      "review_comment_message     41753 non-null object\n",
      "review_creation_date       100000 non-null datetime64[ns]\n",
      "review_answer_timestamp    100000 non-null datetime64[ns]\n",
      "dtypes: datetime64[ns](2), int64(1), object(4)\n",
      "memory usage: 5.3+ MB\n"
     ]
    }
   ],
   "source": [
    "order_reviews.info()"
   ]
  },
  {
   "cell_type": "markdown",
   "metadata": {},
   "source": [
    "This means that there are 42% orders with review, but only one 11.71% of reviews with a title"
   ]
  },
  {
   "cell_type": "markdown",
   "metadata": {},
   "source": [
    "### Order payment dataset"
   ]
  },
  {
   "cell_type": "code",
   "execution_count": 17,
   "metadata": {},
   "outputs": [
    {
     "data": {
      "text/html": [
       "<div>\n",
       "<style scoped>\n",
       "    .dataframe tbody tr th:only-of-type {\n",
       "        vertical-align: middle;\n",
       "    }\n",
       "\n",
       "    .dataframe tbody tr th {\n",
       "        vertical-align: top;\n",
       "    }\n",
       "\n",
       "    .dataframe thead th {\n",
       "        text-align: right;\n",
       "    }\n",
       "</style>\n",
       "<table border=\"1\" class=\"dataframe\">\n",
       "  <thead>\n",
       "    <tr style=\"text-align: right;\">\n",
       "      <th></th>\n",
       "      <th>order_id</th>\n",
       "      <th>payment_sequential</th>\n",
       "      <th>payment_type</th>\n",
       "      <th>payment_installments</th>\n",
       "      <th>payment_value</th>\n",
       "    </tr>\n",
       "  </thead>\n",
       "  <tbody>\n",
       "    <tr>\n",
       "      <th>0</th>\n",
       "      <td>b81ef226f3fe1789b1e8b2acac839d17</td>\n",
       "      <td>1</td>\n",
       "      <td>credit_card</td>\n",
       "      <td>8</td>\n",
       "      <td>99.33</td>\n",
       "    </tr>\n",
       "    <tr>\n",
       "      <th>1</th>\n",
       "      <td>a9810da82917af2d9aefd1278f1dcfa0</td>\n",
       "      <td>1</td>\n",
       "      <td>credit_card</td>\n",
       "      <td>1</td>\n",
       "      <td>24.39</td>\n",
       "    </tr>\n",
       "    <tr>\n",
       "      <th>2</th>\n",
       "      <td>25e8ea4e93396b6fa0d3dd708e76c1bd</td>\n",
       "      <td>1</td>\n",
       "      <td>credit_card</td>\n",
       "      <td>1</td>\n",
       "      <td>65.71</td>\n",
       "    </tr>\n",
       "    <tr>\n",
       "      <th>3</th>\n",
       "      <td>ba78997921bbcdc1373bb41e913ab953</td>\n",
       "      <td>1</td>\n",
       "      <td>credit_card</td>\n",
       "      <td>8</td>\n",
       "      <td>107.78</td>\n",
       "    </tr>\n",
       "    <tr>\n",
       "      <th>4</th>\n",
       "      <td>42fdf880ba16b47b59251dd489d4441a</td>\n",
       "      <td>1</td>\n",
       "      <td>credit_card</td>\n",
       "      <td>2</td>\n",
       "      <td>128.45</td>\n",
       "    </tr>\n",
       "  </tbody>\n",
       "</table>\n",
       "</div>"
      ],
      "text/plain": [
       "                           order_id  payment_sequential payment_type  \\\n",
       "0  b81ef226f3fe1789b1e8b2acac839d17                   1  credit_card   \n",
       "1  a9810da82917af2d9aefd1278f1dcfa0                   1  credit_card   \n",
       "2  25e8ea4e93396b6fa0d3dd708e76c1bd                   1  credit_card   \n",
       "3  ba78997921bbcdc1373bb41e913ab953                   1  credit_card   \n",
       "4  42fdf880ba16b47b59251dd489d4441a                   1  credit_card   \n",
       "\n",
       "   payment_installments  payment_value  \n",
       "0                     8          99.33  \n",
       "1                     1          24.39  \n",
       "2                     1          65.71  \n",
       "3                     8         107.78  \n",
       "4                     2         128.45  "
      ]
     },
     "execution_count": 17,
     "metadata": {},
     "output_type": "execute_result"
    }
   ],
   "source": [
    "order_payments.head()"
   ]
  },
  {
   "cell_type": "code",
   "execution_count": 18,
   "metadata": {},
   "outputs": [
    {
     "data": {
      "text/html": [
       "<div>\n",
       "<style scoped>\n",
       "    .dataframe tbody tr th:only-of-type {\n",
       "        vertical-align: middle;\n",
       "    }\n",
       "\n",
       "    .dataframe tbody tr th {\n",
       "        vertical-align: top;\n",
       "    }\n",
       "\n",
       "    .dataframe thead th {\n",
       "        text-align: right;\n",
       "    }\n",
       "</style>\n",
       "<table border=\"1\" class=\"dataframe\">\n",
       "  <thead>\n",
       "    <tr style=\"text-align: right;\">\n",
       "      <th></th>\n",
       "      <th>payment_sequential</th>\n",
       "      <th>payment_installments</th>\n",
       "      <th>payment_value</th>\n",
       "    </tr>\n",
       "  </thead>\n",
       "  <tbody>\n",
       "    <tr>\n",
       "      <th>count</th>\n",
       "      <td>103886.000000</td>\n",
       "      <td>103886.000000</td>\n",
       "      <td>103886.000000</td>\n",
       "    </tr>\n",
       "    <tr>\n",
       "      <th>mean</th>\n",
       "      <td>1.092679</td>\n",
       "      <td>2.853349</td>\n",
       "      <td>154.100380</td>\n",
       "    </tr>\n",
       "    <tr>\n",
       "      <th>std</th>\n",
       "      <td>0.706584</td>\n",
       "      <td>2.687051</td>\n",
       "      <td>217.494064</td>\n",
       "    </tr>\n",
       "    <tr>\n",
       "      <th>min</th>\n",
       "      <td>1.000000</td>\n",
       "      <td>0.000000</td>\n",
       "      <td>0.000000</td>\n",
       "    </tr>\n",
       "    <tr>\n",
       "      <th>25%</th>\n",
       "      <td>1.000000</td>\n",
       "      <td>1.000000</td>\n",
       "      <td>56.790000</td>\n",
       "    </tr>\n",
       "    <tr>\n",
       "      <th>50%</th>\n",
       "      <td>1.000000</td>\n",
       "      <td>1.000000</td>\n",
       "      <td>100.000000</td>\n",
       "    </tr>\n",
       "    <tr>\n",
       "      <th>75%</th>\n",
       "      <td>1.000000</td>\n",
       "      <td>4.000000</td>\n",
       "      <td>171.837500</td>\n",
       "    </tr>\n",
       "    <tr>\n",
       "      <th>max</th>\n",
       "      <td>29.000000</td>\n",
       "      <td>24.000000</td>\n",
       "      <td>13664.080000</td>\n",
       "    </tr>\n",
       "  </tbody>\n",
       "</table>\n",
       "</div>"
      ],
      "text/plain": [
       "       payment_sequential  payment_installments  payment_value\n",
       "count       103886.000000         103886.000000  103886.000000\n",
       "mean             1.092679              2.853349     154.100380\n",
       "std              0.706584              2.687051     217.494064\n",
       "min              1.000000              0.000000       0.000000\n",
       "25%              1.000000              1.000000      56.790000\n",
       "50%              1.000000              1.000000     100.000000\n",
       "75%              1.000000              4.000000     171.837500\n",
       "max             29.000000             24.000000   13664.080000"
      ]
     },
     "execution_count": 18,
     "metadata": {},
     "output_type": "execute_result"
    }
   ],
   "source": [
    "order_payments.describe()"
   ]
  },
  {
   "cell_type": "code",
   "execution_count": 19,
   "metadata": {},
   "outputs": [
    {
     "data": {
      "image/png": "[encoded data removed]",
      "text/plain": [
       "<Figure size 504x360 with 1 Axes>"
      ]
     },
     "metadata": {},
     "output_type": "display_data"
    }
   ],
   "source": [
    "#Plot situation of the payment type\n",
    "payment_type = order_payments.payment_type.value_counts()\n",
    "payment_type.plot(kind='pie', autopct = '%1.1f%%', pctdistance = 0.8, figsize=(7,5))\n",
    "plt.legend(loc = \"right\", bbox_to_anchor = (1,0,1,1))\n",
    "plt.title('% of records by payment type');"
   ]
  },
  {
   "cell_type": "code",
   "execution_count": 20,
   "metadata": {},
   "outputs": [],
   "source": [
    "#dummies for \"payment type dummies\"\n",
    "category_columns = ['payment_type']\n",
    "for col in category_columns:\n",
    "    order_payments[col] = order_payments[col].astype('category')\n",
    "order_payments = pd.get_dummies(order_payments, columns=category_columns)"
   ]
  },
  {
   "cell_type": "code",
   "execution_count": 21,
   "metadata": {},
   "outputs": [
    {
     "data": {
      "text/html": [
       "<div>\n",
       "<style scoped>\n",
       "    .dataframe tbody tr th:only-of-type {\n",
       "        vertical-align: middle;\n",
       "    }\n",
       "\n",
       "    .dataframe tbody tr th {\n",
       "        vertical-align: top;\n",
       "    }\n",
       "\n",
       "    .dataframe thead th {\n",
       "        text-align: right;\n",
       "    }\n",
       "</style>\n",
       "<table border=\"1\" class=\"dataframe\">\n",
       "  <thead>\n",
       "    <tr style=\"text-align: right;\">\n",
       "      <th></th>\n",
       "      <th>payment_sequential</th>\n",
       "      <th>payment_installments</th>\n",
       "      <th>payment_value</th>\n",
       "      <th>payment_type_boleto</th>\n",
       "      <th>payment_type_credit_card</th>\n",
       "      <th>payment_type_debit_card</th>\n",
       "      <th>payment_type_not_defined</th>\n",
       "      <th>payment_type_voucher</th>\n",
       "    </tr>\n",
       "  </thead>\n",
       "  <tbody>\n",
       "    <tr>\n",
       "      <th>count</th>\n",
       "      <td>103886.000000</td>\n",
       "      <td>103886.000000</td>\n",
       "      <td>103886.000000</td>\n",
       "      <td>103886.00000</td>\n",
       "      <td>103886.000000</td>\n",
       "      <td>103886.000000</td>\n",
       "      <td>103886.000000</td>\n",
       "      <td>103886.000000</td>\n",
       "    </tr>\n",
       "    <tr>\n",
       "      <th>mean</th>\n",
       "      <td>1.092679</td>\n",
       "      <td>2.853349</td>\n",
       "      <td>154.100380</td>\n",
       "      <td>0.19044</td>\n",
       "      <td>0.739224</td>\n",
       "      <td>0.014718</td>\n",
       "      <td>0.000029</td>\n",
       "      <td>0.055590</td>\n",
       "    </tr>\n",
       "    <tr>\n",
       "      <th>std</th>\n",
       "      <td>0.706584</td>\n",
       "      <td>2.687051</td>\n",
       "      <td>217.494064</td>\n",
       "      <td>0.39265</td>\n",
       "      <td>0.439060</td>\n",
       "      <td>0.120422</td>\n",
       "      <td>0.005374</td>\n",
       "      <td>0.229129</td>\n",
       "    </tr>\n",
       "    <tr>\n",
       "      <th>min</th>\n",
       "      <td>1.000000</td>\n",
       "      <td>0.000000</td>\n",
       "      <td>0.000000</td>\n",
       "      <td>0.00000</td>\n",
       "      <td>0.000000</td>\n",
       "      <td>0.000000</td>\n",
       "      <td>0.000000</td>\n",
       "      <td>0.000000</td>\n",
       "    </tr>\n",
       "    <tr>\n",
       "      <th>25%</th>\n",
       "      <td>1.000000</td>\n",
       "      <td>1.000000</td>\n",
       "      <td>56.790000</td>\n",
       "      <td>0.00000</td>\n",
       "      <td>0.000000</td>\n",
       "      <td>0.000000</td>\n",
       "      <td>0.000000</td>\n",
       "      <td>0.000000</td>\n",
       "    </tr>\n",
       "    <tr>\n",
       "      <th>50%</th>\n",
       "      <td>1.000000</td>\n",
       "      <td>1.000000</td>\n",
       "      <td>100.000000</td>\n",
       "      <td>0.00000</td>\n",
       "      <td>1.000000</td>\n",
       "      <td>0.000000</td>\n",
       "      <td>0.000000</td>\n",
       "      <td>0.000000</td>\n",
       "    </tr>\n",
       "    <tr>\n",
       "      <th>75%</th>\n",
       "      <td>1.000000</td>\n",
       "      <td>4.000000</td>\n",
       "      <td>171.837500</td>\n",
       "      <td>0.00000</td>\n",
       "      <td>1.000000</td>\n",
       "      <td>0.000000</td>\n",
       "      <td>0.000000</td>\n",
       "      <td>0.000000</td>\n",
       "    </tr>\n",
       "    <tr>\n",
       "      <th>max</th>\n",
       "      <td>29.000000</td>\n",
       "      <td>24.000000</td>\n",
       "      <td>13664.080000</td>\n",
       "      <td>1.00000</td>\n",
       "      <td>1.000000</td>\n",
       "      <td>1.000000</td>\n",
       "      <td>1.000000</td>\n",
       "      <td>1.000000</td>\n",
       "    </tr>\n",
       "  </tbody>\n",
       "</table>\n",
       "</div>"
      ],
      "text/plain": [
       "       payment_sequential  payment_installments  payment_value  \\\n",
       "count       103886.000000         103886.000000  103886.000000   \n",
       "mean             1.092679              2.853349     154.100380   \n",
       "std              0.706584              2.687051     217.494064   \n",
       "min              1.000000              0.000000       0.000000   \n",
       "25%              1.000000              1.000000      56.790000   \n",
       "50%              1.000000              1.000000     100.000000   \n",
       "75%              1.000000              4.000000     171.837500   \n",
       "max             29.000000             24.000000   13664.080000   \n",
       "\n",
       "       payment_type_boleto  payment_type_credit_card  payment_type_debit_card  \\\n",
       "count         103886.00000             103886.000000            103886.000000   \n",
       "mean               0.19044                  0.739224                 0.014718   \n",
       "std                0.39265                  0.439060                 0.120422   \n",
       "min                0.00000                  0.000000                 0.000000   \n",
       "25%                0.00000                  0.000000                 0.000000   \n",
       "50%                0.00000                  1.000000                 0.000000   \n",
       "75%                0.00000                  1.000000                 0.000000   \n",
       "max                1.00000                  1.000000                 1.000000   \n",
       "\n",
       "       payment_type_not_defined  payment_type_voucher  \n",
       "count             103886.000000         103886.000000  \n",
       "mean                   0.000029              0.055590  \n",
       "std                    0.005374              0.229129  \n",
       "min                    0.000000              0.000000  \n",
       "25%                    0.000000              0.000000  \n",
       "50%                    0.000000              0.000000  \n",
       "75%                    0.000000              0.000000  \n",
       "max                    1.000000              1.000000  "
      ]
     },
     "execution_count": 21,
     "metadata": {},
     "output_type": "execute_result"
    }
   ],
   "source": [
    "order_payments.describe()"
   ]
  },
  {
   "cell_type": "markdown",
   "metadata": {},
   "source": [
    "As it can be appreciated, \"not_defined\"  is a really small amount. Because of that, and as well because it cannot give any extra information to our model, the decision afterwards is to remove this records."
   ]
  },
  {
   "cell_type": "markdown",
   "metadata": {},
   "source": [
    "### Order items dataset"
   ]
  },
  {
   "cell_type": "code",
   "execution_count": 22,
   "metadata": {},
   "outputs": [
    {
     "data": {
      "text/html": [
       "<div>\n",
       "<style scoped>\n",
       "    .dataframe tbody tr th:only-of-type {\n",
       "        vertical-align: middle;\n",
       "    }\n",
       "\n",
       "    .dataframe tbody tr th {\n",
       "        vertical-align: top;\n",
       "    }\n",
       "\n",
       "    .dataframe thead th {\n",
       "        text-align: right;\n",
       "    }\n",
       "</style>\n",
       "<table border=\"1\" class=\"dataframe\">\n",
       "  <thead>\n",
       "    <tr style=\"text-align: right;\">\n",
       "      <th></th>\n",
       "      <th>order_id</th>\n",
       "      <th>order_item_id</th>\n",
       "      <th>product_id</th>\n",
       "      <th>seller_id</th>\n",
       "      <th>shipping_limit_date</th>\n",
       "      <th>price</th>\n",
       "      <th>freight_value</th>\n",
       "    </tr>\n",
       "  </thead>\n",
       "  <tbody>\n",
       "    <tr>\n",
       "      <th>0</th>\n",
       "      <td>00010242fe8c5a6d1ba2dd792cb16214</td>\n",
       "      <td>1</td>\n",
       "      <td>4244733e06e7ecb4970a6e2683c13e61</td>\n",
       "      <td>48436dade18ac8b2bce089ec2a041202</td>\n",
       "      <td>2017-09-19 09:45:35</td>\n",
       "      <td>58.90</td>\n",
       "      <td>13.29</td>\n",
       "    </tr>\n",
       "    <tr>\n",
       "      <th>1</th>\n",
       "      <td>00018f77f2f0320c557190d7a144bdd3</td>\n",
       "      <td>1</td>\n",
       "      <td>e5f2d52b802189ee658865ca93d83a8f</td>\n",
       "      <td>dd7ddc04e1b6c2c614352b383efe2d36</td>\n",
       "      <td>2017-05-03 11:05:13</td>\n",
       "      <td>239.90</td>\n",
       "      <td>19.93</td>\n",
       "    </tr>\n",
       "    <tr>\n",
       "      <th>2</th>\n",
       "      <td>000229ec398224ef6ca0657da4fc703e</td>\n",
       "      <td>1</td>\n",
       "      <td>c777355d18b72b67abbeef9df44fd0fd</td>\n",
       "      <td>5b51032eddd242adc84c38acab88f23d</td>\n",
       "      <td>2018-01-18 14:48:30</td>\n",
       "      <td>199.00</td>\n",
       "      <td>17.87</td>\n",
       "    </tr>\n",
       "    <tr>\n",
       "      <th>3</th>\n",
       "      <td>00024acbcdf0a6daa1e931b038114c75</td>\n",
       "      <td>1</td>\n",
       "      <td>7634da152a4610f1595efa32f14722fc</td>\n",
       "      <td>9d7a1d34a5052409006425275ba1c2b4</td>\n",
       "      <td>2018-08-15 10:10:18</td>\n",
       "      <td>12.99</td>\n",
       "      <td>12.79</td>\n",
       "    </tr>\n",
       "    <tr>\n",
       "      <th>4</th>\n",
       "      <td>00042b26cf59d7ce69dfabb4e55b4fd9</td>\n",
       "      <td>1</td>\n",
       "      <td>ac6c3623068f30de03045865e4e10089</td>\n",
       "      <td>df560393f3a51e74553ab94004ba5c87</td>\n",
       "      <td>2017-02-13 13:57:51</td>\n",
       "      <td>199.90</td>\n",
       "      <td>18.14</td>\n",
       "    </tr>\n",
       "  </tbody>\n",
       "</table>\n",
       "</div>"
      ],
      "text/plain": [
       "                           order_id  order_item_id  \\\n",
       "0  00010242fe8c5a6d1ba2dd792cb16214              1   \n",
       "1  00018f77f2f0320c557190d7a144bdd3              1   \n",
       "2  000229ec398224ef6ca0657da4fc703e              1   \n",
       "3  00024acbcdf0a6daa1e931b038114c75              1   \n",
       "4  00042b26cf59d7ce69dfabb4e55b4fd9              1   \n",
       "\n",
       "                         product_id                         seller_id  \\\n",
       "0  4244733e06e7ecb4970a6e2683c13e61  48436dade18ac8b2bce089ec2a041202   \n",
       "1  e5f2d52b802189ee658865ca93d83a8f  dd7ddc04e1b6c2c614352b383efe2d36   \n",
       "2  c777355d18b72b67abbeef9df44fd0fd  5b51032eddd242adc84c38acab88f23d   \n",
       "3  7634da152a4610f1595efa32f14722fc  9d7a1d34a5052409006425275ba1c2b4   \n",
       "4  ac6c3623068f30de03045865e4e10089  df560393f3a51e74553ab94004ba5c87   \n",
       "\n",
       "   shipping_limit_date   price  freight_value  \n",
       "0  2017-09-19 09:45:35   58.90          13.29  \n",
       "1  2017-05-03 11:05:13  239.90          19.93  \n",
       "2  2018-01-18 14:48:30  199.00          17.87  \n",
       "3  2018-08-15 10:10:18   12.99          12.79  \n",
       "4  2017-02-13 13:57:51  199.90          18.14  "
      ]
     },
     "execution_count": 22,
     "metadata": {},
     "output_type": "execute_result"
    }
   ],
   "source": [
    "order_items.head()"
   ]
  },
  {
   "cell_type": "code",
   "execution_count": 23,
   "metadata": {},
   "outputs": [],
   "source": [
    "#date format change\n",
    "order_items['shipping_limit_date'] = pd.to_datetime(order_items['shipping_limit_date'], format=\"%Y-%m-%d %H:%M:%S\")"
   ]
  },
  {
   "cell_type": "code",
   "execution_count": 24,
   "metadata": {},
   "outputs": [
    {
     "name": "stdout",
     "output_type": "stream",
     "text": [
      "<class 'pandas.core.frame.DataFrame'>\n",
      "RangeIndex: 112650 entries, 0 to 112649\n",
      "Data columns (total 7 columns):\n",
      "order_id               112650 non-null object\n",
      "order_item_id          112650 non-null int64\n",
      "product_id             112650 non-null object\n",
      "seller_id              112650 non-null object\n",
      "shipping_limit_date    112650 non-null datetime64[ns]\n",
      "price                  112650 non-null float64\n",
      "freight_value          112650 non-null float64\n",
      "dtypes: datetime64[ns](1), float64(2), int64(1), object(3)\n",
      "memory usage: 6.0+ MB\n"
     ]
    }
   ],
   "source": [
    "order_items.info()"
   ]
  },
  {
   "cell_type": "code",
   "execution_count": 25,
   "metadata": {},
   "outputs": [
    {
     "data": {
      "text/html": [
       "<div>\n",
       "<style scoped>\n",
       "    .dataframe tbody tr th:only-of-type {\n",
       "        vertical-align: middle;\n",
       "    }\n",
       "\n",
       "    .dataframe tbody tr th {\n",
       "        vertical-align: top;\n",
       "    }\n",
       "\n",
       "    .dataframe thead th {\n",
       "        text-align: right;\n",
       "    }\n",
       "</style>\n",
       "<table border=\"1\" class=\"dataframe\">\n",
       "  <thead>\n",
       "    <tr style=\"text-align: right;\">\n",
       "      <th></th>\n",
       "      <th>order_item_id</th>\n",
       "      <th>price</th>\n",
       "      <th>freight_value</th>\n",
       "    </tr>\n",
       "  </thead>\n",
       "  <tbody>\n",
       "    <tr>\n",
       "      <th>count</th>\n",
       "      <td>112650.000000</td>\n",
       "      <td>112650.000000</td>\n",
       "      <td>112650.000000</td>\n",
       "    </tr>\n",
       "    <tr>\n",
       "      <th>mean</th>\n",
       "      <td>1.197834</td>\n",
       "      <td>120.653739</td>\n",
       "      <td>19.990320</td>\n",
       "    </tr>\n",
       "    <tr>\n",
       "      <th>std</th>\n",
       "      <td>0.705124</td>\n",
       "      <td>183.633928</td>\n",
       "      <td>15.806405</td>\n",
       "    </tr>\n",
       "    <tr>\n",
       "      <th>min</th>\n",
       "      <td>1.000000</td>\n",
       "      <td>0.850000</td>\n",
       "      <td>0.000000</td>\n",
       "    </tr>\n",
       "    <tr>\n",
       "      <th>25%</th>\n",
       "      <td>1.000000</td>\n",
       "      <td>39.900000</td>\n",
       "      <td>13.080000</td>\n",
       "    </tr>\n",
       "    <tr>\n",
       "      <th>50%</th>\n",
       "      <td>1.000000</td>\n",
       "      <td>74.990000</td>\n",
       "      <td>16.260000</td>\n",
       "    </tr>\n",
       "    <tr>\n",
       "      <th>75%</th>\n",
       "      <td>1.000000</td>\n",
       "      <td>134.900000</td>\n",
       "      <td>21.150000</td>\n",
       "    </tr>\n",
       "    <tr>\n",
       "      <th>max</th>\n",
       "      <td>21.000000</td>\n",
       "      <td>6735.000000</td>\n",
       "      <td>409.680000</td>\n",
       "    </tr>\n",
       "  </tbody>\n",
       "</table>\n",
       "</div>"
      ],
      "text/plain": [
       "       order_item_id          price  freight_value\n",
       "count  112650.000000  112650.000000  112650.000000\n",
       "mean        1.197834     120.653739      19.990320\n",
       "std         0.705124     183.633928      15.806405\n",
       "min         1.000000       0.850000       0.000000\n",
       "25%         1.000000      39.900000      13.080000\n",
       "50%         1.000000      74.990000      16.260000\n",
       "75%         1.000000     134.900000      21.150000\n",
       "max        21.000000    6735.000000     409.680000"
      ]
     },
     "execution_count": 25,
     "metadata": {},
     "output_type": "execute_result"
    }
   ],
   "source": [
    "order_items.describe()"
   ]
  },
  {
   "cell_type": "markdown",
   "metadata": {},
   "source": [
    "This means that there are at least one order in which there is 21 items on them."
   ]
  },
  {
   "cell_type": "markdown",
   "metadata": {},
   "source": [
    "### Products dataset"
   ]
  },
  {
   "cell_type": "code",
   "execution_count": 26,
   "metadata": {},
   "outputs": [
    {
     "data": {
      "text/html": [
       "<div>\n",
       "<style scoped>\n",
       "    .dataframe tbody tr th:only-of-type {\n",
       "        vertical-align: middle;\n",
       "    }\n",
       "\n",
       "    .dataframe tbody tr th {\n",
       "        vertical-align: top;\n",
       "    }\n",
       "\n",
       "    .dataframe thead th {\n",
       "        text-align: right;\n",
       "    }\n",
       "</style>\n",
       "<table border=\"1\" class=\"dataframe\">\n",
       "  <thead>\n",
       "    <tr style=\"text-align: right;\">\n",
       "      <th></th>\n",
       "      <th>product_id</th>\n",
       "      <th>product_category_name</th>\n",
       "      <th>product_name_lenght</th>\n",
       "      <th>product_description_lenght</th>\n",
       "      <th>product_photos_qty</th>\n",
       "      <th>product_weight_g</th>\n",
       "      <th>product_length_cm</th>\n",
       "      <th>product_height_cm</th>\n",
       "      <th>product_width_cm</th>\n",
       "    </tr>\n",
       "  </thead>\n",
       "  <tbody>\n",
       "    <tr>\n",
       "      <th>0</th>\n",
       "      <td>1e9e8ef04dbcff4541ed26657ea517e5</td>\n",
       "      <td>perfumaria</td>\n",
       "      <td>40.0</td>\n",
       "      <td>287.0</td>\n",
       "      <td>1.0</td>\n",
       "      <td>225.0</td>\n",
       "      <td>16.0</td>\n",
       "      <td>10.0</td>\n",
       "      <td>14.0</td>\n",
       "    </tr>\n",
       "    <tr>\n",
       "      <th>1</th>\n",
       "      <td>3aa071139cb16b67ca9e5dea641aaa2f</td>\n",
       "      <td>artes</td>\n",
       "      <td>44.0</td>\n",
       "      <td>276.0</td>\n",
       "      <td>1.0</td>\n",
       "      <td>1000.0</td>\n",
       "      <td>30.0</td>\n",
       "      <td>18.0</td>\n",
       "      <td>20.0</td>\n",
       "    </tr>\n",
       "    <tr>\n",
       "      <th>2</th>\n",
       "      <td>96bd76ec8810374ed1b65e291975717f</td>\n",
       "      <td>esporte_lazer</td>\n",
       "      <td>46.0</td>\n",
       "      <td>250.0</td>\n",
       "      <td>1.0</td>\n",
       "      <td>154.0</td>\n",
       "      <td>18.0</td>\n",
       "      <td>9.0</td>\n",
       "      <td>15.0</td>\n",
       "    </tr>\n",
       "    <tr>\n",
       "      <th>3</th>\n",
       "      <td>cef67bcfe19066a932b7673e239eb23d</td>\n",
       "      <td>bebes</td>\n",
       "      <td>27.0</td>\n",
       "      <td>261.0</td>\n",
       "      <td>1.0</td>\n",
       "      <td>371.0</td>\n",
       "      <td>26.0</td>\n",
       "      <td>4.0</td>\n",
       "      <td>26.0</td>\n",
       "    </tr>\n",
       "    <tr>\n",
       "      <th>4</th>\n",
       "      <td>9dc1a7de274444849c219cff195d0b71</td>\n",
       "      <td>utilidades_domesticas</td>\n",
       "      <td>37.0</td>\n",
       "      <td>402.0</td>\n",
       "      <td>4.0</td>\n",
       "      <td>625.0</td>\n",
       "      <td>20.0</td>\n",
       "      <td>17.0</td>\n",
       "      <td>13.0</td>\n",
       "    </tr>\n",
       "  </tbody>\n",
       "</table>\n",
       "</div>"
      ],
      "text/plain": [
       "                         product_id  product_category_name  \\\n",
       "0  1e9e8ef04dbcff4541ed26657ea517e5             perfumaria   \n",
       "1  3aa071139cb16b67ca9e5dea641aaa2f                  artes   \n",
       "2  96bd76ec8810374ed1b65e291975717f          esporte_lazer   \n",
       "3  cef67bcfe19066a932b7673e239eb23d                  bebes   \n",
       "4  9dc1a7de274444849c219cff195d0b71  utilidades_domesticas   \n",
       "\n",
       "   product_name_lenght  product_description_lenght  product_photos_qty  \\\n",
       "0                 40.0                       287.0                 1.0   \n",
       "1                 44.0                       276.0                 1.0   \n",
       "2                 46.0                       250.0                 1.0   \n",
       "3                 27.0                       261.0                 1.0   \n",
       "4                 37.0                       402.0                 4.0   \n",
       "\n",
       "   product_weight_g  product_length_cm  product_height_cm  product_width_cm  \n",
       "0             225.0               16.0               10.0              14.0  \n",
       "1            1000.0               30.0               18.0              20.0  \n",
       "2             154.0               18.0                9.0              15.0  \n",
       "3             371.0               26.0                4.0              26.0  \n",
       "4             625.0               20.0               17.0              13.0  "
      ]
     },
     "execution_count": 26,
     "metadata": {},
     "output_type": "execute_result"
    }
   ],
   "source": [
    "products.head()"
   ]
  },
  {
   "cell_type": "code",
   "execution_count": 27,
   "metadata": {},
   "outputs": [
    {
     "data": {
      "image/png": "[encoded data removed]",
      "text/plain": [
       "<Figure size 504x360 with 1 Axes>"
      ]
     },
     "metadata": {},
     "output_type": "display_data"
    }
   ],
   "source": [
    "#plot of the product category\n",
    "product_category_name = products.product_category_name.value_counts()\n",
    "product_category_name.plot(kind='pie', autopct = '%1.1f%%', pctdistance = 0.8, figsize=(7,5))\n",
    "#plt.legend(loc = \"right\", bbox_to_anchor = (1,0,1,1))\n",
    "plt.title('% of records by product_category_name');"
   ]
  },
  {
   "cell_type": "code",
   "execution_count": 28,
   "metadata": {},
   "outputs": [
    {
     "name": "stdout",
     "output_type": "stream",
     "text": [
      "number of different product_category_name:  73\n"
     ]
    }
   ],
   "source": [
    "print('number of different product_category_name: ', products['product_category_name'].nunique())"
   ]
  },
  {
   "cell_type": "markdown",
   "metadata": {},
   "source": [
    "As the plot indicates, there are too many categories to feed the system. Having 73 would mean that for feeding the network, the dummies would need to add before 73 columns more. For this reason, on the following data reduction, only the ones with a higher percentage will be taken for this analysis."
   ]
  },
  {
   "cell_type": "code",
   "execution_count": 29,
   "metadata": {},
   "outputs": [
    {
     "data": {
      "text/html": [
       "<div>\n",
       "<style scoped>\n",
       "    .dataframe tbody tr th:only-of-type {\n",
       "        vertical-align: middle;\n",
       "    }\n",
       "\n",
       "    .dataframe tbody tr th {\n",
       "        vertical-align: top;\n",
       "    }\n",
       "\n",
       "    .dataframe thead th {\n",
       "        text-align: right;\n",
       "    }\n",
       "</style>\n",
       "<table border=\"1\" class=\"dataframe\">\n",
       "  <thead>\n",
       "    <tr style=\"text-align: right;\">\n",
       "      <th></th>\n",
       "      <th>product_name_lenght</th>\n",
       "      <th>product_description_lenght</th>\n",
       "      <th>product_photos_qty</th>\n",
       "      <th>product_weight_g</th>\n",
       "      <th>product_length_cm</th>\n",
       "      <th>product_height_cm</th>\n",
       "      <th>product_width_cm</th>\n",
       "    </tr>\n",
       "  </thead>\n",
       "  <tbody>\n",
       "    <tr>\n",
       "      <th>count</th>\n",
       "      <td>32341.000000</td>\n",
       "      <td>32341.000000</td>\n",
       "      <td>32341.000000</td>\n",
       "      <td>32949.000000</td>\n",
       "      <td>32949.000000</td>\n",
       "      <td>32949.000000</td>\n",
       "      <td>32949.000000</td>\n",
       "    </tr>\n",
       "    <tr>\n",
       "      <th>mean</th>\n",
       "      <td>48.476949</td>\n",
       "      <td>771.495285</td>\n",
       "      <td>2.188986</td>\n",
       "      <td>2276.472488</td>\n",
       "      <td>30.815078</td>\n",
       "      <td>16.937661</td>\n",
       "      <td>23.196728</td>\n",
       "    </tr>\n",
       "    <tr>\n",
       "      <th>std</th>\n",
       "      <td>10.245741</td>\n",
       "      <td>635.115225</td>\n",
       "      <td>1.736766</td>\n",
       "      <td>4282.038731</td>\n",
       "      <td>16.914458</td>\n",
       "      <td>13.637554</td>\n",
       "      <td>12.079047</td>\n",
       "    </tr>\n",
       "    <tr>\n",
       "      <th>min</th>\n",
       "      <td>5.000000</td>\n",
       "      <td>4.000000</td>\n",
       "      <td>1.000000</td>\n",
       "      <td>0.000000</td>\n",
       "      <td>7.000000</td>\n",
       "      <td>2.000000</td>\n",
       "      <td>6.000000</td>\n",
       "    </tr>\n",
       "    <tr>\n",
       "      <th>25%</th>\n",
       "      <td>42.000000</td>\n",
       "      <td>339.000000</td>\n",
       "      <td>1.000000</td>\n",
       "      <td>300.000000</td>\n",
       "      <td>18.000000</td>\n",
       "      <td>8.000000</td>\n",
       "      <td>15.000000</td>\n",
       "    </tr>\n",
       "    <tr>\n",
       "      <th>50%</th>\n",
       "      <td>51.000000</td>\n",
       "      <td>595.000000</td>\n",
       "      <td>1.000000</td>\n",
       "      <td>700.000000</td>\n",
       "      <td>25.000000</td>\n",
       "      <td>13.000000</td>\n",
       "      <td>20.000000</td>\n",
       "    </tr>\n",
       "    <tr>\n",
       "      <th>75%</th>\n",
       "      <td>57.000000</td>\n",
       "      <td>972.000000</td>\n",
       "      <td>3.000000</td>\n",
       "      <td>1900.000000</td>\n",
       "      <td>38.000000</td>\n",
       "      <td>21.000000</td>\n",
       "      <td>30.000000</td>\n",
       "    </tr>\n",
       "    <tr>\n",
       "      <th>max</th>\n",
       "      <td>76.000000</td>\n",
       "      <td>3992.000000</td>\n",
       "      <td>20.000000</td>\n",
       "      <td>40425.000000</td>\n",
       "      <td>105.000000</td>\n",
       "      <td>105.000000</td>\n",
       "      <td>118.000000</td>\n",
       "    </tr>\n",
       "  </tbody>\n",
       "</table>\n",
       "</div>"
      ],
      "text/plain": [
       "       product_name_lenght  product_description_lenght  product_photos_qty  \\\n",
       "count         32341.000000                32341.000000        32341.000000   \n",
       "mean             48.476949                  771.495285            2.188986   \n",
       "std              10.245741                  635.115225            1.736766   \n",
       "min               5.000000                    4.000000            1.000000   \n",
       "25%              42.000000                  339.000000            1.000000   \n",
       "50%              51.000000                  595.000000            1.000000   \n",
       "75%              57.000000                  972.000000            3.000000   \n",
       "max              76.000000                 3992.000000           20.000000   \n",
       "\n",
       "       product_weight_g  product_length_cm  product_height_cm  \\\n",
       "count      32949.000000       32949.000000       32949.000000   \n",
       "mean        2276.472488          30.815078          16.937661   \n",
       "std         4282.038731          16.914458          13.637554   \n",
       "min            0.000000           7.000000           2.000000   \n",
       "25%          300.000000          18.000000           8.000000   \n",
       "50%          700.000000          25.000000          13.000000   \n",
       "75%         1900.000000          38.000000          21.000000   \n",
       "max        40425.000000         105.000000         105.000000   \n",
       "\n",
       "       product_width_cm  \n",
       "count      32949.000000  \n",
       "mean          23.196728  \n",
       "std           12.079047  \n",
       "min            6.000000  \n",
       "25%           15.000000  \n",
       "50%           20.000000  \n",
       "75%           30.000000  \n",
       "max          118.000000  "
      ]
     },
     "execution_count": 29,
     "metadata": {},
     "output_type": "execute_result"
    }
   ],
   "source": [
    "products.describe()"
   ]
  },
  {
   "cell_type": "code",
   "execution_count": 30,
   "metadata": {},
   "outputs": [
    {
     "data": {
      "text/plain": [
       "Index(['product_id', 'product_category_name', 'product_name_lenght',\n",
       "       'product_description_lenght', 'product_photos_qty', 'product_weight_g',\n",
       "       'product_length_cm', 'product_height_cm', 'product_width_cm'],\n",
       "      dtype='object')"
      ]
     },
     "execution_count": 30,
     "metadata": {},
     "output_type": "execute_result"
    }
   ],
   "source": [
    "products.columns"
   ]
  },
  {
   "cell_type": "markdown",
   "metadata": {},
   "source": [
    "It will be interesting to see how important is for the price and marketing the dimensions of the product and how it is announced (by photos, a good description or a precise title)."
   ]
  },
  {
   "cell_type": "markdown",
   "metadata": {},
   "source": [
    "### Seller dataset"
   ]
  },
  {
   "cell_type": "code",
   "execution_count": 31,
   "metadata": {},
   "outputs": [
    {
     "data": {
      "text/html": [
       "<div>\n",
       "<style scoped>\n",
       "    .dataframe tbody tr th:only-of-type {\n",
       "        vertical-align: middle;\n",
       "    }\n",
       "\n",
       "    .dataframe tbody tr th {\n",
       "        vertical-align: top;\n",
       "    }\n",
       "\n",
       "    .dataframe thead th {\n",
       "        text-align: right;\n",
       "    }\n",
       "</style>\n",
       "<table border=\"1\" class=\"dataframe\">\n",
       "  <thead>\n",
       "    <tr style=\"text-align: right;\">\n",
       "      <th></th>\n",
       "      <th>seller_id</th>\n",
       "      <th>seller_zip_code_prefix</th>\n",
       "      <th>seller_city</th>\n",
       "      <th>seller_state</th>\n",
       "    </tr>\n",
       "  </thead>\n",
       "  <tbody>\n",
       "    <tr>\n",
       "      <th>0</th>\n",
       "      <td>3442f8959a84dea7ee197c632cb2df15</td>\n",
       "      <td>13023</td>\n",
       "      <td>campinas</td>\n",
       "      <td>SP</td>\n",
       "    </tr>\n",
       "    <tr>\n",
       "      <th>1</th>\n",
       "      <td>d1b65fc7debc3361ea86b5f14c68d2e2</td>\n",
       "      <td>13844</td>\n",
       "      <td>mogi guacu</td>\n",
       "      <td>SP</td>\n",
       "    </tr>\n",
       "    <tr>\n",
       "      <th>2</th>\n",
       "      <td>ce3ad9de960102d0677a81f5d0bb7b2d</td>\n",
       "      <td>20031</td>\n",
       "      <td>rio de janeiro</td>\n",
       "      <td>RJ</td>\n",
       "    </tr>\n",
       "    <tr>\n",
       "      <th>3</th>\n",
       "      <td>c0f3eea2e14555b6faeea3dd58c1b1c3</td>\n",
       "      <td>4195</td>\n",
       "      <td>sao paulo</td>\n",
       "      <td>SP</td>\n",
       "    </tr>\n",
       "    <tr>\n",
       "      <th>4</th>\n",
       "      <td>51a04a8a6bdcb23deccc82b0b80742cf</td>\n",
       "      <td>12914</td>\n",
       "      <td>braganca paulista</td>\n",
       "      <td>SP</td>\n",
       "    </tr>\n",
       "  </tbody>\n",
       "</table>\n",
       "</div>"
      ],
      "text/plain": [
       "                          seller_id  seller_zip_code_prefix  \\\n",
       "0  3442f8959a84dea7ee197c632cb2df15                   13023   \n",
       "1  d1b65fc7debc3361ea86b5f14c68d2e2                   13844   \n",
       "2  ce3ad9de960102d0677a81f5d0bb7b2d                   20031   \n",
       "3  c0f3eea2e14555b6faeea3dd58c1b1c3                    4195   \n",
       "4  51a04a8a6bdcb23deccc82b0b80742cf                   12914   \n",
       "\n",
       "         seller_city seller_state  \n",
       "0           campinas           SP  \n",
       "1         mogi guacu           SP  \n",
       "2     rio de janeiro           RJ  \n",
       "3          sao paulo           SP  \n",
       "4  braganca paulista           SP  "
      ]
     },
     "execution_count": 31,
     "metadata": {},
     "output_type": "execute_result"
    }
   ],
   "source": [
    "sellers.head()"
   ]
  },
  {
   "cell_type": "markdown",
   "metadata": {},
   "source": [
    "### Geolocation dataset"
   ]
  },
  {
   "cell_type": "code",
   "execution_count": 32,
   "metadata": {},
   "outputs": [
    {
     "data": {
      "text/html": [
       "<div>\n",
       "<style scoped>\n",
       "    .dataframe tbody tr th:only-of-type {\n",
       "        vertical-align: middle;\n",
       "    }\n",
       "\n",
       "    .dataframe tbody tr th {\n",
       "        vertical-align: top;\n",
       "    }\n",
       "\n",
       "    .dataframe thead th {\n",
       "        text-align: right;\n",
       "    }\n",
       "</style>\n",
       "<table border=\"1\" class=\"dataframe\">\n",
       "  <thead>\n",
       "    <tr style=\"text-align: right;\">\n",
       "      <th></th>\n",
       "      <th>geolocation_zip_code_prefix</th>\n",
       "      <th>geolocation_lat</th>\n",
       "      <th>geolocation_lng</th>\n",
       "      <th>geolocation_city</th>\n",
       "      <th>geolocation_state</th>\n",
       "    </tr>\n",
       "  </thead>\n",
       "  <tbody>\n",
       "    <tr>\n",
       "      <th>0</th>\n",
       "      <td>1037</td>\n",
       "      <td>-23.545621</td>\n",
       "      <td>-46.639292</td>\n",
       "      <td>sao paulo</td>\n",
       "      <td>SP</td>\n",
       "    </tr>\n",
       "    <tr>\n",
       "      <th>1</th>\n",
       "      <td>1046</td>\n",
       "      <td>-23.546081</td>\n",
       "      <td>-46.644820</td>\n",
       "      <td>sao paulo</td>\n",
       "      <td>SP</td>\n",
       "    </tr>\n",
       "    <tr>\n",
       "      <th>2</th>\n",
       "      <td>1046</td>\n",
       "      <td>-23.546129</td>\n",
       "      <td>-46.642951</td>\n",
       "      <td>sao paulo</td>\n",
       "      <td>SP</td>\n",
       "    </tr>\n",
       "    <tr>\n",
       "      <th>3</th>\n",
       "      <td>1041</td>\n",
       "      <td>-23.544392</td>\n",
       "      <td>-46.639499</td>\n",
       "      <td>sao paulo</td>\n",
       "      <td>SP</td>\n",
       "    </tr>\n",
       "    <tr>\n",
       "      <th>4</th>\n",
       "      <td>1035</td>\n",
       "      <td>-23.541578</td>\n",
       "      <td>-46.641607</td>\n",
       "      <td>sao paulo</td>\n",
       "      <td>SP</td>\n",
       "    </tr>\n",
       "  </tbody>\n",
       "</table>\n",
       "</div>"
      ],
      "text/plain": [
       "   geolocation_zip_code_prefix  geolocation_lat  geolocation_lng  \\\n",
       "0                         1037       -23.545621       -46.639292   \n",
       "1                         1046       -23.546081       -46.644820   \n",
       "2                         1046       -23.546129       -46.642951   \n",
       "3                         1041       -23.544392       -46.639499   \n",
       "4                         1035       -23.541578       -46.641607   \n",
       "\n",
       "  geolocation_city geolocation_state  \n",
       "0        sao paulo                SP  \n",
       "1        sao paulo                SP  \n",
       "2        sao paulo                SP  \n",
       "3        sao paulo                SP  \n",
       "4        sao paulo                SP  "
      ]
     },
     "execution_count": 32,
     "metadata": {},
     "output_type": "execute_result"
    }
   ],
   "source": [
    "geolocation.head()"
   ]
  },
  {
   "cell_type": "code",
   "execution_count": 33,
   "metadata": {
    "scrolled": true
   },
   "outputs": [
    {
     "data": {
      "text/plain": [
       "array(['sao paulo', 'são paulo', 'sao bernardo do campo', ..., 'ciríaco',\n",
       "       'estação', 'vila lângaro'], dtype=object)"
      ]
     },
     "execution_count": 33,
     "metadata": {},
     "output_type": "execute_result"
    }
   ],
   "source": [
    "geolocation.geolocation_city.unique()"
   ]
  },
  {
   "cell_type": "code",
   "execution_count": 34,
   "metadata": {},
   "outputs": [
    {
     "name": "stdout",
     "output_type": "stream",
     "text": [
      "the number of different cities is:  8011\n",
      "the number of different states is:  27\n"
     ]
    }
   ],
   "source": [
    "print(\"the number of different cities is: \", geolocation.geolocation_city.nunique())\n",
    "print(\"the number of different states is: \", geolocation.geolocation_state.nunique())"
   ]
  },
  {
   "cell_type": "code",
   "execution_count": 35,
   "metadata": {},
   "outputs": [
    {
     "name": "stdout",
     "output_type": "stream",
     "text": [
      "<class 'pandas.core.frame.DataFrame'>\n",
      "RangeIndex: 1000163 entries, 0 to 1000162\n",
      "Data columns (total 5 columns):\n",
      "geolocation_zip_code_prefix    1000163 non-null int64\n",
      "geolocation_lat                1000163 non-null float64\n",
      "geolocation_lng                1000163 non-null float64\n",
      "geolocation_city               1000163 non-null object\n",
      "geolocation_state              1000163 non-null object\n",
      "dtypes: float64(2), int64(1), object(2)\n",
      "memory usage: 38.2+ MB\n"
     ]
    }
   ],
   "source": [
    "geolocation.info()"
   ]
  },
  {
   "cell_type": "markdown",
   "metadata": {},
   "source": [
    "In this case, we find several problems on understanding the possible future problems of adding information from these dataset. The first of all is the big amount of categorical data from the column \"city\". Due to the computing capacity we would need to reduce this information to the \"state\" column. If we want to consider the state, latitude, longitud and the ZIP code can be a problem. This is becase the huge amount of different points for each of the states, that can lead to misinterpretation by the computer"
   ]
  },
  {
   "cell_type": "markdown",
   "metadata": {},
   "source": [
    "### Merge datasets and drops"
   ]
  },
  {
   "cell_type": "code",
   "execution_count": 36,
   "metadata": {},
   "outputs": [],
   "source": [
    "#Reduction of the amount of orders due to computing capacity\n",
    "orders_small = orders.sample(n=20000, random_state=0) "
   ]
  },
  {
   "cell_type": "code",
   "execution_count": 37,
   "metadata": {},
   "outputs": [],
   "source": [
    "data = orders_small.merge(order_items, on=['order_id'], how='left')"
   ]
  },
  {
   "cell_type": "code",
   "execution_count": 38,
   "metadata": {},
   "outputs": [],
   "source": [
    "data = data.merge(customers, on=['customer_id'], how='left')"
   ]
  },
  {
   "cell_type": "code",
   "execution_count": 39,
   "metadata": {},
   "outputs": [],
   "source": [
    "data = data.merge(order_reviews, on=['order_id'], how='left')"
   ]
  },
  {
   "cell_type": "code",
   "execution_count": 40,
   "metadata": {},
   "outputs": [],
   "source": [
    "data = data.merge(order_payments, on=['order_id'], how='left')"
   ]
  },
  {
   "cell_type": "code",
   "execution_count": 41,
   "metadata": {},
   "outputs": [],
   "source": [
    "data = data.merge(products, on=['product_id'], how='left')"
   ]
  },
  {
   "cell_type": "code",
   "execution_count": 42,
   "metadata": {},
   "outputs": [],
   "source": [
    "data = data.merge(sellers, on=['seller_id'],  how='left')"
   ]
  },
  {
   "cell_type": "code",
   "execution_count": 43,
   "metadata": {},
   "outputs": [],
   "source": [
    "#Filtering only for the delivered records\n",
    "data = data.loc[data['order_status_delivered'] == 1]"
   ]
  },
  {
   "cell_type": "code",
   "execution_count": 44,
   "metadata": {},
   "outputs": [],
   "source": [
    "#drop of the order status\n",
    "order_status_columns = ['order_status_approved', 'order_status_canceled',\n",
    "       'order_status_created', 'order_status_delivered',\n",
    "       'order_status_invoiced', 'order_status_processing',\n",
    "       'order_status_shipped', 'order_status_unavailable']\n",
    "data = data.drop(order_status_columns, axis=1)"
   ]
  },
  {
   "cell_type": "code",
   "execution_count": 45,
   "metadata": {},
   "outputs": [],
   "source": [
    "#Filtering only for the defined payment type\n",
    "data = data.loc[data['payment_type_not_defined'] == 0]"
   ]
  },
  {
   "cell_type": "code",
   "execution_count": 46,
   "metadata": {},
   "outputs": [],
   "source": [
    "#drop of the column payment_type_not_defined\n",
    "data = data.drop('payment_type_not_defined', axis=1)"
   ]
  },
  {
   "cell_type": "code",
   "execution_count": 47,
   "metadata": {},
   "outputs": [
    {
     "data": {
      "text/plain": [
       "Index(['cama_mesa_banho', 'esporte_lazer', 'moveis_decoracao', 'beleza_saude',\n",
       "       'utilidades_domesticas', 'automotivo', 'informatica_acessorios',\n",
       "       'brinquedos', 'relogios_presentes', 'telefonia'],\n",
       "      dtype='object')"
      ]
     },
     "execution_count": 47,
     "metadata": {},
     "output_type": "execute_result"
    }
   ],
   "source": [
    "#Extraction of the 10 most important categories\n",
    "product_category_name = products.product_category_name.value_counts()\n",
    "categories = product_category_name[:10].index\n",
    "categories"
   ]
  },
  {
   "cell_type": "code",
   "execution_count": 48,
   "metadata": {},
   "outputs": [],
   "source": [
    "#Filtering only the most important categories\n",
    "data = data.loc[data.product_category_name.isin(categories)] "
   ]
  },
  {
   "cell_type": "markdown",
   "metadata": {},
   "source": [
    "For understanding how our variables interact between each other, it is useful to look at the correlation matrix plot:"
   ]
  },
  {
   "cell_type": "code",
   "execution_count": 49,
   "metadata": {},
   "outputs": [
    {
     "data": {
      "image/png": "[encoded data removed]",
      "text/plain": [
       "<Figure size 1008x720 with 2 Axes>"
      ]
     },
     "metadata": {
      "needs_background": "light"
     },
     "output_type": "display_data"
    }
   ],
   "source": [
    "correlations = data.corr()\n",
    "f = plt.figure(figsize=(14, 10))\n",
    "plt.matshow(correlations, fignum=f.number)\n",
    "plt.xticks(range(correlations.shape[1]), correlations.columns, fontsize=14, rotation = 90)\n",
    "plt.yticks(range(correlations.shape[1]), correlations.columns, fontsize=14)\n",
    "cb = plt.colorbar()"
   ]
  },
  {
   "cell_type": "markdown",
   "metadata": {},
   "source": [
    "As we can see. all the relationships makes sense. Freight value is very related with the dimensions and weight of the product, and with the price. The dimensios of the products are very related between them. The payment type also gives information of combinations of them. "
   ]
  },
  {
   "cell_type": "code",
   "execution_count": 50,
   "metadata": {},
   "outputs": [],
   "source": [
    "#dummies for the categories of the product\n",
    "data = pd.get_dummies(data, columns = ['product_category_name'])"
   ]
  },
  {
   "cell_type": "code",
   "execution_count": 51,
   "metadata": {},
   "outputs": [],
   "source": [
    "#drops for city info\n",
    "drops = ['customer_city', 'seller_city']\n",
    "data = data.drop(drops, axis=1)"
   ]
  },
  {
   "cell_type": "code",
   "execution_count": 52,
   "metadata": {},
   "outputs": [],
   "source": [
    "#dummies for the state variable\n",
    "dummies = ['customer_state', 'seller_state']\n",
    "data = pd.get_dummies(data, columns = dummies)"
   ]
  },
  {
   "cell_type": "code",
   "execution_count": 53,
   "metadata": {},
   "outputs": [],
   "source": [
    "#drops of the comments dataset\n",
    "reviews_comments_columns =['order_id', 'customer_id', 'order_purchase_timestamp', 'order_item_id', 'product_id', 'seller_id',\n",
    "                           'review_id', 'review_score',\n",
    "                           'review_comment_title', 'review_comment_message', 'review_creation_date', 'review_answer_timestamp']\n",
    "reviews_comments_data = data[reviews_comments_columns]\n",
    "drops = ['review_comment_title', 'review_comment_message', 'review_creation_date', 'review_answer_timestamp']\n",
    "data = data.drop(drops, axis=1)"
   ]
  },
  {
   "cell_type": "code",
   "execution_count": 54,
   "metadata": {},
   "outputs": [],
   "source": [
    "data = data.dropna()"
   ]
  },
  {
   "cell_type": "code",
   "execution_count": 55,
   "metadata": {},
   "outputs": [],
   "source": [
    "data = data.reset_index(drop = True)"
   ]
  },
  {
   "cell_type": "code",
   "execution_count": 56,
   "metadata": {
    "scrolled": true
   },
   "outputs": [
    {
     "name": "stdout",
     "output_type": "stream",
     "text": [
      "<class 'pandas.core.frame.DataFrame'>\n",
      "RangeIndex: 14686 entries, 0 to 14685\n",
      "Data columns (total 90 columns):\n",
      "order_id                                        14686 non-null object\n",
      "customer_id                                     14686 non-null object\n",
      "order_purchase_timestamp                        14686 non-null datetime64[ns]\n",
      "order_approved_at                               14686 non-null datetime64[ns]\n",
      "order_delivered_carrier_date                    14686 non-null datetime64[ns]\n",
      "order_delivered_customer_date                   14686 non-null datetime64[ns]\n",
      "order_estimated_delivery_date                   14686 non-null datetime64[ns]\n",
      "order_item_id                                   14686 non-null float64\n",
      "product_id                                      14686 non-null object\n",
      "seller_id                                       14686 non-null object\n",
      "shipping_limit_date                             14686 non-null datetime64[ns]\n",
      "price                                           14686 non-null float64\n",
      "freight_value                                   14686 non-null float64\n",
      "customer_unique_id                              14686 non-null object\n",
      "customer_zip_code_prefix                        14686 non-null int64\n",
      "review_id                                       14686 non-null object\n",
      "review_score                                    14686 non-null int64\n",
      "payment_sequential                              14686 non-null int64\n",
      "payment_installments                            14686 non-null int64\n",
      "payment_value                                   14686 non-null float64\n",
      "payment_type_boleto                             14686 non-null uint8\n",
      "payment_type_credit_card                        14686 non-null uint8\n",
      "payment_type_debit_card                         14686 non-null uint8\n",
      "payment_type_voucher                            14686 non-null uint8\n",
      "product_name_lenght                             14686 non-null float64\n",
      "product_description_lenght                      14686 non-null float64\n",
      "product_photos_qty                              14686 non-null float64\n",
      "product_weight_g                                14686 non-null float64\n",
      "product_length_cm                               14686 non-null float64\n",
      "product_height_cm                               14686 non-null float64\n",
      "product_width_cm                                14686 non-null float64\n",
      "seller_zip_code_prefix                          14686 non-null float64\n",
      "product_category_name_automotivo                14686 non-null uint8\n",
      "product_category_name_beleza_saude              14686 non-null uint8\n",
      "product_category_name_brinquedos                14686 non-null uint8\n",
      "product_category_name_cama_mesa_banho           14686 non-null uint8\n",
      "product_category_name_esporte_lazer             14686 non-null uint8\n",
      "product_category_name_informatica_acessorios    14686 non-null uint8\n",
      "product_category_name_moveis_decoracao          14686 non-null uint8\n",
      "product_category_name_relogios_presentes        14686 non-null uint8\n",
      "product_category_name_telefonia                 14686 non-null uint8\n",
      "product_category_name_utilidades_domesticas     14686 non-null uint8\n",
      "customer_state_AC                               14686 non-null uint8\n",
      "customer_state_AL                               14686 non-null uint8\n",
      "customer_state_AM                               14686 non-null uint8\n",
      "customer_state_AP                               14686 non-null uint8\n",
      "customer_state_BA                               14686 non-null uint8\n",
      "customer_state_CE                               14686 non-null uint8\n",
      "customer_state_DF                               14686 non-null uint8\n",
      "customer_state_ES                               14686 non-null uint8\n",
      "customer_state_GO                               14686 non-null uint8\n",
      "customer_state_MA                               14686 non-null uint8\n",
      "customer_state_MG                               14686 non-null uint8\n",
      "customer_state_MS                               14686 non-null uint8\n",
      "customer_state_MT                               14686 non-null uint8\n",
      "customer_state_PA                               14686 non-null uint8\n",
      "customer_state_PB                               14686 non-null uint8\n",
      "customer_state_PE                               14686 non-null uint8\n",
      "customer_state_PI                               14686 non-null uint8\n",
      "customer_state_PR                               14686 non-null uint8\n",
      "customer_state_RJ                               14686 non-null uint8\n",
      "customer_state_RN                               14686 non-null uint8\n",
      "customer_state_RO                               14686 non-null uint8\n",
      "customer_state_RR                               14686 non-null uint8\n",
      "customer_state_RS                               14686 non-null uint8\n",
      "customer_state_SC                               14686 non-null uint8\n",
      "customer_state_SE                               14686 non-null uint8\n",
      "customer_state_SP                               14686 non-null uint8\n",
      "customer_state_TO                               14686 non-null uint8\n",
      "seller_state_AM                                 14686 non-null uint8\n",
      "seller_state_BA                                 14686 non-null uint8\n",
      "seller_state_CE                                 14686 non-null uint8\n",
      "seller_state_DF                                 14686 non-null uint8\n",
      "seller_state_ES                                 14686 non-null uint8\n",
      "seller_state_GO                                 14686 non-null uint8\n",
      "seller_state_MA                                 14686 non-null uint8\n",
      "seller_state_MG                                 14686 non-null uint8\n",
      "seller_state_MS                                 14686 non-null uint8\n",
      "seller_state_MT                                 14686 non-null uint8\n",
      "seller_state_PB                                 14686 non-null uint8\n",
      "seller_state_PE                                 14686 non-null uint8\n",
      "seller_state_PI                                 14686 non-null uint8\n",
      "seller_state_PR                                 14686 non-null uint8\n",
      "seller_state_RJ                                 14686 non-null uint8\n",
      "seller_state_RN                                 14686 non-null uint8\n",
      "seller_state_RO                                 14686 non-null uint8\n",
      "seller_state_RS                                 14686 non-null uint8\n",
      "seller_state_SC                                 14686 non-null uint8\n",
      "seller_state_SE                                 14686 non-null uint8\n",
      "seller_state_SP                                 14686 non-null uint8\n",
      "dtypes: datetime64[ns](6), float64(12), int64(4), object(6), uint8(62)\n",
      "memory usage: 4.0+ MB\n"
     ]
    }
   ],
   "source": [
    "data.info()"
   ]
  },
  {
   "cell_type": "code",
   "execution_count": 57,
   "metadata": {
    "scrolled": false
   },
   "outputs": [
    {
     "data": {
      "text/html": [
       "<div>\n",
       "<style scoped>\n",
       "    .dataframe tbody tr th:only-of-type {\n",
       "        vertical-align: middle;\n",
       "    }\n",
       "\n",
       "    .dataframe tbody tr th {\n",
       "        vertical-align: top;\n",
       "    }\n",
       "\n",
       "    .dataframe thead th {\n",
       "        text-align: right;\n",
       "    }\n",
       "</style>\n",
       "<table border=\"1\" class=\"dataframe\">\n",
       "  <thead>\n",
       "    <tr style=\"text-align: right;\">\n",
       "      <th></th>\n",
       "      <th>order_id</th>\n",
       "      <th>customer_id</th>\n",
       "      <th>order_purchase_timestamp</th>\n",
       "      <th>order_approved_at</th>\n",
       "      <th>order_delivered_carrier_date</th>\n",
       "      <th>order_delivered_customer_date</th>\n",
       "      <th>order_estimated_delivery_date</th>\n",
       "      <th>order_item_id</th>\n",
       "      <th>product_id</th>\n",
       "      <th>seller_id</th>\n",
       "      <th>...</th>\n",
       "      <th>seller_state_PE</th>\n",
       "      <th>seller_state_PI</th>\n",
       "      <th>seller_state_PR</th>\n",
       "      <th>seller_state_RJ</th>\n",
       "      <th>seller_state_RN</th>\n",
       "      <th>seller_state_RO</th>\n",
       "      <th>seller_state_RS</th>\n",
       "      <th>seller_state_SC</th>\n",
       "      <th>seller_state_SE</th>\n",
       "      <th>seller_state_SP</th>\n",
       "    </tr>\n",
       "  </thead>\n",
       "  <tbody>\n",
       "    <tr>\n",
       "      <th>0</th>\n",
       "      <td>6b07198fae1bb61de16e845a92fc876f</td>\n",
       "      <td>92932704db71729a8f947b9ffdce4c99</td>\n",
       "      <td>2017-02-06 21:14:15</td>\n",
       "      <td>2017-02-06 21:25:13</td>\n",
       "      <td>2017-02-13 14:14:57</td>\n",
       "      <td>2017-02-17 12:11:59</td>\n",
       "      <td>2017-03-15</td>\n",
       "      <td>1.0</td>\n",
       "      <td>a1efe4a86746c22541813e22e1d23e33</td>\n",
       "      <td>da8622b14eb17ae2831f4ac5b9dab84a</td>\n",
       "      <td>...</td>\n",
       "      <td>0</td>\n",
       "      <td>0</td>\n",
       "      <td>0</td>\n",
       "      <td>0</td>\n",
       "      <td>0</td>\n",
       "      <td>0</td>\n",
       "      <td>0</td>\n",
       "      <td>0</td>\n",
       "      <td>0</td>\n",
       "      <td>1</td>\n",
       "    </tr>\n",
       "    <tr>\n",
       "      <th>1</th>\n",
       "      <td>66c8850e9f6bc2f81873165c41901706</td>\n",
       "      <td>b77e9f78e46a3fb8102d77740a2263da</td>\n",
       "      <td>2018-04-01 18:09:28</td>\n",
       "      <td>2018-04-01 18:27:51</td>\n",
       "      <td>2018-04-02 19:36:42</td>\n",
       "      <td>2018-04-03 12:22:34</td>\n",
       "      <td>2018-04-12</td>\n",
       "      <td>1.0</td>\n",
       "      <td>34e4f6bc7f4c44bdc0581b78aba124e1</td>\n",
       "      <td>1838dd9b8977065acf51d95e0053ea7a</td>\n",
       "      <td>...</td>\n",
       "      <td>0</td>\n",
       "      <td>0</td>\n",
       "      <td>0</td>\n",
       "      <td>0</td>\n",
       "      <td>0</td>\n",
       "      <td>0</td>\n",
       "      <td>0</td>\n",
       "      <td>0</td>\n",
       "      <td>0</td>\n",
       "      <td>0</td>\n",
       "    </tr>\n",
       "    <tr>\n",
       "      <th>2</th>\n",
       "      <td>c7ab4f518d1a47c3f78768c41c887d1b</td>\n",
       "      <td>f48f0e3bbe7fa6985141518b1d7264ce</td>\n",
       "      <td>2018-08-09 13:59:38</td>\n",
       "      <td>2018-08-11 02:55:27</td>\n",
       "      <td>2018-08-14 10:11:00</td>\n",
       "      <td>2018-08-27 20:04:23</td>\n",
       "      <td>2018-08-20</td>\n",
       "      <td>1.0</td>\n",
       "      <td>b7a812ed1b86b3b00e566dc29ba7ec7c</td>\n",
       "      <td>640e21a7d01df7614a3b4923e990d40c</td>\n",
       "      <td>...</td>\n",
       "      <td>0</td>\n",
       "      <td>0</td>\n",
       "      <td>0</td>\n",
       "      <td>0</td>\n",
       "      <td>0</td>\n",
       "      <td>0</td>\n",
       "      <td>0</td>\n",
       "      <td>0</td>\n",
       "      <td>0</td>\n",
       "      <td>1</td>\n",
       "    </tr>\n",
       "    <tr>\n",
       "      <th>3</th>\n",
       "      <td>0ff22bde315f6d0807028be76d9e736d</td>\n",
       "      <td>8125090a4744adfbe6d3940abeeb859b</td>\n",
       "      <td>2018-06-25 08:23:10</td>\n",
       "      <td>2018-06-27 09:11:47</td>\n",
       "      <td>2018-06-27 09:20:00</td>\n",
       "      <td>2018-07-05 12:36:25</td>\n",
       "      <td>2018-07-31</td>\n",
       "      <td>1.0</td>\n",
       "      <td>b75a056d7d03227c3a3b60e9ccf518c9</td>\n",
       "      <td>3f995f07c49d0d55a99d5c54957f7d81</td>\n",
       "      <td>...</td>\n",
       "      <td>0</td>\n",
       "      <td>0</td>\n",
       "      <td>0</td>\n",
       "      <td>0</td>\n",
       "      <td>0</td>\n",
       "      <td>0</td>\n",
       "      <td>0</td>\n",
       "      <td>0</td>\n",
       "      <td>0</td>\n",
       "      <td>1</td>\n",
       "    </tr>\n",
       "    <tr>\n",
       "      <th>4</th>\n",
       "      <td>5bbd189785115bc937623b13f25fcb78</td>\n",
       "      <td>e8f40c9ffd0d29d9176fcc2e97e8b29f</td>\n",
       "      <td>2018-03-19 23:53:36</td>\n",
       "      <td>2018-03-20 00:45:35</td>\n",
       "      <td>2018-03-22 20:48:48</td>\n",
       "      <td>2018-04-23 16:42:37</td>\n",
       "      <td>2018-04-12</td>\n",
       "      <td>1.0</td>\n",
       "      <td>7b67d49bc14fc6014038578cb4eca3cd</td>\n",
       "      <td>f12ff17ad8bbf01ec5c33b17e506649b</td>\n",
       "      <td>...</td>\n",
       "      <td>0</td>\n",
       "      <td>0</td>\n",
       "      <td>0</td>\n",
       "      <td>0</td>\n",
       "      <td>0</td>\n",
       "      <td>0</td>\n",
       "      <td>0</td>\n",
       "      <td>0</td>\n",
       "      <td>0</td>\n",
       "      <td>1</td>\n",
       "    </tr>\n",
       "  </tbody>\n",
       "</table>\n",
       "<p>5 rows × 90 columns</p>\n",
       "</div>"
      ],
      "text/plain": [
       "                           order_id                       customer_id  \\\n",
       "0  6b07198fae1bb61de16e845a92fc876f  92932704db71729a8f947b9ffdce4c99   \n",
       "1  66c8850e9f6bc2f81873165c41901706  b77e9f78e46a3fb8102d77740a2263da   \n",
       "2  c7ab4f518d1a47c3f78768c41c887d1b  f48f0e3bbe7fa6985141518b1d7264ce   \n",
       "3  0ff22bde315f6d0807028be76d9e736d  8125090a4744adfbe6d3940abeeb859b   \n",
       "4  5bbd189785115bc937623b13f25fcb78  e8f40c9ffd0d29d9176fcc2e97e8b29f   \n",
       "\n",
       "  order_purchase_timestamp   order_approved_at order_delivered_carrier_date  \\\n",
       "0      2017-02-06 21:14:15 2017-02-06 21:25:13          2017-02-13 14:14:57   \n",
       "1      2018-04-01 18:09:28 2018-04-01 18:27:51          2018-04-02 19:36:42   \n",
       "2      2018-08-09 13:59:38 2018-08-11 02:55:27          2018-08-14 10:11:00   \n",
       "3      2018-06-25 08:23:10 2018-06-27 09:11:47          2018-06-27 09:20:00   \n",
       "4      2018-03-19 23:53:36 2018-03-20 00:45:35          2018-03-22 20:48:48   \n",
       "\n",
       "  order_delivered_customer_date order_estimated_delivery_date  order_item_id  \\\n",
       "0           2017-02-17 12:11:59                    2017-03-15            1.0   \n",
       "1           2018-04-03 12:22:34                    2018-04-12            1.0   \n",
       "2           2018-08-27 20:04:23                    2018-08-20            1.0   \n",
       "3           2018-07-05 12:36:25                    2018-07-31            1.0   \n",
       "4           2018-04-23 16:42:37                    2018-04-12            1.0   \n",
       "\n",
       "                         product_id                         seller_id  ...  \\\n",
       "0  a1efe4a86746c22541813e22e1d23e33  da8622b14eb17ae2831f4ac5b9dab84a  ...   \n",
       "1  34e4f6bc7f4c44bdc0581b78aba124e1  1838dd9b8977065acf51d95e0053ea7a  ...   \n",
       "2  b7a812ed1b86b3b00e566dc29ba7ec7c  640e21a7d01df7614a3b4923e990d40c  ...   \n",
       "3  b75a056d7d03227c3a3b60e9ccf518c9  3f995f07c49d0d55a99d5c54957f7d81  ...   \n",
       "4  7b67d49bc14fc6014038578cb4eca3cd  f12ff17ad8bbf01ec5c33b17e506649b  ...   \n",
       "\n",
       "  seller_state_PE  seller_state_PI  seller_state_PR seller_state_RJ  \\\n",
       "0               0                0                0               0   \n",
       "1               0                0                0               0   \n",
       "2               0                0                0               0   \n",
       "3               0                0                0               0   \n",
       "4               0                0                0               0   \n",
       "\n",
       "   seller_state_RN seller_state_RO  seller_state_RS  seller_state_SC  \\\n",
       "0                0               0                0                0   \n",
       "1                0               0                0                0   \n",
       "2                0               0                0                0   \n",
       "3                0               0                0                0   \n",
       "4                0               0                0                0   \n",
       "\n",
       "   seller_state_SE  seller_state_SP  \n",
       "0                0                1  \n",
       "1                0                0  \n",
       "2                0                1  \n",
       "3                0                1  \n",
       "4                0                1  \n",
       "\n",
       "[5 rows x 90 columns]"
      ]
     },
     "execution_count": 57,
     "metadata": {},
     "output_type": "execute_result"
    }
   ],
   "source": [
    "data.head()"
   ]
  },
  {
   "cell_type": "markdown",
   "metadata": {},
   "source": [
    "# Product quality analysis"
   ]
  },
  {
   "cell_type": "markdown",
   "metadata": {},
   "source": [
    "One of the main issues of an e-commerce company is to address the dissatisfaction from the customers. It is one of the main attributes that evaluate some of the most important characteristics of the company, like their popularity, growth or customer trust. For this reason, it is so important to understand where are the weak points of the company in these terms and how they can solve these problems, or at least, to know which can be a potentially angry customer. The following study will be focused on predicting this issue, by predicting which would be the rating considering other inputs of the sell. This solution will allow the company to take actions for avoiding a situation where the reputation of the company can be damaged."
   ]
  },
  {
   "cell_type": "markdown",
   "metadata": {},
   "source": [
    "For implementing this solution, the target variable for the prediction will be the score from the customer (\"review_score\"). Throughout the project, several prediction models will be presented, analyzed and evaluated."
   ]
  },
  {
   "cell_type": "code",
   "execution_count": 60,
   "metadata": {},
   "outputs": [],
   "source": [
    "data2 = data.copy()"
   ]
  },
  {
   "cell_type": "code",
   "execution_count": 61,
   "metadata": {
    "scrolled": true
   },
   "outputs": [
    {
     "data": {
      "image/png": "[encoded data removed]",
      "text/plain": [
       "<Figure size 432x288 with 1 Axes>"
      ]
     },
     "metadata": {
      "needs_background": "light"
     },
     "output_type": "display_data"
    }
   ],
   "source": [
    "plt.hist(data['review_score'])\n",
    "plt.title(\"Number of review scores\")\n",
    "plt.ylabel(\"# of records\")\n",
    "plt.xlabel(\"Review score\");"
   ]
  },
  {
   "cell_type": "markdown",
   "metadata": {},
   "source": [
    "As we can see, even the vast majority is satisfied, there are still a lot of bad reviews."
   ]
  },
  {
   "cell_type": "code",
   "execution_count": 62,
   "metadata": {},
   "outputs": [
    {
     "data": {
      "image/png": "[encoded data removed]",
      "text/plain": [
       "<Figure size 1008x720 with 1 Axes>"
      ]
     },
     "metadata": {
      "needs_background": "light"
     },
     "output_type": "display_data"
    }
   ],
   "source": [
    "time_s = data2.groupby(data['order_purchase_timestamp'].dt.strftime('%w %y %B '))['review_score'].mean()\n",
    "plt.figure(figsize=(14, 10))\n",
    "plt.plot(time_s)\n",
    "plt.ylabel('Review score')\n",
    "plt.xlabel('Date')\n",
    "plt.title(\"Review score time-series\");"
   ]
  },
  {
   "cell_type": "markdown",
   "metadata": {},
   "source": [
    "With this time-series graphic, for our dataset, we can see that apart of some peaks that are normal, is justified the usage of  the entire dataset in terms of timestamp."
   ]
  },
  {
   "cell_type": "markdown",
   "metadata": {},
   "source": [
    "### Dataset split: Train/validation/test"
   ]
  },
  {
   "cell_type": "markdown",
   "metadata": {},
   "source": [
    "For selecting the variables used in this analysis, we have our focus in the following six areas:\n",
    "\n",
    "    - Price of the product and the shipment\n",
    "    - Payment type\n",
    "    - Expectations: (how good is descripted the product will affect on the final output)\n",
    "    - Dimensions of the product\n",
    "    - Category of the product\n",
    "    - Location of the customer and the seller(by state)"
   ]
  },
  {
   "cell_type": "code",
   "execution_count": 163,
   "metadata": {},
   "outputs": [],
   "source": [
    "features_to_use = ['price', 'freight_value','payment_sequential','payment_installments','payment_value','payment_type_boleto',\n",
    "'payment_type_credit_card','payment_type_debit_card','payment_type_voucher','product_name_lenght','product_description_lenght',\n",
    "'product_photos_qty','product_weight_g','product_length_cm','product_height_cm','product_width_cm','product_category_name_automotivo',\n",
    "'product_category_name_beleza_saude','product_category_name_brinquedos','product_category_name_cama_mesa_banho',\n",
    "'product_category_name_esporte_lazer','product_category_name_informatica_acessorios','product_category_name_moveis_decoracao',\n",
    "'product_category_name_relogios_presentes','product_category_name_telefonia','product_category_name_utilidades_domesticas',\n",
    "'customer_state_AC','customer_state_AL','customer_state_AM','customer_state_AP','customer_state_BA','customer_state_CE',\n",
    "'customer_state_DF','customer_state_ES','customer_state_GO','customer_state_MA','customer_state_MG','customer_state_MS',\n",
    "'customer_state_MT','customer_state_PA','customer_state_PB','customer_state_PE','customer_state_PI','customer_state_PR',\n",
    "'customer_state_RJ','customer_state_RN','customer_state_RO','customer_state_RR','customer_state_RS','customer_state_SC',\n",
    "'customer_state_SE','customer_state_SP','customer_state_TO','seller_state_BA','seller_state_CE',\n",
    "'seller_state_DF','seller_state_ES','seller_state_GO','seller_state_MA','seller_state_MG','seller_state_MS','seller_state_MT',\n",
    "'seller_state_PB','seller_state_PE','seller_state_PI','seller_state_PR','seller_state_RJ','seller_state_RN',\n",
    "'seller_state_RS','seller_state_SC','seller_state_SE','seller_state_SP','seller_state_SC','seller_state_SE','seller_state_SP']\n",
    "\n",
    "continuous_features_to_use = ['price', 'freight_value','payment_sequential','payment_installments','product_name_lenght','product_description_lenght',\n",
    "'product_photos_qty','product_weight_g','product_length_cm','product_height_cm','product_width_cm' ]\n",
    "\n",
    "target_variable = 'review_score'"
   ]
  },
  {
   "cell_type": "code",
   "execution_count": 64,
   "metadata": {},
   "outputs": [],
   "source": [
    "#Shuffling for not allowing the order condition the results\n",
    "data = data.sample(frac=1)"
   ]
  },
  {
   "cell_type": "code",
   "execution_count": 66,
   "metadata": {},
   "outputs": [],
   "source": [
    "data = data.reset_index(drop=True)"
   ]
  },
  {
   "cell_type": "code",
   "execution_count": 164,
   "metadata": {},
   "outputs": [
    {
     "name": "stdout",
     "output_type": "stream",
     "text": [
      "Num train records: 7344\n",
      "Num val records: 2937\n",
      "Num test records: 4405\n"
     ]
    }
   ],
   "source": [
    "train_perc = 0.5\n",
    "val_perc = 0.2\n",
    "split_point_1 = int(train_perc*len(data))\n",
    "split_point_2 = int(val_perc*len(data))+split_point_1\n",
    "X_train = data.loc[:split_point_1, features_to_use]\n",
    "X_val = data.loc[(split_point_1+1):split_point_2, features_to_use]\n",
    "X_test = data.loc[(split_point_2+1):, features_to_use]\n",
    "y_train = data.loc[:split_point_1, target_variable]\n",
    "y_val = data.loc[(split_point_1+1):split_point_2, target_variable]\n",
    "y_test = data.loc[(split_point_2+1):, target_variable]\n",
    "\n",
    "print(\"Num train records: %d\" % len(X_train))\n",
    "print(\"Num val records: %d\" % len(X_val))\n",
    "print(\"Num test records: %d\" % len(X_test))"
   ]
  },
  {
   "cell_type": "markdown",
   "metadata": {},
   "source": [
    "##### Data standarization"
   ]
  },
  {
   "cell_type": "markdown",
   "metadata": {},
   "source": [
    "For helping the model not to have biases because of the order of magnitude of the variables, is necessary to make an standarization for at least the continuous variables like in the following steps:"
   ]
  },
  {
   "cell_type": "code",
   "execution_count": 165,
   "metadata": {},
   "outputs": [],
   "source": [
    "X_train_mean = X_train.loc[:,continuous_features_to_use].mean(axis=0)\n",
    "X_train_std = X_train.loc[:,continuous_features_to_use].std(axis=0)\n",
    "X_train.loc[:,continuous_features_to_use] = (X_train.loc[:,continuous_features_to_use] - X_train_mean) / X_train_std\n",
    "\n",
    "X_val_mean = X_val.loc[:,continuous_features_to_use].mean(axis=0)\n",
    "X_val_std = X_val.loc[:,continuous_features_to_use].std(axis=0)\n",
    "X_val.loc[:,continuous_features_to_use] = (X_val.loc[:,continuous_features_to_use] - X_val_mean) / X_val_std\n",
    "\n",
    "X_test_mean = X_test.loc[:,continuous_features_to_use].mean(axis=0)\n",
    "X_test_std = X_test.loc[:,continuous_features_to_use].std(axis=0)\n",
    "X_test.loc[:,continuous_features_to_use] = (X_test.loc[:,continuous_features_to_use] - X_test_mean) / X_test_std"
   ]
  },
  {
   "cell_type": "markdown",
   "metadata": {},
   "source": [
    "# Prediction Models #"
   ]
  },
  {
   "cell_type": "markdown",
   "metadata": {},
   "source": [
    "As an starting point, it has been decided to considered this prediction model as a classification problem. It is true, that it is not a real classification problem in which the bins for the score reviews have no numerical connection between them, but it is a good approximation. The issue is that with this approach, is that for example, the idea of having a \"2\" as a score review is not as bad as having a \"1\", will be lost. "
   ]
  },
  {
   "cell_type": "markdown",
   "metadata": {},
   "source": [
    "In any case, this model can fit really well with this approximation, because as it has been presented on the analysis, the main bins for this dataset, are the \"1\" and the \"5\" score. Having a continuous approximation, would mean that for evaluate its functionality, creating a range between 1 and 1.5 for a score of \"1\" will be smaller than 1.5 and 2.5 for a rate of \"2\". This, can create a bias in the result, as the main scores (\"1\" and \"5\") will have a smaller bins than the \"not that relevant\" ones (\"2\", \"3\", \"4\")."
   ]
  },
  {
   "cell_type": "markdown",
   "metadata": {},
   "source": [
    "### Regular Classifiers"
   ]
  },
  {
   "cell_type": "code",
   "execution_count": 87,
   "metadata": {},
   "outputs": [],
   "source": [
    "'''Classifiers'''\n",
    "from sklearn.dummy import DummyClassifier\n",
    "from sklearn.linear_model import LogisticRegression\n",
    "from sklearn.tree import DecisionTreeClassifier\n",
    "from sklearn.ensemble import RandomForestClassifier, AdaBoostClassifier\n",
    "from sklearn.neighbors import KNeighborsClassifier\n",
    "\n",
    "from sklearn.model_selection import train_test_split\n",
    "from sklearn.model_selection import GridSearchCV\n",
    "from sklearn.metrics import accuracy_score, precision_score, recall_score, f1_score, roc_curve, auc, confusion_matrix\n",
    "from scipy import interp\n",
    "from itertools import cycle"
   ]
  },
  {
   "cell_type": "code",
   "execution_count": 166,
   "metadata": {
    "scrolled": true
   },
   "outputs": [
    {
     "name": "stdout",
     "output_type": "stream",
     "text": [
      "0\n"
     ]
    },
    {
     "name": "stderr",
     "output_type": "stream",
     "text": [
      "C:\\Users\\guest\\Anaconda3\\lib\\site-packages\\sklearn\\svm\\base.py:929: ConvergenceWarning: Liblinear failed to converge, increase the number of iterations.\n",
      "  \"the number of iterations.\", ConvergenceWarning)\n",
      "C:\\Users\\guest\\Anaconda3\\lib\\site-packages\\sklearn\\metrics\\classification.py:1437: UndefinedMetricWarning: Precision is ill-defined and being set to 0.0 in labels with no predicted samples.\n",
      "  'precision', 'predicted', average, warn_for)\n",
      "C:\\Users\\guest\\Anaconda3\\lib\\site-packages\\sklearn\\metrics\\classification.py:1437: UndefinedMetricWarning: F-score is ill-defined and being set to 0.0 in labels with no predicted samples.\n",
      "  'precision', 'predicted', average, warn_for)\n",
      "C:\\Users\\guest\\Anaconda3\\lib\\site-packages\\sklearn\\linear_model\\logistic.py:432: FutureWarning: Default solver will be changed to 'lbfgs' in 0.22. Specify a solver to silence this warning.\n",
      "  FutureWarning)\n",
      "C:\\Users\\guest\\Anaconda3\\lib\\site-packages\\sklearn\\linear_model\\logistic.py:469: FutureWarning: Default multi_class will be changed to 'auto' in 0.22. Specify the multi_class option to silence this warning.\n",
      "  \"this warning.\", FutureWarning)\n"
     ]
    },
    {
     "name": "stdout",
     "output_type": "stream",
     "text": [
      "1\n"
     ]
    },
    {
     "name": "stderr",
     "output_type": "stream",
     "text": [
      "C:\\Users\\guest\\Anaconda3\\lib\\site-packages\\sklearn\\metrics\\classification.py:1437: UndefinedMetricWarning: Precision is ill-defined and being set to 0.0 in labels with no predicted samples.\n",
      "  'precision', 'predicted', average, warn_for)\n",
      "C:\\Users\\guest\\Anaconda3\\lib\\site-packages\\sklearn\\metrics\\classification.py:1437: UndefinedMetricWarning: F-score is ill-defined and being set to 0.0 in labels with no predicted samples.\n",
      "  'precision', 'predicted', average, warn_for)\n"
     ]
    },
    {
     "name": "stdout",
     "output_type": "stream",
     "text": [
      "2\n",
      "3\n",
      "4\n",
      "5\n"
     ]
    },
    {
     "name": "stderr",
     "output_type": "stream",
     "text": [
      "C:\\Users\\guest\\Anaconda3\\lib\\site-packages\\sklearn\\metrics\\classification.py:1437: UndefinedMetricWarning: Precision is ill-defined and being set to 0.0 in labels with no predicted samples.\n",
      "  'precision', 'predicted', average, warn_for)\n",
      "C:\\Users\\guest\\Anaconda3\\lib\\site-packages\\sklearn\\metrics\\classification.py:1437: UndefinedMetricWarning: F-score is ill-defined and being set to 0.0 in labels with no predicted samples.\n",
      "  'precision', 'predicted', average, warn_for)\n"
     ]
    },
    {
     "name": "stdout",
     "output_type": "stream",
     "text": [
      "6\n"
     ]
    },
    {
     "data": {
      "text/html": [
       "<div>\n",
       "<style scoped>\n",
       "    .dataframe tbody tr th:only-of-type {\n",
       "        vertical-align: middle;\n",
       "    }\n",
       "\n",
       "    .dataframe tbody tr th {\n",
       "        vertical-align: top;\n",
       "    }\n",
       "\n",
       "    .dataframe thead th {\n",
       "        text-align: right;\n",
       "    }\n",
       "</style>\n",
       "<table border=\"1\" class=\"dataframe\">\n",
       "  <thead>\n",
       "    <tr style=\"text-align: right;\">\n",
       "      <th></th>\n",
       "      <th>model_name</th>\n",
       "      <th>accuracy_score</th>\n",
       "      <th>precision_score</th>\n",
       "      <th>recall_score</th>\n",
       "      <th>f1_score</th>\n",
       "    </tr>\n",
       "  </thead>\n",
       "  <tbody>\n",
       "    <tr>\n",
       "      <th>3</th>\n",
       "      <td>Random Forest</td>\n",
       "      <td>0.616345</td>\n",
       "      <td>0.65198</td>\n",
       "      <td>0.340906</td>\n",
       "      <td>0.385265</td>\n",
       "    </tr>\n",
       "    <tr>\n",
       "      <th>4</th>\n",
       "      <td>Decision Tree</td>\n",
       "      <td>0.450624</td>\n",
       "      <td>0.319496</td>\n",
       "      <td>0.32663</td>\n",
       "      <td>0.322076</td>\n",
       "    </tr>\n",
       "    <tr>\n",
       "      <th>6</th>\n",
       "      <td>K Nearest Neighbor</td>\n",
       "      <td>0.478774</td>\n",
       "      <td>0.294901</td>\n",
       "      <td>0.263813</td>\n",
       "      <td>0.271697</td>\n",
       "    </tr>\n",
       "    <tr>\n",
       "      <th>2</th>\n",
       "      <td>Dummy</td>\n",
       "      <td>0.382293</td>\n",
       "      <td>0.189398</td>\n",
       "      <td>0.190408</td>\n",
       "      <td>0.189749</td>\n",
       "    </tr>\n",
       "    <tr>\n",
       "      <th>5</th>\n",
       "      <td>AdaBoost</td>\n",
       "      <td>0.567083</td>\n",
       "      <td>0.295158</td>\n",
       "      <td>0.210376</td>\n",
       "      <td>0.169321</td>\n",
       "    </tr>\n",
       "    <tr>\n",
       "      <th>1</th>\n",
       "      <td>Logistic Regression</td>\n",
       "      <td>0.569807</td>\n",
       "      <td>0.234056</td>\n",
       "      <td>0.208956</td>\n",
       "      <td>0.165514</td>\n",
       "    </tr>\n",
       "    <tr>\n",
       "      <th>0</th>\n",
       "      <td>SVC</td>\n",
       "      <td>0.568899</td>\n",
       "      <td>0.147249</td>\n",
       "      <td>0.200089</td>\n",
       "      <td>0.145606</td>\n",
       "    </tr>\n",
       "  </tbody>\n",
       "</table>\n",
       "</div>"
      ],
      "text/plain": [
       "            model_name accuracy_score precision_score recall_score  f1_score\n",
       "3        Random Forest       0.616345         0.65198     0.340906  0.385265\n",
       "4        Decision Tree       0.450624        0.319496      0.32663  0.322076\n",
       "6   K Nearest Neighbor       0.478774        0.294901     0.263813  0.271697\n",
       "2                Dummy       0.382293        0.189398     0.190408  0.189749\n",
       "5             AdaBoost       0.567083        0.295158     0.210376  0.169321\n",
       "1  Logistic Regression       0.569807        0.234056     0.208956  0.165514\n",
       "0                  SVC       0.568899        0.147249     0.200089  0.145606"
      ]
     },
     "execution_count": 166,
     "metadata": {},
     "output_type": "execute_result"
    }
   ],
   "source": [
    "from sklearn.svm import LinearSVC\n",
    "#Creating a dict of the models\n",
    "model_dict = {'SVC': LinearSVC(),\n",
    "              'Logistic Regression': LogisticRegression(random_state=0),\n",
    "              'Dummy' : DummyClassifier(random_state=0),\n",
    "              'Random Forest': RandomForestClassifier(random_state=0,n_estimators=100,n_jobs=-1),\n",
    "              'Decision Tree': DecisionTreeClassifier(random_state=0),\n",
    "              'AdaBoost': AdaBoostClassifier(random_state=0),\n",
    "              'K Nearest Neighbor': KNeighborsClassifier()\n",
    "              }\n",
    "\n",
    "#Function to get the scores for each model in a df\n",
    "def model_score_df(model_dict): \n",
    "    cont = 0\n",
    "    model_name, ac_score_list, p_score_list, r_score_list, f1_score_list = [], [], [], [], []\n",
    "    for k,v in model_dict.items():  \n",
    "        print(cont)\n",
    "        model_name.append(k)\n",
    "        v.fit(X_train, y_train)\n",
    "        y_pred = v.predict(X_test)\n",
    "        ac_score_list.append(accuracy_score(y_test, y_pred))\n",
    "        p_score_list.append(precision_score(y_test, y_pred, average='macro'))\n",
    "        r_score_list.append(recall_score(y_test, y_pred, average='macro'))\n",
    "        f1_score_list.append(f1_score(y_test, y_pred, average='macro'))\n",
    "        model_comparison_df = pd.DataFrame([model_name, ac_score_list, p_score_list, r_score_list, f1_score_list]).T\n",
    "        model_comparison_df.columns = ['model_name', 'accuracy_score', 'precision_score', 'recall_score', 'f1_score']\n",
    "        model_comparison_df = model_comparison_df.sort_values(by='f1_score', ascending=False)\n",
    "        cont+=1\n",
    "    return model_comparison_df\n",
    "\n",
    "model_score_df(model_dict)"
   ]
  },
  {
   "cell_type": "code",
   "execution_count": 167,
   "metadata": {},
   "outputs": [
    {
     "data": {
      "image/png": "[encoded data removed]",
      "text/plain": [
       "<Figure size 432x288 with 1 Axes>"
      ]
     },
     "metadata": {
      "needs_background": "light"
     },
     "output_type": "display_data"
    }
   ],
   "source": [
    "importances = model_dict['Random Forest'].feature_importances_\n",
    "std = np.std([tree.feature_importances_ for tree in model_dict['Random Forest'].estimators_],\n",
    "             axis=0)\n",
    "indices = np.argsort(importances)[::-1]\n",
    "plt.figure()\n",
    "plt.title(\"Feature importances\")\n",
    "plt.barh(range(10), importances[indices][:10][::-1],\n",
    "       color=\"r\", yerr=std[indices][:10][::-1],tick_label=np.array(features_to_use)[indices][:10][::-1],\n",
    "       align=\"center\")\n",
    "plt.xlim([0, 0.2])\n",
    "plt.show()"
   ]
  },
  {
   "cell_type": "markdown",
   "metadata": {},
   "source": [
    "From the results we can easily see how difficult is to our model working with our dataset. Considering the Dummy classifier as the baseline, we can see that others like AdaBoost, the logistic regression or the Support Vector Machine. In this case, the Random Forest has gotten the best results on on all the different measures but it still has weak effectiveness."
   ]
  },
  {
   "cell_type": "markdown",
   "metadata": {},
   "source": [
    "Regarding the different features that are relevant to understanding the model, is remarkable that there are no location variables on the top 10. However, it seems that all the thing related to the price, is really important for the customer, something that is predictable, considering the human behaviour."
   ]
  },
  {
   "cell_type": "markdown",
   "metadata": {},
   "source": [
    "# Neural Network Models #"
   ]
  },
  {
   "cell_type": "markdown",
   "metadata": {},
   "source": [
    "One step forward, would be the application of a neural network model. The capacity for understanding the different variables maybe will help to improve another aspects like the recall and f1 score"
   ]
  },
  {
   "cell_type": "code",
   "execution_count": 96,
   "metadata": {},
   "outputs": [],
   "source": [
    "#As we will use the sparse categorical crossentropy is necessary to downgrade to 0 the first value of the target variables and in consequence, the rest of the values\n",
    "y_train = y_train-1"
   ]
  },
  {
   "cell_type": "code",
   "execution_count": 97,
   "metadata": {},
   "outputs": [],
   "source": [
    "y_val = y_val-1\n",
    "y_test = y_test-1"
   ]
  },
  {
   "cell_type": "markdown",
   "metadata": {},
   "source": [
    "We use sparse categorical function to avoid encoding the target variables in a one-hot encoding format."
   ]
  },
  {
   "cell_type": "code",
   "execution_count": 99,
   "metadata": {},
   "outputs": [
    {
     "name": "stdout",
     "output_type": "stream",
     "text": [
      "Train on 7344 samples, validate on 2937 samples\n",
      "Epoch 1/50\n",
      "7344/7344 [==============================] - 0s 40us/step - loss: 2.3458 - accuracy: 0.3122 - val_loss: 1.4376 - val_accuracy: 0.5506\n",
      "Epoch 2/50\n",
      "7344/7344 [==============================] - 0s 21us/step - loss: 1.3925 - accuracy: 0.5583 - val_loss: 1.3634 - val_accuracy: 0.5666\n",
      "Epoch 3/50\n",
      "7344/7344 [==============================] - 0s 21us/step - loss: 1.3089 - accuracy: 0.5611 - val_loss: 1.2782 - val_accuracy: 0.5649\n",
      "Epoch 4/50\n",
      "7344/7344 [==============================] - 0s 17us/step - loss: 1.2529 - accuracy: 0.5624 - val_loss: 1.2495 - val_accuracy: 0.5679\n",
      "Epoch 5/50\n",
      "7344/7344 [==============================] - 0s 15us/step - loss: 1.2347 - accuracy: 0.5635 - val_loss: 1.2394 - val_accuracy: 0.5669\n",
      "Epoch 6/50\n",
      "7344/7344 [==============================] - 0s 17us/step - loss: 1.2205 - accuracy: 0.5637 - val_loss: 1.2340 - val_accuracy: 0.5666\n",
      "Epoch 7/50\n",
      "7344/7344 [==============================] - 0s 15us/step - loss: 1.2142 - accuracy: 0.5637 - val_loss: 1.2240 - val_accuracy: 0.5666\n",
      "Epoch 8/50\n",
      "7344/7344 [==============================] - 0s 16us/step - loss: 1.2086 - accuracy: 0.5636 - val_loss: 1.2228 - val_accuracy: 0.5676\n",
      "Epoch 9/50\n",
      "7344/7344 [==============================] - 0s 17us/step - loss: 1.2065 - accuracy: 0.5648 - val_loss: 1.2232 - val_accuracy: 0.5679\n",
      "Epoch 10/50\n",
      "7344/7344 [==============================] - 0s 15us/step - loss: 1.2058 - accuracy: 0.5622 - val_loss: 1.2156 - val_accuracy: 0.5689\n",
      "Epoch 11/50\n",
      "7344/7344 [==============================] - 0s 16us/step - loss: 1.2025 - accuracy: 0.5644 - val_loss: 1.2161 - val_accuracy: 0.5686\n",
      "Epoch 12/50\n",
      "7344/7344 [==============================] - 0s 16us/step - loss: 1.2028 - accuracy: 0.5644 - val_loss: 1.2139 - val_accuracy: 0.5689\n",
      "Epoch 13/50\n",
      "7344/7344 [==============================] - 0s 15us/step - loss: 1.2013 - accuracy: 0.5647 - val_loss: 1.2155 - val_accuracy: 0.5666\n",
      "Epoch 14/50\n",
      "7344/7344 [==============================] - 0s 15us/step - loss: 1.1983 - accuracy: 0.5643 - val_loss: 1.2118 - val_accuracy: 0.5689\n",
      "Epoch 15/50\n",
      "7344/7344 [==============================] - 0s 16us/step - loss: 1.1949 - accuracy: 0.5651 - val_loss: 1.2107 - val_accuracy: 0.5659\n",
      "Epoch 16/50\n",
      "7344/7344 [==============================] - 0s 16us/step - loss: 1.1949 - accuracy: 0.5648 - val_loss: 1.2192 - val_accuracy: 0.5655\n",
      "Epoch 17/50\n",
      "7344/7344 [==============================] - 0s 16us/step - loss: 1.1942 - accuracy: 0.5648 - val_loss: 1.2089 - val_accuracy: 0.5679\n",
      "Epoch 18/50\n",
      "7344/7344 [==============================] - 0s 18us/step - loss: 1.1916 - accuracy: 0.5658 - val_loss: 1.2087 - val_accuracy: 0.5655\n",
      "Epoch 19/50\n",
      "7344/7344 [==============================] - 0s 20us/step - loss: 1.1917 - accuracy: 0.5647 - val_loss: 1.2143 - val_accuracy: 0.5652\n",
      "Epoch 20/50\n",
      "7344/7344 [==============================] - 0s 19us/step - loss: 1.1905 - accuracy: 0.5658 - val_loss: 1.2080 - val_accuracy: 0.5652\n",
      "Epoch 21/50\n",
      "7344/7344 [==============================] - 0s 20us/step - loss: 1.1894 - accuracy: 0.5650 - val_loss: 1.2114 - val_accuracy: 0.5679\n",
      "Epoch 22/50\n",
      "7344/7344 [==============================] - 0s 20us/step - loss: 1.1898 - accuracy: 0.5641 - val_loss: 1.2159 - val_accuracy: 0.5655\n",
      "Epoch 23/50\n",
      "7344/7344 [==============================] - 0s 19us/step - loss: 1.1902 - accuracy: 0.5662 - val_loss: 1.2065 - val_accuracy: 0.5655\n",
      "Epoch 24/50\n",
      "7344/7344 [==============================] - 0s 21us/step - loss: 1.1897 - accuracy: 0.5641 - val_loss: 1.2088 - val_accuracy: 0.5652\n",
      "Epoch 25/50\n",
      "7344/7344 [==============================] - 0s 18us/step - loss: 1.1878 - accuracy: 0.5655 - val_loss: 1.2134 - val_accuracy: 0.5696\n",
      "Epoch 26/50\n",
      "7344/7344 [==============================] - 0s 20us/step - loss: 1.1908 - accuracy: 0.5651 - val_loss: 1.2081 - val_accuracy: 0.5679\n",
      "Epoch 27/50\n",
      "7344/7344 [==============================] - 0s 27us/step - loss: 1.1848 - accuracy: 0.5664 - val_loss: 1.2076 - val_accuracy: 0.5652\n",
      "Epoch 28/50\n",
      "7344/7344 [==============================] - 0s 27us/step - loss: 1.1937 - accuracy: 0.5656 - val_loss: 1.2137 - val_accuracy: 0.5672\n",
      "Epoch 29/50\n",
      "7344/7344 [==============================] - 0s 26us/step - loss: 1.1886 - accuracy: 0.5647 - val_loss: 1.2195 - val_accuracy: 0.5655\n",
      "Epoch 30/50\n",
      "7344/7344 [==============================] - 0s 25us/step - loss: 1.1863 - accuracy: 0.5650 - val_loss: 1.2140 - val_accuracy: 0.5642\n",
      "Epoch 31/50\n",
      "7344/7344 [==============================] - 0s 27us/step - loss: 1.1846 - accuracy: 0.5658 - val_loss: 1.2108 - val_accuracy: 0.5662\n",
      "Epoch 32/50\n",
      "7344/7344 [==============================] - 0s 26us/step - loss: 1.1872 - accuracy: 0.5650 - val_loss: 1.2155 - val_accuracy: 0.5696\n",
      "Epoch 33/50\n",
      "7344/7344 [==============================] - 0s 25us/step - loss: 1.1871 - accuracy: 0.5656 - val_loss: 1.2108 - val_accuracy: 0.5662\n",
      "Epoch 34/50\n",
      "7344/7344 [==============================] - 0s 26us/step - loss: 1.1862 - accuracy: 0.5658 - val_loss: 1.2072 - val_accuracy: 0.5686\n",
      "Epoch 35/50\n",
      "7344/7344 [==============================] - 0s 26us/step - loss: 1.1821 - accuracy: 0.5662 - val_loss: 1.2082 - val_accuracy: 0.5655\n",
      "Epoch 36/50\n",
      "7344/7344 [==============================] - 0s 25us/step - loss: 1.1820 - accuracy: 0.5662 - val_loss: 1.2069 - val_accuracy: 0.5655\n",
      "Epoch 37/50\n",
      "7344/7344 [==============================] - 0s 23us/step - loss: 1.1829 - accuracy: 0.5659 - val_loss: 1.2069 - val_accuracy: 0.5649\n",
      "Epoch 38/50\n",
      "7344/7344 [==============================] - 0s 27us/step - loss: 1.1815 - accuracy: 0.5659 - val_loss: 1.2213 - val_accuracy: 0.5662\n",
      "Epoch 39/50\n",
      "7344/7344 [==============================] - 0s 23us/step - loss: 1.1824 - accuracy: 0.5658 - val_loss: 1.2061 - val_accuracy: 0.5666\n",
      "Epoch 40/50\n",
      "7344/7344 [==============================] - 0s 23us/step - loss: 1.1846 - accuracy: 0.5662 - val_loss: 1.2069 - val_accuracy: 0.5693\n",
      "Epoch 41/50\n",
      "7344/7344 [==============================] - 0s 23us/step - loss: 1.1814 - accuracy: 0.5664 - val_loss: 1.2105 - val_accuracy: 0.5652\n",
      "Epoch 42/50\n",
      "7344/7344 [==============================] - 0s 28us/step - loss: 1.1842 - accuracy: 0.5662 - val_loss: 1.2097 - val_accuracy: 0.5683\n",
      "Epoch 43/50\n",
      "7344/7344 [==============================] - 0s 27us/step - loss: 1.1837 - accuracy: 0.5667 - val_loss: 1.2139 - val_accuracy: 0.5686\n",
      "Epoch 44/50\n",
      "7344/7344 [==============================] - 0s 27us/step - loss: 1.1805 - accuracy: 0.5655 - val_loss: 1.2078 - val_accuracy: 0.5686\n",
      "Epoch 45/50\n",
      "7344/7344 [==============================] - 0s 24us/step - loss: 1.1813 - accuracy: 0.5658 - val_loss: 1.2077 - val_accuracy: 0.5666\n",
      "Epoch 46/50\n",
      "7344/7344 [==============================] - 0s 24us/step - loss: 1.1847 - accuracy: 0.5669 - val_loss: 1.2345 - val_accuracy: 0.5608\n",
      "Epoch 47/50\n",
      "7344/7344 [==============================] - 0s 25us/step - loss: 1.1849 - accuracy: 0.5662 - val_loss: 1.2063 - val_accuracy: 0.5662\n",
      "Epoch 48/50\n",
      "7344/7344 [==============================] - 0s 29us/step - loss: 1.1817 - accuracy: 0.5666 - val_loss: 1.2074 - val_accuracy: 0.5689\n",
      "Epoch 49/50\n",
      "7344/7344 [==============================] - 0s 28us/step - loss: 1.1791 - accuracy: 0.5660 - val_loss: 1.2115 - val_accuracy: 0.5686\n",
      "Epoch 50/50\n",
      "7344/7344 [==============================] - 0s 26us/step - loss: 1.1808 - accuracy: 0.5670 - val_loss: 1.2104 - val_accuracy: 0.5655\n"
     ]
    }
   ],
   "source": [
    "# define the keras model\n",
    "model = Sequential()\n",
    "model.add(Dense(10,activation='relu',input_shape=(75,)))\n",
    "model.add(Dense(10,activation='relu'))\n",
    "model.add(Dense(10,activation='relu'))\n",
    "model.add(Dense(5,activation='softmax'))\n",
    "\n",
    "# compile the keras model\n",
    "model.compile(loss='sparse_categorical_crossentropy', optimizer='adam', metrics=['accuracy'])\n",
    "\n",
    "# fit the keras model on the dataset\n",
    "history = model.fit(X_train, y_train, validation_data = (X_val,y_val), epochs=50, batch_size=128)\n"
   ]
  },
  {
   "cell_type": "code",
   "execution_count": 101,
   "metadata": {},
   "outputs": [],
   "source": [
    "from sklearn.metrics import classification_report\n",
    "target_names = ['Rating: 1', 'Rating: 2', 'Rating: 3','Rating: 4','Rating: 5']\n",
    "y_pred = model.predict(X_test)\n"
   ]
  },
  {
   "cell_type": "markdown",
   "metadata": {},
   "source": [
    "The argmax function is used to get the final model prediction, because the model outputs a 5-dimensional vector in the beggining (vector of probabilities), but we want the label with the highest probability or confidence score."
   ]
  },
  {
   "cell_type": "code",
   "execution_count": 102,
   "metadata": {},
   "outputs": [
    {
     "name": "stdout",
     "output_type": "stream",
     "text": [
      "              precision    recall  f1-score   support\n",
      "\n",
      "   Rating: 1       0.42      0.06      0.11       557\n",
      "   Rating: 2       0.00      0.00      0.00       143\n",
      "   Rating: 3       0.00      0.00      0.00       394\n",
      "   Rating: 4       0.00      0.00      0.00       804\n",
      "   Rating: 5       0.57      0.99      0.73      2507\n",
      "\n",
      "    accuracy                           0.57      4405\n",
      "   macro avg       0.20      0.21      0.17      4405\n",
      "weighted avg       0.38      0.57      0.43      4405\n",
      "\n"
     ]
    },
    {
     "name": "stderr",
     "output_type": "stream",
     "text": [
      "C:\\Users\\guest\\Anaconda3\\lib\\site-packages\\sklearn\\metrics\\classification.py:1437: UndefinedMetricWarning: Precision and F-score are ill-defined and being set to 0.0 in labels with no predicted samples.\n",
      "  'precision', 'predicted', average, warn_for)\n"
     ]
    }
   ],
   "source": [
    "y_pred = np.argmax(y_pred,axis=1)\n",
    "print(classification_report(y_test, y_pred, target_names=target_names))"
   ]
  },
  {
   "cell_type": "markdown",
   "metadata": {},
   "source": [
    "In spite of lower results on accuracy and precision, the f1 score and the recall have improved a lot. This, it is as well for some trick of the neural network, because it has almost decided to just indicate the Ratings \"1\" and \"5\" as they are the most differenciable by far."
   ]
  },
  {
   "cell_type": "markdown",
   "metadata": {},
   "source": [
    "# Convolutional Neural Network #"
   ]
  },
  {
   "cell_type": "markdown",
   "metadata": {},
   "source": [
    "Here we use a convolutional neural network to get the context of all the different features and then aggregate the extracted features using a max pooling operation that helps the neural network realize what the important features of our data are and perform better"
   ]
  },
  {
   "cell_type": "code",
   "execution_count": 103,
   "metadata": {},
   "outputs": [],
   "source": [
    "#adjust de train,val and test for adding them as an input to the CNN\n",
    "X_train2 = np.reshape(X_train.values, (X_train.shape[0], X_train.shape[1],1))"
   ]
  },
  {
   "cell_type": "code",
   "execution_count": 108,
   "metadata": {},
   "outputs": [],
   "source": [
    "X_val2 = np.reshape(X_val.values, (X_val.shape[0], X_val.shape[1],1))\n",
    "X_test2 = np.reshape(X_test.values, (X_test.shape[0], X_test.shape[1],1))"
   ]
  },
  {
   "cell_type": "code",
   "execution_count": 112,
   "metadata": {},
   "outputs": [
    {
     "data": {
      "text/plain": [
       "(7344, 75, 1)"
      ]
     },
     "execution_count": 112,
     "metadata": {},
     "output_type": "execute_result"
    }
   ],
   "source": [
    "#As we can see, for using the variables as an input, is required to add another dim to them.\n",
    "X_train2.shape"
   ]
  },
  {
   "cell_type": "code",
   "execution_count": 113,
   "metadata": {},
   "outputs": [],
   "source": [
    "from keras.layers import Conv1D, MaxPooling1D, Flatten, BatchNormalization"
   ]
  },
  {
   "cell_type": "code",
   "execution_count": 125,
   "metadata": {},
   "outputs": [
    {
     "name": "stdout",
     "output_type": "stream",
     "text": [
      "Train on 7344 samples, validate on 2937 samples\n",
      "Epoch 1/52\n",
      "7344/7344 [==============================] - 4s 580us/step - loss: 1.3173 - accuracy: 0.5379 - val_loss: 1.2385 - val_accuracy: 0.5560\n",
      "Epoch 2/52\n",
      "7344/7344 [==============================] - 3s 473us/step - loss: 1.2258 - accuracy: 0.5617 - val_loss: 1.2502 - val_accuracy: 0.5662\n",
      "Epoch 3/52\n",
      "7344/7344 [==============================] - 3s 436us/step - loss: 1.2230 - accuracy: 0.5630 - val_loss: 1.2296 - val_accuracy: 0.5666\n",
      "Epoch 4/52\n",
      "7344/7344 [==============================] - 3s 455us/step - loss: 1.2196 - accuracy: 0.5611 - val_loss: 1.2255 - val_accuracy: 0.5655\n",
      "Epoch 5/52\n",
      "7344/7344 [==============================] - 3s 464us/step - loss: 1.2133 - accuracy: 0.5632 - val_loss: 1.2196 - val_accuracy: 0.5686\n",
      "Epoch 6/52\n",
      "7344/7344 [==============================] - 3s 427us/step - loss: 1.2078 - accuracy: 0.5633 - val_loss: 1.2162 - val_accuracy: 0.5659\n",
      "Epoch 7/52\n",
      "7344/7344 [==============================] - 3s 432us/step - loss: 1.2030 - accuracy: 0.5645 - val_loss: 1.2343 - val_accuracy: 0.5611\n",
      "Epoch 8/52\n",
      "7344/7344 [==============================] - 3s 443us/step - loss: 1.2061 - accuracy: 0.5637 - val_loss: 1.2224 - val_accuracy: 0.5666\n",
      "Epoch 9/52\n",
      "7344/7344 [==============================] - 3s 423us/step - loss: 1.2066 - accuracy: 0.5628 - val_loss: 1.2197 - val_accuracy: 0.5662\n",
      "Epoch 10/52\n",
      "7344/7344 [==============================] - 4s 528us/step - loss: 1.1990 - accuracy: 0.5630 - val_loss: 1.2162 - val_accuracy: 0.5669\n",
      "Epoch 11/52\n",
      "7344/7344 [==============================] - 3s 446us/step - loss: 1.1963 - accuracy: 0.5645 - val_loss: 1.2192 - val_accuracy: 0.5669\n",
      "Epoch 12/52\n",
      "7344/7344 [==============================] - 3s 457us/step - loss: 1.1956 - accuracy: 0.5640 - val_loss: 1.2167 - val_accuracy: 0.5642\n",
      "Epoch 13/52\n",
      "7344/7344 [==============================] - 3s 444us/step - loss: 1.1931 - accuracy: 0.5645 - val_loss: 1.2151 - val_accuracy: 0.5669\n",
      "Epoch 14/52\n",
      "7344/7344 [==============================] - 3s 458us/step - loss: 1.1868 - accuracy: 0.5645 - val_loss: 1.2198 - val_accuracy: 0.5683\n",
      "Epoch 15/52\n",
      "7344/7344 [==============================] - 4s 494us/step - loss: 1.1842 - accuracy: 0.5655 - val_loss: 1.2142 - val_accuracy: 0.5652\n",
      "Epoch 16/52\n",
      "7344/7344 [==============================] - 4s 559us/step - loss: 1.1825 - accuracy: 0.5633 - val_loss: 1.2098 - val_accuracy: 0.5693\n",
      "Epoch 17/52\n",
      "7344/7344 [==============================] - 4s 603us/step - loss: 1.1801 - accuracy: 0.5660 - val_loss: 1.2154 - val_accuracy: 0.5672\n",
      "Epoch 18/52\n",
      "7344/7344 [==============================] - 4s 586us/step - loss: 1.1755 - accuracy: 0.5641 - val_loss: 1.2163 - val_accuracy: 0.5686\n",
      "Epoch 19/52\n",
      "7344/7344 [==============================] - 5s 646us/step - loss: 1.1718 - accuracy: 0.5655 - val_loss: 1.2158 - val_accuracy: 0.5621\n",
      "Epoch 20/52\n",
      "7344/7344 [==============================] - 4s 585us/step - loss: 1.1696 - accuracy: 0.5655 - val_loss: 1.2120 - val_accuracy: 0.5625\n",
      "Epoch 21/52\n",
      "7344/7344 [==============================] - 4s 587us/step - loss: 1.1658 - accuracy: 0.5671 - val_loss: 1.2163 - val_accuracy: 0.5625\n",
      "Epoch 22/52\n",
      "7344/7344 [==============================] - 5s 719us/step - loss: 1.1610 - accuracy: 0.5696 - val_loss: 1.2154 - val_accuracy: 0.5652\n",
      "Epoch 23/52\n",
      "7344/7344 [==============================] - 5s 664us/step - loss: 1.1558 - accuracy: 0.5701 - val_loss: 1.2196 - val_accuracy: 0.5659\n",
      "Epoch 24/52\n",
      "7344/7344 [==============================] - 4s 589us/step - loss: 1.1526 - accuracy: 0.5673 - val_loss: 1.2153 - val_accuracy: 0.5652\n",
      "Epoch 25/52\n",
      "7344/7344 [==============================] - 5s 634us/step - loss: 1.1451 - accuracy: 0.5720 - val_loss: 1.2145 - val_accuracy: 0.5676\n",
      "Epoch 26/52\n",
      "7344/7344 [==============================] - 5s 649us/step - loss: 1.1468 - accuracy: 0.5731 - val_loss: 1.2253 - val_accuracy: 0.5669\n",
      "Epoch 27/52\n",
      "7344/7344 [==============================] - 5s 628us/step - loss: 1.1383 - accuracy: 0.5709 - val_loss: 1.2347 - val_accuracy: 0.5451\n",
      "Epoch 28/52\n",
      "7344/7344 [==============================] - 5s 638us/step - loss: 1.1392 - accuracy: 0.5716 - val_loss: 1.2309 - val_accuracy: 0.5472\n",
      "Epoch 29/52\n",
      "7344/7344 [==============================] - 5s 696us/step - loss: 1.1319 - accuracy: 0.5685 - val_loss: 1.2174 - val_accuracy: 0.5628\n",
      "Epoch 30/52\n",
      "7344/7344 [==============================] - 5s 642us/step - loss: 1.1293 - accuracy: 0.5712 - val_loss: 1.2307 - val_accuracy: 0.5533\n",
      "Epoch 31/52\n",
      "7344/7344 [==============================] - 5s 629us/step - loss: 1.1203 - accuracy: 0.5741 - val_loss: 1.2307 - val_accuracy: 0.5557\n",
      "Epoch 32/52\n",
      "7344/7344 [==============================] - 5s 686us/step - loss: 1.1129 - accuracy: 0.5753 - val_loss: 1.2309 - val_accuracy: 0.5632\n",
      "Epoch 33/52\n",
      "7344/7344 [==============================] - 5s 682us/step - loss: 1.1085 - accuracy: 0.5783 - val_loss: 1.2370 - val_accuracy: 0.5482\n",
      "Epoch 34/52\n",
      "7344/7344 [==============================] - 5s 650us/step - loss: 1.1036 - accuracy: 0.5779 - val_loss: 1.2388 - val_accuracy: 0.5485\n",
      "Epoch 35/52\n",
      "7344/7344 [==============================] - 5s 677us/step - loss: 1.0979 - accuracy: 0.5814 - val_loss: 1.2368 - val_accuracy: 0.5577\n",
      "Epoch 36/52\n",
      "7344/7344 [==============================] - 5s 686us/step - loss: 1.0890 - accuracy: 0.5852 - val_loss: 1.2415 - val_accuracy: 0.5567\n",
      "Epoch 37/52\n",
      "7344/7344 [==============================] - 5s 654us/step - loss: 1.0850 - accuracy: 0.5852 - val_loss: 1.2392 - val_accuracy: 0.5550\n",
      "Epoch 38/52\n",
      "7344/7344 [==============================] - 5s 650us/step - loss: 1.0800 - accuracy: 0.5899 - val_loss: 1.2413 - val_accuracy: 0.5560\n",
      "Epoch 39/52\n",
      "7344/7344 [==============================] - 5s 689us/step - loss: 1.0703 - accuracy: 0.5903 - val_loss: 1.2423 - val_accuracy: 0.5553\n",
      "Epoch 40/52\n",
      "7344/7344 [==============================] - 5s 655us/step - loss: 1.0697 - accuracy: 0.5916 - val_loss: 1.2615 - val_accuracy: 0.5465\n",
      "Epoch 41/52\n",
      "7344/7344 [==============================] - 5s 651us/step - loss: 1.0651 - accuracy: 0.5910 - val_loss: 1.2502 - val_accuracy: 0.5533\n",
      "Epoch 42/52\n",
      "7344/7344 [==============================] - 5s 702us/step - loss: 1.0580 - accuracy: 0.5927 - val_loss: 1.2577 - val_accuracy: 0.5560\n",
      "Epoch 43/52\n",
      "7344/7344 [==============================] - 5s 678us/step - loss: 1.0477 - accuracy: 0.5986 - val_loss: 1.2585 - val_accuracy: 0.5540\n",
      "Epoch 44/52\n",
      "7344/7344 [==============================] - 5s 666us/step - loss: 1.0454 - accuracy: 0.5945 - val_loss: 1.2664 - val_accuracy: 0.5332\n",
      "Epoch 45/52\n",
      "7344/7344 [==============================] - 5s 695us/step - loss: 1.0407 - accuracy: 0.6019 - val_loss: 1.2877 - val_accuracy: 0.5346\n",
      "Epoch 46/52\n",
      "7344/7344 [==============================] - 5s 661us/step - loss: 1.0355 - accuracy: 0.6033 - val_loss: 1.2950 - val_accuracy: 0.5512\n",
      "Epoch 47/52\n",
      "7344/7344 [==============================] - 5s 647us/step - loss: 1.0305 - accuracy: 0.6012 - val_loss: 1.2721 - val_accuracy: 0.5506\n",
      "Epoch 48/52\n",
      "7344/7344 [==============================] - 5s 665us/step - loss: 1.0211 - accuracy: 0.6065 - val_loss: 1.2894 - val_accuracy: 0.5557\n",
      "Epoch 49/52\n",
      "7344/7344 [==============================] - 5s 683us/step - loss: 1.0109 - accuracy: 0.6076 - val_loss: 1.2830 - val_accuracy: 0.5431\n",
      "Epoch 50/52\n",
      "7344/7344 [==============================] - 5s 650us/step - loss: 1.0061 - accuracy: 0.6132 - val_loss: 1.3040 - val_accuracy: 0.5383\n",
      "Epoch 51/52\n",
      "7344/7344 [==============================] - 5s 655us/step - loss: 1.0010 - accuracy: 0.6156 - val_loss: 1.2926 - val_accuracy: 0.5315\n",
      "Epoch 52/52\n",
      "7344/7344 [==============================] - 5s 720us/step - loss: 0.9967 - accuracy: 0.6147 - val_loss: 1.3073 - val_accuracy: 0.5441\n"
     ]
    }
   ],
   "source": [
    "model = Sequential()\n",
    "model.add(Conv1D(64,3,activation='relu',input_shape=(75,1,)))\n",
    "model.add(Conv1D(64,3,activation='relu'))\n",
    "model.add(MaxPooling1D(2))\n",
    "\n",
    "model.add(Conv1D(64,3,activation='relu',input_shape=(75,1,)))\n",
    "model.add(Conv1D(64,3,activation='relu'))\n",
    "model.add(MaxPooling1D(2))\n",
    "\n",
    "model.add(Flatten())\n",
    "model.add(Dense(5,activation='softmax'))\n",
    "\n",
    "# compile the keras model\n",
    "model.compile(loss='sparse_categorical_crossentropy', optimizer='adam', metrics=['accuracy'])\n",
    "\n",
    "# fit the keras model on the dataset\n",
    "history = model.fit(X_train2, y_train, validation_data = (X_val2,y_val), epochs=52, batch_size=128)"
   ]
  },
  {
   "cell_type": "code",
   "execution_count": 127,
   "metadata": {},
   "outputs": [
    {
     "name": "stdout",
     "output_type": "stream",
     "text": [
      "              precision    recall  f1-score   support\n",
      "\n",
      "   Rating: 1       0.38      0.18      0.24       557\n",
      "   Rating: 2       0.21      0.04      0.07       143\n",
      "   Rating: 3       0.24      0.04      0.07       394\n",
      "   Rating: 4       0.25      0.11      0.15       804\n",
      "   Rating: 5       0.59      0.87      0.71      2507\n",
      "\n",
      "    accuracy                           0.54      4405\n",
      "   macro avg       0.33      0.25      0.25      4405\n",
      "weighted avg       0.46      0.54      0.47      4405\n",
      "\n"
     ]
    }
   ],
   "source": [
    "from sklearn.metrics import classification_report\n",
    "\n",
    "target_names = ['Rating: 1', 'Rating: 2', 'Rating: 3','Rating: 4','Rating: 5']\n",
    "y_pred = model.predict(X_test2)\n",
    "y_pred = np.argmax(y_pred,axis=1)\n",
    "print(classification_report(y_test, y_pred, target_names=target_names))"
   ]
  },
  {
   "cell_type": "markdown",
   "metadata": {},
   "source": [
    "However we realize this is an underfitting scenario, so we should try another more complex neural network architectures."
   ]
  },
  {
   "cell_type": "code",
   "execution_count": 128,
   "metadata": {},
   "outputs": [
    {
     "name": "stdout",
     "output_type": "stream",
     "text": [
      "Train on 7344 samples, validate on 2937 samples\n",
      "Epoch 1/30\n",
      "7344/7344 [==============================] - 8s 1ms/step - loss: 1.2864 - accuracy: 0.5389 - val_loss: 1.4960 - val_accuracy: 0.4968\n",
      "Epoch 2/30\n",
      "7344/7344 [==============================] - 8s 1ms/step - loss: 1.2164 - accuracy: 0.5625 - val_loss: 1.4151 - val_accuracy: 0.5349\n",
      "Epoch 3/30\n",
      "7344/7344 [==============================] - 6s 780us/step - loss: 1.2090 - accuracy: 0.5650 - val_loss: 1.3515 - val_accuracy: 0.5386\n",
      "Epoch 4/30\n",
      "7344/7344 [==============================] - 6s 754us/step - loss: 1.2058 - accuracy: 0.5640 - val_loss: 1.3516 - val_accuracy: 0.5247\n",
      "Epoch 5/30\n",
      "7344/7344 [==============================] - 6s 787us/step - loss: 1.2005 - accuracy: 0.5656 - val_loss: 1.2571 - val_accuracy: 0.5526\n",
      "Epoch 6/30\n",
      "7344/7344 [==============================] - 5s 735us/step - loss: 1.1957 - accuracy: 0.5658 - val_loss: 1.2421 - val_accuracy: 0.5662\n",
      "Epoch 7/30\n",
      "7344/7344 [==============================] - 7s 950us/step - loss: 1.1873 - accuracy: 0.5652 - val_loss: 1.2345 - val_accuracy: 0.5686\n",
      "Epoch 8/30\n",
      "7344/7344 [==============================] - 7s 942us/step - loss: 1.1819 - accuracy: 0.5697 - val_loss: 1.2340 - val_accuracy: 0.5652\n",
      "Epoch 9/30\n",
      "7344/7344 [==============================] - 7s 909us/step - loss: 1.1799 - accuracy: 0.5654 - val_loss: 1.2350 - val_accuracy: 0.5662\n",
      "Epoch 10/30\n",
      "7344/7344 [==============================] - 8s 1ms/step - loss: 1.1737 - accuracy: 0.5663 - val_loss: 1.2419 - val_accuracy: 0.5529\n",
      "Epoch 11/30\n",
      "7344/7344 [==============================] - 7s 1ms/step - loss: 1.1663 - accuracy: 0.5700 - val_loss: 1.2165 - val_accuracy: 0.5666\n",
      "Epoch 12/30\n",
      "7344/7344 [==============================] - 7s 1ms/step - loss: 1.1631 - accuracy: 0.5704 - val_loss: 1.2636 - val_accuracy: 0.5523\n",
      "Epoch 13/30\n",
      "7344/7344 [==============================] - 7s 963us/step - loss: 1.1538 - accuracy: 0.5708 - val_loss: 1.2266 - val_accuracy: 0.5618\n",
      "Epoch 14/30\n",
      "7344/7344 [==============================] - 7s 903us/step - loss: 1.1538 - accuracy: 0.5703 - val_loss: 1.2579 - val_accuracy: 0.5632\n",
      "Epoch 15/30\n",
      "7344/7344 [==============================] - 6s 808us/step - loss: 1.1490 - accuracy: 0.5719 - val_loss: 1.2800 - val_accuracy: 0.5594\n",
      "Epoch 16/30\n",
      "7344/7344 [==============================] - 6s 765us/step - loss: 1.1351 - accuracy: 0.5704 - val_loss: 1.3189 - val_accuracy: 0.4964\n",
      "Epoch 17/30\n",
      "7344/7344 [==============================] - 6s 814us/step - loss: 1.1253 - accuracy: 0.5749 - val_loss: 1.2630 - val_accuracy: 0.5625\n",
      "Epoch 18/30\n",
      "7344/7344 [==============================] - 6s 882us/step - loss: 1.1217 - accuracy: 0.5791 - val_loss: 1.2256 - val_accuracy: 0.5557\n",
      "Epoch 19/30\n",
      "7344/7344 [==============================] - 9s 1ms/step - loss: 1.1082 - accuracy: 0.5818 - val_loss: 1.2636 - val_accuracy: 0.5444\n",
      "Epoch 20/30\n",
      "7344/7344 [==============================] - 7s 898us/step - loss: 1.0967 - accuracy: 0.5847 - val_loss: 1.2352 - val_accuracy: 0.5492\n",
      "Epoch 21/30\n",
      "7344/7344 [==============================] - 7s 1ms/step - loss: 1.0746 - accuracy: 0.5889 - val_loss: 1.2543 - val_accuracy: 0.5679\n",
      "Epoch 22/30\n",
      "7344/7344 [==============================] - 7s 920us/step - loss: 1.0634 - accuracy: 0.5942 - val_loss: 1.2855 - val_accuracy: 0.5604\n",
      "Epoch 23/30\n",
      "7344/7344 [==============================] - 6s 861us/step - loss: 1.0546 - accuracy: 0.5978 - val_loss: 1.2446 - val_accuracy: 0.5441\n",
      "Epoch 24/30\n",
      "7344/7344 [==============================] - 7s 974us/step - loss: 1.0371 - accuracy: 0.5975 - val_loss: 1.2640 - val_accuracy: 0.5536\n",
      "Epoch 25/30\n",
      "7344/7344 [==============================] - 7s 997us/step - loss: 1.0215 - accuracy: 0.6119 - val_loss: 1.3485 - val_accuracy: 0.5550\n",
      "Epoch 26/30\n",
      "7344/7344 [==============================] - 8s 1ms/step - loss: 1.0085 - accuracy: 0.6095 - val_loss: 1.3397 - val_accuracy: 0.5373\n",
      "Epoch 27/30\n",
      "7344/7344 [==============================] - 8s 1ms/step - loss: 0.9868 - accuracy: 0.6206 - val_loss: 1.2949 - val_accuracy: 0.5417\n",
      "Epoch 28/30\n",
      "7344/7344 [==============================] - 8s 1ms/step - loss: 0.9786 - accuracy: 0.6206 - val_loss: 1.3082 - val_accuracy: 0.5349\n",
      "Epoch 29/30\n",
      "7344/7344 [==============================] - 7s 964us/step - loss: 0.9627 - accuracy: 0.6292 - val_loss: 1.2948 - val_accuracy: 0.5570\n",
      "Epoch 30/30\n",
      "7344/7344 [==============================] - 7s 941us/step - loss: 0.9412 - accuracy: 0.6360 - val_loss: 1.3037 - val_accuracy: 0.5073\n"
     ]
    }
   ],
   "source": [
    "model = Sequential()\n",
    "model.add(Conv1D(64,3,activation='relu',input_shape=(75,1,)))\n",
    "model.add(Conv1D(64,3,activation='relu'))\n",
    "model.add(MaxPooling1D(2))\n",
    "model.add(BatchNormalization())\n",
    "\n",
    "model.add(Conv1D(64,3,activation='relu'))\n",
    "model.add(Conv1D(64,3,activation='relu'))\n",
    "model.add(MaxPooling1D(2))\n",
    "model.add(BatchNormalization())\n",
    "\n",
    "model.add(Conv1D(64,3,activation='relu'))\n",
    "model.add(Conv1D(64,3,activation='relu'))\n",
    "model.add(MaxPooling1D(2))\n",
    "model.add(BatchNormalization())\n",
    "\n",
    "\n",
    "model.add(Flatten())\n",
    "model.add(Dense(64,activation='relu'))\n",
    "model.add(Dense(5,activation='softmax'))\n",
    "\n",
    "# compile the keras model\n",
    "model.compile(loss='sparse_categorical_crossentropy', optimizer='adam', metrics=['accuracy'])\n",
    "\n",
    "# fit the keras model on the dataset\n",
    "history = model.fit(X_train2, y_train, validation_data = (X_val2,y_val), epochs=30, batch_size=128)"
   ]
  },
  {
   "cell_type": "code",
   "execution_count": 129,
   "metadata": {
    "scrolled": true
   },
   "outputs": [
    {
     "name": "stdout",
     "output_type": "stream",
     "text": [
      "              precision    recall  f1-score   support\n",
      "\n",
      "   Rating: 1       0.37      0.19      0.26       557\n",
      "   Rating: 2       0.36      0.06      0.11       143\n",
      "   Rating: 3       0.25      0.14      0.18       394\n",
      "   Rating: 4       0.25      0.23      0.24       804\n",
      "   Rating: 5       0.61      0.77      0.68      2507\n",
      "\n",
      "    accuracy                           0.52      4405\n",
      "   macro avg       0.37      0.28      0.29      4405\n",
      "weighted avg       0.47      0.52      0.48      4405\n",
      "\n"
     ]
    }
   ],
   "source": [
    "from sklearn.metrics import classification_report\n",
    "\n",
    "target_names = ['Rating: 1', 'Rating: 2', 'Rating: 3','Rating: 4','Rating: 5']\n",
    "y_pred = model.predict(X_test2)\n",
    "y_pred = np.argmax(y_pred,axis=1)\n",
    "print(classification_report(y_test, y_pred, target_names=target_names))"
   ]
  },
  {
   "cell_type": "markdown",
   "metadata": {},
   "source": [
    "By adding complexity to our neural network, we have managed to have just slightly better results on the identification of the middle rates."
   ]
  },
  {
   "cell_type": "markdown",
   "metadata": {},
   "source": [
    "After playing with the different possibilities and considering the time use for it, the regular classifiers are still the best option."
   ]
  },
  {
   "cell_type": "markdown",
   "metadata": {},
   "source": [
    "# Regression and bins analysis #"
   ]
  },
  {
   "cell_type": "markdown",
   "metadata": {},
   "source": [
    "On this part, we want to see which would be the difference if the prediction model is consider as an integer continuous variable. For comparing with the previous one, and considering that the rates must be integers, at the end there should be an operation of bin placement."
   ]
  },
  {
   "cell_type": "markdown",
   "metadata": {},
   "source": [
    "To start, a NN is used for the analysis:"
   ]
  },
  {
   "cell_type": "code",
   "execution_count": 131,
   "metadata": {},
   "outputs": [
    {
     "name": "stdout",
     "output_type": "stream",
     "text": [
      "Train on 7344 samples, validate on 2937 samples\n",
      "Epoch 1/100\n",
      "7344/7344 [==============================] - 0s 57us/step - loss: 57.9698 - mse: 57.9698 - val_loss: 64.1691 - val_mse: 64.1691\n",
      "Epoch 2/100\n",
      "7344/7344 [==============================] - 0s 32us/step - loss: 24.5969 - mse: 24.5969 - val_loss: 141.4425 - val_mse: 141.4425\n",
      "Epoch 3/100\n",
      "7344/7344 [==============================] - 0s 32us/step - loss: 20.0315 - mse: 20.0315 - val_loss: 70.3255 - val_mse: 70.3255\n",
      "Epoch 4/100\n",
      "7344/7344 [==============================] - 0s 30us/step - loss: 12.3642 - mse: 12.3642 - val_loss: 2.8792 - val_mse: 2.8792\n",
      "Epoch 5/100\n",
      "7344/7344 [==============================] - 0s 30us/step - loss: 7.9413 - mse: 7.9413 - val_loss: 2.4550 - val_mse: 2.4550\n",
      "Epoch 6/100\n",
      "7344/7344 [==============================] - 0s 27us/step - loss: 6.5030 - mse: 6.5030 - val_loss: 7.0672 - val_mse: 7.0672\n",
      "Epoch 7/100\n",
      "7344/7344 [==============================] - 0s 27us/step - loss: 4.0006 - mse: 4.0006 - val_loss: 2.4053 - val_mse: 2.4053\n",
      "Epoch 8/100\n",
      "7344/7344 [==============================] - 0s 26us/step - loss: 3.5176 - mse: 3.5176 - val_loss: 2.2203 - val_mse: 2.2203\n",
      "Epoch 9/100\n",
      "7344/7344 [==============================] - 0s 28us/step - loss: 3.0447 - mse: 3.0447 - val_loss: 2.2747 - val_mse: 2.2747\n",
      "Epoch 10/100\n",
      "7344/7344 [==============================] - 0s 26us/step - loss: 2.5615 - mse: 2.5615 - val_loss: 2.2085 - val_mse: 2.2085\n",
      "Epoch 11/100\n",
      "7344/7344 [==============================] - 0s 27us/step - loss: 2.5029 - mse: 2.5029 - val_loss: 1.9647 - val_mse: 1.9647\n",
      "Epoch 12/100\n",
      "7344/7344 [==============================] - 0s 25us/step - loss: 2.2942 - mse: 2.2942 - val_loss: 2.4075 - val_mse: 2.4075\n",
      "Epoch 13/100\n",
      "7344/7344 [==============================] - 0s 27us/step - loss: 2.1923 - mse: 2.1923 - val_loss: 2.6597 - val_mse: 2.6597\n",
      "Epoch 14/100\n",
      "7344/7344 [==============================] - 0s 29us/step - loss: 2.0552 - mse: 2.0552 - val_loss: 2.1275 - val_mse: 2.1275\n",
      "Epoch 15/100\n",
      "7344/7344 [==============================] - 0s 27us/step - loss: 2.1189 - mse: 2.1189 - val_loss: 1.9330 - val_mse: 1.9330\n",
      "Epoch 16/100\n",
      "7344/7344 [==============================] - 0s 27us/step - loss: 1.9820 - mse: 1.9820 - val_loss: 2.8940 - val_mse: 2.8940\n",
      "Epoch 17/100\n",
      "7344/7344 [==============================] - 0s 28us/step - loss: 2.0410 - mse: 2.0410 - val_loss: 1.9529 - val_mse: 1.9529\n",
      "Epoch 18/100\n",
      "7344/7344 [==============================] - 0s 26us/step - loss: 2.0241 - mse: 2.0241 - val_loss: 2.1275 - val_mse: 2.1275\n",
      "Epoch 19/100\n",
      "7344/7344 [==============================] - 0s 28us/step - loss: 2.0253 - mse: 2.0253 - val_loss: 1.9031 - val_mse: 1.9031\n",
      "Epoch 20/100\n",
      "7344/7344 [==============================] - 0s 28us/step - loss: 1.9273 - mse: 1.9273 - val_loss: 1.8791 - val_mse: 1.8791\n",
      "Epoch 21/100\n",
      "7344/7344 [==============================] - 0s 27us/step - loss: 1.8604 - mse: 1.8604 - val_loss: 2.1349 - val_mse: 2.1349\n",
      "Epoch 22/100\n",
      "7344/7344 [==============================] - 0s 27us/step - loss: 1.8532 - mse: 1.8532 - val_loss: 2.4571 - val_mse: 2.4571\n",
      "Epoch 23/100\n",
      "7344/7344 [==============================] - 0s 27us/step - loss: 1.8675 - mse: 1.8675 - val_loss: 1.9041 - val_mse: 1.9041\n",
      "Epoch 24/100\n",
      "7344/7344 [==============================] - 0s 27us/step - loss: 1.9169 - mse: 1.9169 - val_loss: 1.9522 - val_mse: 1.9522\n",
      "Epoch 25/100\n",
      "7344/7344 [==============================] - 0s 29us/step - loss: 1.8357 - mse: 1.8357 - val_loss: 1.9912 - val_mse: 1.9912\n",
      "Epoch 26/100\n",
      "7344/7344 [==============================] - 0s 27us/step - loss: 1.8122 - mse: 1.8122 - val_loss: 2.1999 - val_mse: 2.1999\n",
      "Epoch 27/100\n",
      "7344/7344 [==============================] - 0s 27us/step - loss: 1.7849 - mse: 1.7849 - val_loss: 2.9976 - val_mse: 2.9976\n",
      "Epoch 28/100\n",
      "7344/7344 [==============================] - 0s 26us/step - loss: 1.8384 - mse: 1.8384 - val_loss: 1.9135 - val_mse: 1.9135\n",
      "Epoch 29/100\n",
      "7344/7344 [==============================] - 0s 26us/step - loss: 1.7836 - mse: 1.7836 - val_loss: 1.9589 - val_mse: 1.9589\n",
      "Epoch 30/100\n",
      "7344/7344 [==============================] - 0s 27us/step - loss: 1.8135 - mse: 1.8135 - val_loss: 1.8925 - val_mse: 1.8925\n",
      "Epoch 31/100\n",
      "7344/7344 [==============================] - 0s 26us/step - loss: 1.7930 - mse: 1.7930 - val_loss: 1.8804 - val_mse: 1.8804\n",
      "Epoch 32/100\n",
      "7344/7344 [==============================] - 0s 26us/step - loss: 1.7364 - mse: 1.7364 - val_loss: 1.9898 - val_mse: 1.9898\n",
      "Epoch 33/100\n",
      "7344/7344 [==============================] - 0s 26us/step - loss: 1.8311 - mse: 1.8311 - val_loss: 1.9286 - val_mse: 1.9286\n",
      "Epoch 34/100\n",
      "7344/7344 [==============================] - 0s 28us/step - loss: 1.7665 - mse: 1.7665 - val_loss: 1.8744 - val_mse: 1.8744\n",
      "Epoch 35/100\n",
      "7344/7344 [==============================] - 0s 27us/step - loss: 1.7709 - mse: 1.7709 - val_loss: 1.8720 - val_mse: 1.8720\n",
      "Epoch 36/100\n",
      "7344/7344 [==============================] - 0s 29us/step - loss: 1.7622 - mse: 1.7622 - val_loss: 1.8796 - val_mse: 1.8796\n",
      "Epoch 37/100\n",
      "7344/7344 [==============================] - 0s 29us/step - loss: 1.7568 - mse: 1.7568 - val_loss: 1.8777 - val_mse: 1.8777\n",
      "Epoch 38/100\n",
      "7344/7344 [==============================] - 0s 30us/step - loss: 1.7961 - mse: 1.7961 - val_loss: 2.0364 - val_mse: 2.0364\n",
      "Epoch 39/100\n",
      "7344/7344 [==============================] - 0s 29us/step - loss: 1.7450 - mse: 1.7450 - val_loss: 1.9298 - val_mse: 1.9298\n",
      "Epoch 40/100\n",
      "7344/7344 [==============================] - 0s 27us/step - loss: 1.7841 - mse: 1.7841 - val_loss: 2.0017 - val_mse: 2.0017\n",
      "Epoch 41/100\n",
      "7344/7344 [==============================] - 0s 27us/step - loss: 1.7220 - mse: 1.7220 - val_loss: 1.9541 - val_mse: 1.9541\n",
      "Epoch 42/100\n",
      "7344/7344 [==============================] - 0s 26us/step - loss: 1.8172 - mse: 1.8172 - val_loss: 1.8806 - val_mse: 1.8806\n",
      "Epoch 43/100\n",
      "7344/7344 [==============================] - 0s 26us/step - loss: 1.6883 - mse: 1.6883 - val_loss: 2.1162 - val_mse: 2.1162\n",
      "Epoch 44/100\n",
      "7344/7344 [==============================] - 0s 26us/step - loss: 1.7434 - mse: 1.7434 - val_loss: 1.9440 - val_mse: 1.9440\n",
      "Epoch 45/100\n",
      "7344/7344 [==============================] - 0s 26us/step - loss: 1.7052 - mse: 1.7052 - val_loss: 1.9783 - val_mse: 1.9783\n",
      "Epoch 46/100\n",
      "7344/7344 [==============================] - 0s 26us/step - loss: 1.7264 - mse: 1.7264 - val_loss: 1.8675 - val_mse: 1.8675\n",
      "Epoch 47/100\n",
      "7344/7344 [==============================] - 0s 25us/step - loss: 1.7004 - mse: 1.7004 - val_loss: 2.0349 - val_mse: 2.0349\n",
      "Epoch 48/100\n",
      "7344/7344 [==============================] - 0s 26us/step - loss: 1.6904 - mse: 1.6904 - val_loss: 1.8945 - val_mse: 1.8945\n",
      "Epoch 49/100\n",
      "7344/7344 [==============================] - 0s 29us/step - loss: 1.7013 - mse: 1.7013 - val_loss: 1.8934 - val_mse: 1.8934\n",
      "Epoch 50/100\n",
      "7344/7344 [==============================] - 0s 25us/step - loss: 1.7021 - mse: 1.7021 - val_loss: 2.1847 - val_mse: 2.1847\n",
      "Epoch 51/100\n",
      "7344/7344 [==============================] - 0s 27us/step - loss: 1.7233 - mse: 1.7233 - val_loss: 1.9657 - val_mse: 1.9657\n",
      "Epoch 52/100\n",
      "7344/7344 [==============================] - 0s 26us/step - loss: 1.6821 - mse: 1.6821 - val_loss: 1.9417 - val_mse: 1.9417\n",
      "Epoch 53/100\n",
      "7344/7344 [==============================] - 0s 26us/step - loss: 1.6869 - mse: 1.6869 - val_loss: 1.9321 - val_mse: 1.9321\n",
      "Epoch 54/100\n",
      "7344/7344 [==============================] - 0s 28us/step - loss: 1.6750 - mse: 1.6750 - val_loss: 1.9395 - val_mse: 1.9395\n",
      "Epoch 55/100\n",
      "7344/7344 [==============================] - 0s 28us/step - loss: 1.6796 - mse: 1.6796 - val_loss: 1.9435 - val_mse: 1.9435\n",
      "Epoch 56/100\n",
      "7344/7344 [==============================] - 0s 26us/step - loss: 1.6852 - mse: 1.6852 - val_loss: 1.8580 - val_mse: 1.8580\n",
      "Epoch 57/100\n",
      "7344/7344 [==============================] - 0s 29us/step - loss: 1.6508 - mse: 1.6508 - val_loss: 2.1890 - val_mse: 2.1890\n",
      "Epoch 58/100\n",
      "7344/7344 [==============================] - 0s 28us/step - loss: 1.6551 - mse: 1.6551 - val_loss: 2.3073 - val_mse: 2.3073\n",
      "Epoch 59/100\n",
      "7344/7344 [==============================] - 0s 28us/step - loss: 1.6585 - mse: 1.6585 - val_loss: 2.1573 - val_mse: 2.1573\n",
      "Epoch 60/100\n",
      "7344/7344 [==============================] - 0s 26us/step - loss: 1.6565 - mse: 1.6565 - val_loss: 1.9178 - val_mse: 1.9178\n",
      "Epoch 61/100\n",
      "7344/7344 [==============================] - 0s 30us/step - loss: 1.7850 - mse: 1.7850 - val_loss: 1.8996 - val_mse: 1.8996\n",
      "Epoch 62/100\n",
      "7344/7344 [==============================] - 0s 24us/step - loss: 1.6227 - mse: 1.6227 - val_loss: 1.9499 - val_mse: 1.9499\n",
      "Epoch 63/100\n",
      "7344/7344 [==============================] - 0s 25us/step - loss: 1.6304 - mse: 1.6304 - val_loss: 1.9181 - val_mse: 1.9181\n",
      "Epoch 64/100\n",
      "7344/7344 [==============================] - 0s 25us/step - loss: 1.6357 - mse: 1.6357 - val_loss: 1.9313 - val_mse: 1.9313\n",
      "Epoch 65/100\n",
      "7344/7344 [==============================] - 0s 30us/step - loss: 1.6340 - mse: 1.6340 - val_loss: 1.9315 - val_mse: 1.9315\n",
      "Epoch 66/100\n",
      "7344/7344 [==============================] - 0s 28us/step - loss: 1.6295 - mse: 1.6295 - val_loss: 2.3812 - val_mse: 2.3812\n",
      "Epoch 67/100\n",
      "7344/7344 [==============================] - 0s 29us/step - loss: 1.6167 - mse: 1.6167 - val_loss: 1.9008 - val_mse: 1.9008\n",
      "Epoch 68/100\n",
      "7344/7344 [==============================] - 0s 25us/step - loss: 1.6050 - mse: 1.6050 - val_loss: 1.9323 - val_mse: 1.9323\n",
      "Epoch 69/100\n",
      "7344/7344 [==============================] - 0s 25us/step - loss: 1.6221 - mse: 1.6221 - val_loss: 1.9348 - val_mse: 1.9348\n",
      "Epoch 70/100\n",
      "7344/7344 [==============================] - 0s 27us/step - loss: 1.6114 - mse: 1.6114 - val_loss: 2.0094 - val_mse: 2.0094\n",
      "Epoch 71/100\n",
      "7344/7344 [==============================] - 0s 28us/step - loss: 1.6295 - mse: 1.6295 - val_loss: 1.9408 - val_mse: 1.9408\n",
      "Epoch 72/100\n",
      "7344/7344 [==============================] - 0s 27us/step - loss: 1.6252 - mse: 1.6252 - val_loss: 2.0312 - val_mse: 2.0312\n",
      "Epoch 73/100\n",
      "7344/7344 [==============================] - 0s 25us/step - loss: 1.5956 - mse: 1.5956 - val_loss: 1.8946 - val_mse: 1.8946\n",
      "Epoch 74/100\n",
      "7344/7344 [==============================] - 0s 27us/step - loss: 1.6061 - mse: 1.6061 - val_loss: 1.9525 - val_mse: 1.9525\n",
      "Epoch 75/100\n",
      "7344/7344 [==============================] - 0s 28us/step - loss: 1.6080 - mse: 1.6080 - val_loss: 2.0128 - val_mse: 2.0128\n",
      "Epoch 76/100\n",
      "7344/7344 [==============================] - 0s 27us/step - loss: 1.6030 - mse: 1.6030 - val_loss: 1.9595 - val_mse: 1.9595\n",
      "Epoch 77/100\n",
      "7344/7344 [==============================] - 0s 30us/step - loss: 1.6298 - mse: 1.6298 - val_loss: 1.9249 - val_mse: 1.9249\n",
      "Epoch 78/100\n",
      "7344/7344 [==============================] - 0s 32us/step - loss: 1.6077 - mse: 1.6077 - val_loss: 2.0161 - val_mse: 2.0161\n",
      "Epoch 79/100\n",
      "7344/7344 [==============================] - 0s 34us/step - loss: 1.5771 - mse: 1.5771 - val_loss: 1.9310 - val_mse: 1.9310\n",
      "Epoch 80/100\n",
      "7344/7344 [==============================] - 0s 36us/step - loss: 1.5647 - mse: 1.5647 - val_loss: 1.9269 - val_mse: 1.9269\n",
      "Epoch 81/100\n",
      "7344/7344 [==============================] - 0s 34us/step - loss: 1.5803 - mse: 1.5803 - val_loss: 2.0091 - val_mse: 2.0091\n",
      "Epoch 82/100\n",
      "7344/7344 [==============================] - 0s 37us/step - loss: 1.5671 - mse: 1.5671 - val_loss: 1.9936 - val_mse: 1.9936\n",
      "Epoch 83/100\n",
      "7344/7344 [==============================] - 0s 31us/step - loss: 1.5635 - mse: 1.5635 - val_loss: 2.0410 - val_mse: 2.0410\n",
      "Epoch 84/100\n",
      "7344/7344 [==============================] - 0s 32us/step - loss: 1.5407 - mse: 1.5407 - val_loss: 2.0151 - val_mse: 2.0151\n",
      "Epoch 85/100\n",
      "7344/7344 [==============================] - 0s 30us/step - loss: 1.5586 - mse: 1.5586 - val_loss: 1.9453 - val_mse: 1.9453\n",
      "Epoch 86/100\n",
      "7344/7344 [==============================] - 0s 29us/step - loss: 1.5583 - mse: 1.5583 - val_loss: 1.9902 - val_mse: 1.9902\n",
      "Epoch 87/100\n",
      "7344/7344 [==============================] - 0s 25us/step - loss: 1.5288 - mse: 1.5288 - val_loss: 2.1381 - val_mse: 2.1381\n",
      "Epoch 88/100\n",
      "7344/7344 [==============================] - 0s 27us/step - loss: 1.5480 - mse: 1.5480 - val_loss: 1.9834 - val_mse: 1.9834\n",
      "Epoch 89/100\n",
      "7344/7344 [==============================] - 0s 28us/step - loss: 1.5276 - mse: 1.5276 - val_loss: 2.0358 - val_mse: 2.0358\n",
      "Epoch 90/100\n",
      "7344/7344 [==============================] - 0s 26us/step - loss: 1.5408 - mse: 1.5408 - val_loss: 2.0065 - val_mse: 2.0065\n",
      "Epoch 91/100\n",
      "7344/7344 [==============================] - 0s 26us/step - loss: 1.5234 - mse: 1.5234 - val_loss: 1.9953 - val_mse: 1.9953\n",
      "Epoch 92/100\n",
      "7344/7344 [==============================] - 0s 28us/step - loss: 1.5589 - mse: 1.5589 - val_loss: 1.9776 - val_mse: 1.9776\n",
      "Epoch 93/100\n",
      "7344/7344 [==============================] - 0s 25us/step - loss: 1.5139 - mse: 1.5139 - val_loss: 1.9382 - val_mse: 1.9382\n",
      "Epoch 94/100\n",
      "7344/7344 [==============================] - 0s 29us/step - loss: 1.5085 - mse: 1.5085 - val_loss: 2.0766 - val_mse: 2.0766\n",
      "Epoch 95/100\n",
      "7344/7344 [==============================] - 0s 26us/step - loss: 1.5158 - mse: 1.5158 - val_loss: 1.9673 - val_mse: 1.9673\n",
      "Epoch 96/100\n",
      "7344/7344 [==============================] - 0s 26us/step - loss: 1.5050 - mse: 1.5050 - val_loss: 2.0889 - val_mse: 2.0889\n",
      "Epoch 97/100\n",
      "7344/7344 [==============================] - 0s 28us/step - loss: 1.5120 - mse: 1.5120 - val_loss: 1.9716 - val_mse: 1.9716\n",
      "Epoch 98/100\n",
      "7344/7344 [==============================] - 0s 25us/step - loss: 1.5055 - mse: 1.5055 - val_loss: 1.9731 - val_mse: 1.9731\n",
      "Epoch 99/100\n",
      "7344/7344 [==============================] - 0s 28us/step - loss: 1.5012 - mse: 1.5012 - val_loss: 2.0405 - val_mse: 2.0405\n",
      "Epoch 100/100\n",
      "7344/7344 [==============================] - 0s 28us/step - loss: 1.4772 - mse: 1.4772 - val_loss: 1.9779 - val_mse: 1.9779\n"
     ]
    }
   ],
   "source": [
    "model = Sequential()\n",
    "model.add(Dense(100,activation='relu',input_shape=(75,)))\n",
    "model.add(Dense(100,activation='relu'))\n",
    "model.add(Dense(100,activation='relu'))\n",
    "model.add(Dense(1))\n",
    "\n",
    "# compile the keras model\n",
    "model.compile(loss='mse', optimizer='rmsprop', metrics=['mse'])\n",
    "\n",
    "# fit the keras model on the dataset\n",
    "history = model.fit(X_train, y_train, validation_data = (X_val,y_val), epochs=100, batch_size=128)"
   ]
  },
  {
   "cell_type": "code",
   "execution_count": 132,
   "metadata": {},
   "outputs": [],
   "source": [
    "y_pred_reg = model.predict(X_test)"
   ]
  },
  {
   "cell_type": "code",
   "execution_count": 133,
   "metadata": {},
   "outputs": [],
   "source": [
    "#bin placement operation\n",
    "y_pred=[]\n",
    "for pred in y_pred_reg:\n",
    "    if pred<0.5:\n",
    "        y_pred.append(0)\n",
    "    elif pred<1.5:\n",
    "        y_pred.append(1)\n",
    "    elif pred<2.5:\n",
    "        y_pred.append(2)\n",
    "    elif pred<3.5:\n",
    "        y_pred.append(3)\n",
    "    else:\n",
    "        y_pred.append(4)"
   ]
  },
  {
   "cell_type": "code",
   "execution_count": 134,
   "metadata": {
    "scrolled": true
   },
   "outputs": [
    {
     "name": "stdout",
     "output_type": "stream",
     "text": [
      "              precision    recall  f1-score   support\n",
      "\n",
      "   Rating: 1       0.19      0.01      0.01       557\n",
      "   Rating: 2       0.00      0.00      0.00       143\n",
      "   Rating: 3       0.12      0.20      0.15       394\n",
      "   Rating: 4       0.19      0.74      0.30       804\n",
      "   Rating: 5       0.66      0.12      0.21      2507\n",
      "\n",
      "    accuracy                           0.22      4405\n",
      "   macro avg       0.23      0.21      0.13      4405\n",
      "weighted avg       0.44      0.22      0.19      4405\n",
      "\n"
     ]
    }
   ],
   "source": [
    "print(classification_report(y_test, y_pred, target_names=target_names))"
   ]
  },
  {
   "cell_type": "markdown",
   "metadata": {},
   "source": [
    "As the results show, the model adapt better in precision, recall and f1 score to this way of analysis. Moreover, almost all the ratings but \"2\", are working better than the previous NN developed. However, this way of analysis loses a lot of accuracy compared with the other ones, something that can be affected to the division into different bins."
   ]
  },
  {
   "cell_type": "markdown",
   "metadata": {},
   "source": [
    "### MLP Regressor "
   ]
  },
  {
   "cell_type": "markdown",
   "metadata": {},
   "source": [
    "An MLP Regressor will be use to see its effectiveness:"
   ]
  },
  {
   "cell_type": "code",
   "execution_count": 136,
   "metadata": {},
   "outputs": [
    {
     "data": {
      "text/plain": [
       "MLPRegressor(activation='tanh', alpha=0.0001, batch_size='auto', beta_1=0.9,\n",
       "             beta_2=0.999, early_stopping=False, epsilon=1e-08,\n",
       "             hidden_layer_sizes=(10,), learning_rate='constant',\n",
       "             learning_rate_init=0.001, max_iter=2000, momentum=0.9,\n",
       "             n_iter_no_change=10, nesterovs_momentum=True, power_t=0.5,\n",
       "             random_state=None, shuffle=True, solver='adam', tol=0.0001,\n",
       "             validation_fraction=0.1, verbose=False, warm_start=False)"
      ]
     },
     "execution_count": 136,
     "metadata": {},
     "output_type": "execute_result"
    }
   ],
   "source": [
    "from sklearn.neural_network import MLPRegressor\n",
    "\n",
    "model = MLPRegressor(hidden_layer_sizes=(10,), activation='tanh', max_iter=2000)\n",
    "model.fit(X_train, y_train)"
   ]
  },
  {
   "cell_type": "code",
   "execution_count": 137,
   "metadata": {},
   "outputs": [],
   "source": [
    "y_pred_reg = model.predict(X_test)"
   ]
  },
  {
   "cell_type": "code",
   "execution_count": 138,
   "metadata": {},
   "outputs": [],
   "source": [
    "y_pred=[]\n",
    "for pred in y_pred_reg:\n",
    "    if pred<0.5:\n",
    "        y_pred.append(0)\n",
    "    elif pred<1.5:\n",
    "        y_pred.append(1)\n",
    "    elif pred<2.5:\n",
    "        y_pred.append(2)\n",
    "    elif pred<3.5:\n",
    "        y_pred.append(3)\n",
    "    else:\n",
    "        y_pred.append(4)"
   ]
  },
  {
   "cell_type": "code",
   "execution_count": 140,
   "metadata": {},
   "outputs": [
    {
     "name": "stdout",
     "output_type": "stream",
     "text": [
      "              precision    recall  f1-score   support\n",
      "\n",
      "   Rating: 1       0.33      0.00      0.00       557\n",
      "   Rating: 2       0.00      0.00      0.00       143\n",
      "   Rating: 3       0.13      0.19      0.15       394\n",
      "   Rating: 4       0.19      0.79      0.30       804\n",
      "   Rating: 5       0.67      0.10      0.17      2507\n",
      "\n",
      "    accuracy                           0.22      4405\n",
      "   macro avg       0.26      0.22      0.13      4405\n",
      "weighted avg       0.47      0.22      0.17      4405\n",
      "\n"
     ]
    }
   ],
   "source": [
    "print(classification_report(y_test, y_pred, target_names=target_names))"
   ]
  },
  {
   "cell_type": "markdown",
   "metadata": {},
   "source": [
    "As expected, the results show almost no difference compared with the previous NN."
   ]
  },
  {
   "cell_type": "markdown",
   "metadata": {},
   "source": [
    "# Feature Engineering #"
   ]
  },
  {
   "cell_type": "markdown",
   "metadata": {},
   "source": [
    "One of the things that annoys more to the customers is when the company does not deliver on time the package. For this reason, we will implement a variable that calculate this impact."
   ]
  },
  {
   "cell_type": "code",
   "execution_count": 149,
   "metadata": {},
   "outputs": [],
   "source": [
    "data['date_diff'] = data['order_delivered_customer_date']-data['order_estimated_delivery_date']"
   ]
  },
  {
   "cell_type": "code",
   "execution_count": 150,
   "metadata": {},
   "outputs": [],
   "source": [
    "data['diff_days_int'] = data['date_diff'].apply(lambda x: x.days)"
   ]
  },
  {
   "cell_type": "code",
   "execution_count": 151,
   "metadata": {},
   "outputs": [
    {
     "data": {
      "text/plain": [
       "0   -15\n",
       "1   -34\n",
       "2   -14\n",
       "3    -2\n",
       "4   -12\n",
       "Name: diff_days_int, dtype: int64"
      ]
     },
     "execution_count": 151,
     "metadata": {},
     "output_type": "execute_result"
    }
   ],
   "source": [
    "data['diff_days_int'][:5]"
   ]
  },
  {
   "cell_type": "code",
   "execution_count": 152,
   "metadata": {},
   "outputs": [],
   "source": [
    "features_to_use = ['price', 'freight_value','payment_sequential','payment_installments','payment_value','payment_type_boleto',\n",
    "'payment_type_credit_card','payment_type_debit_card','payment_type_voucher','product_name_lenght','product_description_lenght',\n",
    "'product_photos_qty','product_weight_g','product_length_cm','product_height_cm','product_width_cm','product_category_name_automotivo',\n",
    "'product_category_name_beleza_saude','product_category_name_brinquedos','product_category_name_cama_mesa_banho',\n",
    "'product_category_name_esporte_lazer','product_category_name_informatica_acessorios','product_category_name_moveis_decoracao',\n",
    "'product_category_name_relogios_presentes','product_category_name_telefonia','product_category_name_utilidades_domesticas',\n",
    "'customer_state_AC','customer_state_AL','customer_state_AM','customer_state_AP','customer_state_BA','customer_state_CE',\n",
    "'customer_state_DF','customer_state_ES','customer_state_GO','customer_state_MA','customer_state_MG','customer_state_MS',\n",
    "'customer_state_MT','customer_state_PA','customer_state_PB','customer_state_PE','customer_state_PI','customer_state_PR',\n",
    "'customer_state_RJ','customer_state_RN','customer_state_RO','customer_state_RR','customer_state_RS','customer_state_SC',\n",
    "'customer_state_SE','customer_state_SP','customer_state_TO','seller_state_BA','seller_state_CE',\n",
    "'seller_state_DF','seller_state_ES','seller_state_GO','seller_state_MA','seller_state_MG','seller_state_MS','seller_state_MT',\n",
    "'seller_state_PB','seller_state_PE','seller_state_PI','seller_state_PR','seller_state_RJ','seller_state_RN',\n",
    "'seller_state_RS','seller_state_SC','seller_state_SE','seller_state_SP','seller_state_SC','seller_state_SE','seller_state_SP','diff_days_int']\n",
    "\n",
    "target_variable = 'review_score'"
   ]
  },
  {
   "cell_type": "code",
   "execution_count": 153,
   "metadata": {
    "scrolled": true
   },
   "outputs": [
    {
     "name": "stdout",
     "output_type": "stream",
     "text": [
      "Num train records: 7344\n",
      "Num val records: 2937\n",
      "Num test records: 4405\n"
     ]
    }
   ],
   "source": [
    "train_perc = 0.5\n",
    "val_perc = 0.2\n",
    "split_point_1 = int(train_perc*len(data))\n",
    "split_point_2 = int(val_perc*len(data))+split_point_1\n",
    "X_train = data.loc[:split_point_1, features_to_use]\n",
    "X_val = data.loc[(split_point_1+1):split_point_2, features_to_use]\n",
    "X_test = data.loc[(split_point_2+1):, features_to_use]\n",
    "y_train = data.loc[:split_point_1, target_variable]\n",
    "y_val = data.loc[(split_point_1+1):split_point_2, target_variable]\n",
    "y_test = data.loc[(split_point_2+1):, target_variable]\n",
    "\n",
    "print(\"Num train records: %d\" % len(X_train))\n",
    "print(\"Num val records: %d\" % len(X_val))\n",
    "print(\"Num test records: %d\" % len(X_test))"
   ]
  },
  {
   "cell_type": "code",
   "execution_count": 154,
   "metadata": {},
   "outputs": [],
   "source": [
    "continuous_features_to_use = ['price', 'freight_value','payment_sequential','payment_installments','product_name_lenght','product_description_lenght',\n",
    "'product_photos_qty','product_weight_g','product_length_cm','product_height_cm','product_width_cm','diff_days_int' ]\n",
    "\n",
    "X_train_mean = X_train.loc[:,continuous_features_to_use].mean(axis=0)\n",
    "X_train_std = X_train.loc[:,continuous_features_to_use].std(axis=0)\n",
    "X_train.loc[:,continuous_features_to_use] = (X_train.loc[:,continuous_features_to_use] - X_train_mean) / X_train_std\n",
    "\n",
    "X_val_mean = X_val.loc[:,continuous_features_to_use].mean(axis=0)\n",
    "X_val_std = X_val.loc[:,continuous_features_to_use].std(axis=0)\n",
    "X_val.loc[:,continuous_features_to_use] = (X_val.loc[:,continuous_features_to_use] - X_val_mean) / X_val_std\n",
    "\n",
    "X_test_mean = X_test.loc[:,continuous_features_to_use].mean(axis=0)\n",
    "X_test_std = X_test.loc[:,continuous_features_to_use].std(axis=0)\n",
    "X_test.loc[:,continuous_features_to_use] = (X_test.loc[:,continuous_features_to_use] - X_test_mean) / X_test_std"
   ]
  },
  {
   "cell_type": "markdown",
   "metadata": {},
   "source": [
    "Let's run again our models but with this new feature that we think may be really important and explicative for the model response."
   ]
  },
  {
   "cell_type": "code",
   "execution_count": 155,
   "metadata": {},
   "outputs": [
    {
     "name": "stdout",
     "output_type": "stream",
     "text": [
      "0\n"
     ]
    },
    {
     "name": "stderr",
     "output_type": "stream",
     "text": [
      "C:\\Users\\guest\\Anaconda3\\lib\\site-packages\\sklearn\\svm\\base.py:929: ConvergenceWarning: Liblinear failed to converge, increase the number of iterations.\n",
      "  \"the number of iterations.\", ConvergenceWarning)\n",
      "C:\\Users\\guest\\Anaconda3\\lib\\site-packages\\sklearn\\metrics\\classification.py:1437: UndefinedMetricWarning: Precision is ill-defined and being set to 0.0 in labels with no predicted samples.\n",
      "  'precision', 'predicted', average, warn_for)\n",
      "C:\\Users\\guest\\Anaconda3\\lib\\site-packages\\sklearn\\metrics\\classification.py:1437: UndefinedMetricWarning: F-score is ill-defined and being set to 0.0 in labels with no predicted samples.\n",
      "  'precision', 'predicted', average, warn_for)\n",
      "C:\\Users\\guest\\Anaconda3\\lib\\site-packages\\sklearn\\linear_model\\logistic.py:432: FutureWarning: Default solver will be changed to 'lbfgs' in 0.22. Specify a solver to silence this warning.\n",
      "  FutureWarning)\n",
      "C:\\Users\\guest\\Anaconda3\\lib\\site-packages\\sklearn\\linear_model\\logistic.py:469: FutureWarning: Default multi_class will be changed to 'auto' in 0.22. Specify the multi_class option to silence this warning.\n",
      "  \"this warning.\", FutureWarning)\n"
     ]
    },
    {
     "name": "stdout",
     "output_type": "stream",
     "text": [
      "1\n"
     ]
    },
    {
     "name": "stderr",
     "output_type": "stream",
     "text": [
      "C:\\Users\\guest\\Anaconda3\\lib\\site-packages\\sklearn\\metrics\\classification.py:1437: UndefinedMetricWarning: Precision is ill-defined and being set to 0.0 in labels with no predicted samples.\n",
      "  'precision', 'predicted', average, warn_for)\n",
      "C:\\Users\\guest\\Anaconda3\\lib\\site-packages\\sklearn\\metrics\\classification.py:1437: UndefinedMetricWarning: F-score is ill-defined and being set to 0.0 in labels with no predicted samples.\n",
      "  'precision', 'predicted', average, warn_for)\n"
     ]
    },
    {
     "name": "stdout",
     "output_type": "stream",
     "text": [
      "2\n",
      "3\n",
      "4\n",
      "5\n",
      "6\n"
     ]
    },
    {
     "data": {
      "text/html": [
       "<div>\n",
       "<style scoped>\n",
       "    .dataframe tbody tr th:only-of-type {\n",
       "        vertical-align: middle;\n",
       "    }\n",
       "\n",
       "    .dataframe tbody tr th {\n",
       "        vertical-align: top;\n",
       "    }\n",
       "\n",
       "    .dataframe thead th {\n",
       "        text-align: right;\n",
       "    }\n",
       "</style>\n",
       "<table border=\"1\" class=\"dataframe\">\n",
       "  <thead>\n",
       "    <tr style=\"text-align: right;\">\n",
       "      <th></th>\n",
       "      <th>model_name</th>\n",
       "      <th>accuracy_score</th>\n",
       "      <th>precision_score</th>\n",
       "      <th>recall_score</th>\n",
       "      <th>f1_score</th>\n",
       "    </tr>\n",
       "  </thead>\n",
       "  <tbody>\n",
       "    <tr>\n",
       "      <th>3</th>\n",
       "      <td>Random Forest</td>\n",
       "      <td>0.647446</td>\n",
       "      <td>0.700173</td>\n",
       "      <td>0.380804</td>\n",
       "      <td>0.429584</td>\n",
       "    </tr>\n",
       "    <tr>\n",
       "      <th>4</th>\n",
       "      <td>Decsision Tree</td>\n",
       "      <td>0.491487</td>\n",
       "      <td>0.348176</td>\n",
       "      <td>0.357986</td>\n",
       "      <td>0.35259</td>\n",
       "    </tr>\n",
       "    <tr>\n",
       "      <th>6</th>\n",
       "      <td>K Nearest Neighbor</td>\n",
       "      <td>0.491033</td>\n",
       "      <td>0.310965</td>\n",
       "      <td>0.268952</td>\n",
       "      <td>0.279076</td>\n",
       "    </tr>\n",
       "    <tr>\n",
       "      <th>5</th>\n",
       "      <td>AdaBoost</td>\n",
       "      <td>0.59546</td>\n",
       "      <td>0.243137</td>\n",
       "      <td>0.251706</td>\n",
       "      <td>0.224263</td>\n",
       "    </tr>\n",
       "    <tr>\n",
       "      <th>1</th>\n",
       "      <td>Logistic Regression</td>\n",
       "      <td>0.583201</td>\n",
       "      <td>0.267077</td>\n",
       "      <td>0.234389</td>\n",
       "      <td>0.204723</td>\n",
       "    </tr>\n",
       "    <tr>\n",
       "      <th>2</th>\n",
       "      <td>Dummy</td>\n",
       "      <td>0.382293</td>\n",
       "      <td>0.189398</td>\n",
       "      <td>0.190408</td>\n",
       "      <td>0.189749</td>\n",
       "    </tr>\n",
       "    <tr>\n",
       "      <th>0</th>\n",
       "      <td>SVC</td>\n",
       "      <td>0.184336</td>\n",
       "      <td>0.426746</td>\n",
       "      <td>0.206623</td>\n",
       "      <td>0.0950707</td>\n",
       "    </tr>\n",
       "  </tbody>\n",
       "</table>\n",
       "</div>"
      ],
      "text/plain": [
       "            model_name accuracy_score precision_score recall_score   f1_score\n",
       "3        Random Forest       0.647446        0.700173     0.380804   0.429584\n",
       "4       Decsision Tree       0.491487        0.348176     0.357986    0.35259\n",
       "6   K Nearest Neighbor       0.491033        0.310965     0.268952   0.279076\n",
       "5             AdaBoost        0.59546        0.243137     0.251706   0.224263\n",
       "1  Logistic Regression       0.583201        0.267077     0.234389   0.204723\n",
       "2                Dummy       0.382293        0.189398     0.190408   0.189749\n",
       "0                  SVC       0.184336        0.426746     0.206623  0.0950707"
      ]
     },
     "execution_count": 155,
     "metadata": {},
     "output_type": "execute_result"
    }
   ],
   "source": [
    "model_dict = {'SVC': LinearSVC(),\n",
    "              'Logistic Regression': LogisticRegression(random_state=0),\n",
    "              'Dummy' : DummyClassifier(random_state=0),\n",
    "              'Random Forest': RandomForestClassifier(random_state=0,n_estimators=100,n_jobs=-1),\n",
    "              'Decsision Tree': DecisionTreeClassifier(random_state=0),\n",
    "              'AdaBoost': AdaBoostClassifier(random_state=0),\n",
    "              'K Nearest Neighbor': KNeighborsClassifier()\n",
    "              }\n",
    "\n",
    "#Function to get the scores for each model in a df\n",
    "def model_score_df(model_dict): \n",
    "    cont = 0\n",
    "    model_name, ac_score_list, p_score_list, r_score_list, f1_score_list = [], [], [], [], []\n",
    "    for k,v in model_dict.items():  \n",
    "        print(cont)\n",
    "        model_name.append(k)\n",
    "        v.fit(X_train, y_train)\n",
    "        y_pred = v.predict(X_test)\n",
    "        ac_score_list.append(accuracy_score(y_test, y_pred))\n",
    "        p_score_list.append(precision_score(y_test, y_pred, average='macro'))\n",
    "        r_score_list.append(recall_score(y_test, y_pred, average='macro'))\n",
    "        f1_score_list.append(f1_score(y_test, y_pred, average='macro'))\n",
    "        model_comparison_df = pd.DataFrame([model_name, ac_score_list, p_score_list, r_score_list, f1_score_list]).T\n",
    "        model_comparison_df.columns = ['model_name', 'accuracy_score', 'precision_score', 'recall_score', 'f1_score']\n",
    "        model_comparison_df = model_comparison_df.sort_values(by='f1_score', ascending=False)\n",
    "        cont+=1\n",
    "    return model_comparison_df\n",
    "\n",
    "model_score_df(model_dict)"
   ]
  },
  {
   "cell_type": "code",
   "execution_count": 156,
   "metadata": {},
   "outputs": [],
   "source": [
    "importances = model_dict['Random Forest'].feature_importances_"
   ]
  },
  {
   "cell_type": "code",
   "execution_count": 157,
   "metadata": {},
   "outputs": [],
   "source": [
    "std = np.std([tree.feature_importances_ for tree in model_dict['Random Forest'].estimators_],\n",
    "             axis=0)\n",
    "indices = np.argsort(importances)[::-1]"
   ]
  },
  {
   "cell_type": "code",
   "execution_count": 160,
   "metadata": {},
   "outputs": [
    {
     "data": {
      "image/png": "[encoded data removed]",
      "text/plain": [
       "<Figure size 432x288 with 1 Axes>"
      ]
     },
     "metadata": {
      "needs_background": "light"
     },
     "output_type": "display_data"
    }
   ],
   "source": [
    "plt.figure()\n",
    "plt.title(\"Feature importances\")\n",
    "plt.barh(range(10), importances[indices][:10][::-1],\n",
    "       color=\"r\", yerr=std[indices][:10][::-1],tick_label=np.array(features_to_use)[indices][:10][::-1],\n",
    "       align=\"center\")\n",
    "plt.xlim([0, 0.2])\n",
    "plt.show()"
   ]
  },
  {
   "cell_type": "markdown",
   "metadata": {},
   "source": [
    "As we thought, not only this feature allow the models to perform better, but also it is consider the main value to determine which rating a buy has, as we have expose as an hypothesis."
   ]
  },
  {
   "cell_type": "markdown",
   "metadata": {},
   "source": [
    "# Network Analysis"
   ]
  },
  {
   "cell_type": "markdown",
   "metadata": {},
   "source": [
    "Another way of getting information from all the orders this dataset provides, is by focusing in the tendencies that make sellers popular between the customers. For taking a look of this, a network analysis will be done to try to extract the top sellers, and after, check if there is any characteristics of the customers, products or something else that can give any information of why this is.\n",
    "\n",
    "For this part, we will start loading the whole dataset again."
   ]
  },
  {
   "cell_type": "code",
   "execution_count": 2,
   "metadata": {},
   "outputs": [],
   "source": [
    "customers = pd.read_csv('Olist/olist_customers_dataset.csv')\n",
    "geolocation = pd.read_csv('Olist/olist_geolocation_dataset.csv')\n",
    "order_items = pd.read_csv('Olist/olist_order_items_dataset.csv')\n",
    "order_payments = pd.read_csv('Olist/olist_order_payments_dataset.csv')\n",
    "order_reviews = pd.read_csv('Olist/olist_order_reviews_dataset.csv')\n",
    "orders = pd.read_csv('Olist/olist_orders_dataset.csv')\n",
    "products = pd.read_csv('Olist/olist_products_dataset.csv')\n",
    "sellers = pd.read_csv('Olist/olist_sellers_dataset.csv')\n",
    "\n",
    "category_columns = ['order_status']\n",
    "for col in category_columns:\n",
    "    orders[col] = orders[col].astype('category')\n",
    "orders = pd.get_dummies(orders, columns=category_columns)\n",
    "\n",
    "orders['order_purchase_timestamp'] = pd.to_datetime(orders['order_purchase_timestamp'], format=\"%Y-%m-%d %H:%M:%S\")\n",
    "orders['order_approved_at'] = pd.to_datetime(orders['order_approved_at'], format=\"%Y-%m-%d %H:%M:%S\")\n",
    "orders['order_delivered_carrier_date'] = pd.to_datetime(orders['order_delivered_carrier_date'], format=\"%Y-%m-%d %H:%M:%S\")\n",
    "orders['order_delivered_customer_date'] = pd.to_datetime(orders['order_delivered_customer_date'], format=\"%Y-%m-%d %H:%M:%S\")\n",
    "orders['order_estimated_delivery_date'] = pd.to_datetime(orders['order_estimated_delivery_date'], format=\"%Y-%m-%d %H:%M:%S\")\n",
    "\n",
    "order_reviews['review_creation_date'] = pd.to_datetime(order_reviews['review_creation_date'], format=\"%Y-%m-%d %H:%M:%S\")\n",
    "order_reviews['review_answer_timestamp'] = pd.to_datetime(order_reviews['review_answer_timestamp'], format=\"%Y-%m-%d %H:%M:%S\")\n",
    "\n",
    "category_columns = ['payment_type']\n",
    "for col in category_columns:\n",
    "    order_payments[col] = order_payments[col].astype('category')\n",
    "order_payments = pd.get_dummies(order_payments, columns=category_columns)\n",
    "\n",
    "order_items['shipping_limit_date'] = pd.to_datetime(order_items['shipping_limit_date'], format=\"%Y-%m-%d %H:%M:%S\")\n",
    "\n",
    "data = orders.merge(order_items, on=['order_id'], how='left')\n",
    "\n",
    "data = data.merge(customers, on=['customer_id'], how='left')\n",
    "\n",
    "order_scores = order_reviews[['order_id', 'review_score']]\n",
    "\n",
    "data = data.merge(products, on=['product_id'], how='left')\n",
    "\n",
    "data = data.merge(sellers, on=['seller_id'],  how='left')\n",
    "\n",
    "data = data.dropna()"
   ]
  },
  {
   "cell_type": "code",
   "execution_count": 3,
   "metadata": {},
   "outputs": [],
   "source": [
    "seller_customer = ['seller_id', 'customer_unique_id']\n",
    "net_data = data[seller_customer]"
   ]
  },
  {
   "cell_type": "code",
   "execution_count": 4,
   "metadata": {},
   "outputs": [],
   "source": [
    "import networkx as nx"
   ]
  },
  {
   "cell_type": "code",
   "execution_count": 5,
   "metadata": {},
   "outputs": [],
   "source": [
    "def get_digraph_from_df(df_g):\n",
    "    G = nx.DiGraph() # directed graph\n",
    "    for index, row in df_g.iterrows():\n",
    "        sender = row['seller_id']\n",
    "        recipient = row['customer_unique_id']\n",
    "        G.add_edge(sender, recipient)\n",
    "    return G"
   ]
  },
  {
   "cell_type": "code",
   "execution_count": 6,
   "metadata": {},
   "outputs": [
    {
     "name": "stdout",
     "output_type": "stream",
     "text": [
      "Name: \n",
      "Type: DiGraph\n",
      "Number of nodes: 94996\n",
      "Number of edges: 95527\n",
      "Average in degree:   1.0056\n",
      "Average out degree:   1.0056\n"
     ]
    }
   ],
   "source": [
    "G = get_digraph_from_df(net_data)\n",
    "\n",
    "print(nx.info(G))"
   ]
  },
  {
   "cell_type": "markdown",
   "metadata": {},
   "source": [
    "This is the representation of all conections between sellers and customers of our dataset. The pourpose is to focus in customer that have bought from several sellers to see if there is any relationship between them, in order to asses new possible sellers on where to focus their market.\n",
    "\n",
    "For doing so, customers that have done more than 3 orders from, at least, 3 different sellers will be selected."
   ]
  },
  {
   "cell_type": "code",
   "execution_count": 7,
   "metadata": {},
   "outputs": [],
   "source": [
    "customers_id = data.customer_unique_id.value_counts()\n",
    "\n",
    "#Selection of customers that have done more than 3 orders\n",
    "recurent_customers = customers_id.loc[customers_id > 3].index \n",
    "\n",
    "#Selection of customers that have done these orders from more than 3 different sellers\n",
    "customers_to_use = []\n",
    "for customer in recurent_customers:\n",
    "    counts = data.loc[data.customer_unique_id == customer].seller_id.value_counts()\n",
    "    if counts.size > 3:\n",
    "        customers_to_use.append(customer)\n",
    "\n",
    "data_copy = data.copy()\n",
    "\n",
    "#New dataset \n",
    "data_copy = data_copy.loc[data_copy.customer_unique_id.isin(customers_to_use)]\n",
    "\n",
    "data_copy = data_copy.reset_index(drop = True)\n",
    "\n",
    "seller_customer = ['seller_id', 'customer_unique_id']\n",
    "\n",
    "#Get data for the network\n",
    "net_data = data_copy[seller_customer]"
   ]
  },
  {
   "cell_type": "code",
   "execution_count": 8,
   "metadata": {},
   "outputs": [
    {
     "data": {
      "text/html": [
       "<div>\n",
       "<style scoped>\n",
       "    .dataframe tbody tr th:only-of-type {\n",
       "        vertical-align: middle;\n",
       "    }\n",
       "\n",
       "    .dataframe tbody tr th {\n",
       "        vertical-align: top;\n",
       "    }\n",
       "\n",
       "    .dataframe thead th {\n",
       "        text-align: right;\n",
       "    }\n",
       "</style>\n",
       "<table border=\"1\" class=\"dataframe\">\n",
       "  <thead>\n",
       "    <tr style=\"text-align: right;\">\n",
       "      <th></th>\n",
       "      <th>seller_id</th>\n",
       "      <th>customer_unique_id</th>\n",
       "    </tr>\n",
       "  </thead>\n",
       "  <tbody>\n",
       "    <tr>\n",
       "      <th>0</th>\n",
       "      <td>d1c281d3ae149232351cd8c8cc885f0d</td>\n",
       "      <td>0a609db8d244100909a15d65eadf8539</td>\n",
       "    </tr>\n",
       "    <tr>\n",
       "      <th>1</th>\n",
       "      <td>53e4c6e0f4312d4d2107a8c9cddf45cd</td>\n",
       "      <td>b8b3c435a58aebd788a477bed8342910</td>\n",
       "    </tr>\n",
       "    <tr>\n",
       "      <th>2</th>\n",
       "      <td>1e8b33f18b4f7598d87f5cbee2282cc2</td>\n",
       "      <td>7a380cb5434e6b6b5b37d45bb99dbe8a</td>\n",
       "    </tr>\n",
       "    <tr>\n",
       "      <th>3</th>\n",
       "      <td>4992e76a42cb3aad7a7047e0d3d7e729</td>\n",
       "      <td>7a380cb5434e6b6b5b37d45bb99dbe8a</td>\n",
       "    </tr>\n",
       "    <tr>\n",
       "      <th>4</th>\n",
       "      <td>6fd52c528dcb38be2eea044946b811f8</td>\n",
       "      <td>310647380793836bfa5b7b6b3f518423</td>\n",
       "    </tr>\n",
       "    <tr>\n",
       "      <th>...</th>\n",
       "      <td>...</td>\n",
       "      <td>...</td>\n",
       "    </tr>\n",
       "    <tr>\n",
       "      <th>324</th>\n",
       "      <td>4a3ca9315b744ce9f8e9374361493884</td>\n",
       "      <td>6a80a86f478a93a5f4c7ba8db6441a6b</td>\n",
       "    </tr>\n",
       "    <tr>\n",
       "      <th>325</th>\n",
       "      <td>da8622b14eb17ae2831f4ac5b9dab84a</td>\n",
       "      <td>6a80a86f478a93a5f4c7ba8db6441a6b</td>\n",
       "    </tr>\n",
       "    <tr>\n",
       "      <th>326</th>\n",
       "      <td>3d871de0142ce09b7081e2b9d1733cb1</td>\n",
       "      <td>35ecdf6858edc6427223b64804cf028e</td>\n",
       "    </tr>\n",
       "    <tr>\n",
       "      <th>327</th>\n",
       "      <td>1025f0e2d44d7041d6cf58b6550e0bfa</td>\n",
       "      <td>56c8638e7c058b98aae6d74d2dd6ea23</td>\n",
       "    </tr>\n",
       "    <tr>\n",
       "      <th>328</th>\n",
       "      <td>1025f0e2d44d7041d6cf58b6550e0bfa</td>\n",
       "      <td>56c8638e7c058b98aae6d74d2dd6ea23</td>\n",
       "    </tr>\n",
       "  </tbody>\n",
       "</table>\n",
       "<p>329 rows × 2 columns</p>\n",
       "</div>"
      ],
      "text/plain": [
       "                            seller_id                customer_unique_id\n",
       "0    d1c281d3ae149232351cd8c8cc885f0d  0a609db8d244100909a15d65eadf8539\n",
       "1    53e4c6e0f4312d4d2107a8c9cddf45cd  b8b3c435a58aebd788a477bed8342910\n",
       "2    1e8b33f18b4f7598d87f5cbee2282cc2  7a380cb5434e6b6b5b37d45bb99dbe8a\n",
       "3    4992e76a42cb3aad7a7047e0d3d7e729  7a380cb5434e6b6b5b37d45bb99dbe8a\n",
       "4    6fd52c528dcb38be2eea044946b811f8  310647380793836bfa5b7b6b3f518423\n",
       "..                                ...                               ...\n",
       "324  4a3ca9315b744ce9f8e9374361493884  6a80a86f478a93a5f4c7ba8db6441a6b\n",
       "325  da8622b14eb17ae2831f4ac5b9dab84a  6a80a86f478a93a5f4c7ba8db6441a6b\n",
       "326  3d871de0142ce09b7081e2b9d1733cb1  35ecdf6858edc6427223b64804cf028e\n",
       "327  1025f0e2d44d7041d6cf58b6550e0bfa  56c8638e7c058b98aae6d74d2dd6ea23\n",
       "328  1025f0e2d44d7041d6cf58b6550e0bfa  56c8638e7c058b98aae6d74d2dd6ea23\n",
       "\n",
       "[329 rows x 2 columns]"
      ]
     },
     "execution_count": 8,
     "metadata": {},
     "output_type": "execute_result"
    }
   ],
   "source": [
    "net_data"
   ]
  },
  {
   "cell_type": "code",
   "execution_count": 9,
   "metadata": {},
   "outputs": [
    {
     "data": {
      "image/png": "[encoded data removed]",
      "text/plain": [
       "<Figure size 504x504 with 1 Axes>"
      ]
     },
     "metadata": {},
     "output_type": "display_data"
    }
   ],
   "source": [
    "#Build the grph\n",
    "G = get_digraph_from_df(net_data)\n",
    "\n",
    "plt.figure(figsize=(7, 7))\n",
    "pos = nx.spring_layout(G.to_undirected()) # calculate positions of the nodes\n",
    "options = {\n",
    "    'node_size': 10,\n",
    "    'width': 0.5\n",
    "} # drawing options\n",
    "nx.draw(G, pos=pos, **options)\n",
    "plt.show()"
   ]
  },
  {
   "cell_type": "code",
   "execution_count": 10,
   "metadata": {},
   "outputs": [],
   "source": [
    "from collections import Counter, OrderedDict\n",
    "def get_top_centrality(G, func, top_n=10):\n",
    "    degree_cent = func(G)\n",
    "    degree_cent_ordered = OrderedDict(sorted(degree_cent.items(), \n",
    "                                             reverse=True, \n",
    "                                             key=lambda x: x[1])[:top_n])\n",
    "    return degree_cent_ordered"
   ]
  },
  {
   "cell_type": "markdown",
   "metadata": {},
   "source": [
    "When applying degree centrality it is possible to get the id of the sellers in the center of the network."
   ]
  },
  {
   "cell_type": "code",
   "execution_count": 11,
   "metadata": {},
   "outputs": [
    {
     "data": {
      "text/plain": [
       "OrderedDict([('1900267e848ceeba8fa32d80c1a5f5a8', 0.02953586497890295),\n",
       "             ('1835b56ce799e6a4dc4eddc053f04066', 0.02953586497890295),\n",
       "             ('da8622b14eb17ae2831f4ac5b9dab84a', 0.025316455696202528),\n",
       "             ('53e4c6e0f4312d4d2107a8c9cddf45cd', 0.02109704641350211),\n",
       "             ('4a3ca9315b744ce9f8e9374361493884', 0.016877637130801686),\n",
       "             ('1c129092bf23f28a5930387c980c0dfc', 0.016877637130801686),\n",
       "             ('4200ddf1967c5e41e48db62bc6d4b5ac', 0.012658227848101264),\n",
       "             ('b2ba3715d723d245138f291a6fe42594', 0.012658227848101264),\n",
       "             ('822166ed1e47908f7cfb49946d03c726', 0.012658227848101264),\n",
       "             ('d1c281d3ae149232351cd8c8cc885f0d', 0.008438818565400843)])"
      ]
     },
     "execution_count": 11,
     "metadata": {},
     "output_type": "execute_result"
    }
   ],
   "source": [
    "#sellers\n",
    "dc_out_cent = get_top_centrality(G, nx.out_degree_centrality)\n",
    "degree_cent = nx.out_degree_centrality(G)\n",
    "colors = list(degree_cent.values())\n",
    "dc_out_cent"
   ]
  },
  {
   "cell_type": "code",
   "execution_count": 12,
   "metadata": {},
   "outputs": [
    {
     "data": {
      "image/png": "[encoded data removed]",
      "text/plain": [
       "<Figure size 720x720 with 1 Axes>"
      ]
     },
     "metadata": {},
     "output_type": "display_data"
    }
   ],
   "source": [
    "plt.figure(figsize=(10, 10))\n",
    "pos = nx.spring_layout(G.to_undirected()) # calculate positions of the nodes\n",
    "options = {\n",
    "    'node_size': 20,\n",
    "    'width': 0.5,\n",
    "    'node_color': colors\n",
    "} # drawing options\n",
    "nx.draw(G, pos=pos, **options)\n",
    "plt.show()"
   ]
  },
  {
   "cell_type": "markdown",
   "metadata": {},
   "source": [
    "As easily can be seen with the colors, the most connected sellers are the ones in the middle of the network as mentioned above. Now, with a Design Structure Matrix let's try to see if there is any correlation between the different sellers and customers and we can get some clusters."
   ]
  },
  {
   "cell_type": "code",
   "execution_count": 13,
   "metadata": {},
   "outputs": [
    {
     "data": {
      "image/png": "[encoded data removed]",
      "text/plain": [
       "<Figure size 720x720 with 4 Axes>"
      ]
     },
     "metadata": {
      "needs_background": "light"
     },
     "output_type": "display_data"
    }
   ],
   "source": [
    "A = nx.to_numpy_matrix(G)\n",
    "sns.clustermap(A, cmap=plt.cm.Greens);"
   ]
  },
  {
   "cell_type": "markdown",
   "metadata": {},
   "source": [
    "Sadly, there are not very defined clusters. This means, by applying DSM we are not able to define any subset of characteristics of the sellers or customers that allow us to create any market targets.\n",
    "\n",
    "Since only with the relationship between sellers and customers it is not possible to get any clusters, a new dataset with the top sellers found with the network analysis, but with all the features we have, will be used for clustering."
   ]
  },
  {
   "cell_type": "code",
   "execution_count": 14,
   "metadata": {},
   "outputs": [],
   "source": [
    "#List with the top seller ids\n",
    "top_sellers = list(dc_out_cent.keys())"
   ]
  },
  {
   "cell_type": "code",
   "execution_count": 15,
   "metadata": {},
   "outputs": [],
   "source": [
    "#Load all the variables and defne the dataset as at the begining of the notebook\n",
    "data = orders.merge(order_items, on=['order_id'], how='left') #as we will sort by sellers, let's use all orders we are provided\n",
    "data = data.merge(customers, on=['customer_id'], how='left')\n",
    "data = data.merge(order_reviews, on=['order_id'], how='left')\n",
    "data = data.merge(order_payments, on=['order_id'], how='left')\n",
    "data = data.merge(products, on=['product_id'], how='left')\n",
    "data = data.merge(sellers, on=['seller_id'],  how='left')\n",
    "#Filtering only for the delivered records\n",
    "data = data.loc[data['order_status_delivered'] == 1]\n",
    "#drop of the order status\n",
    "order_status_columns = ['order_status_approved', 'order_status_canceled',\n",
    "       'order_status_created', 'order_status_delivered',\n",
    "       'order_status_invoiced', 'order_status_processing',\n",
    "       'order_status_shipped', 'order_status_unavailable']\n",
    "data = data.drop(order_status_columns, axis=1)\n",
    "#Filtering only for the defined payment type\n",
    "data = data.loc[data['payment_type_not_defined'] == 0]\n",
    "#drop of the column payment_type_not_defined\n",
    "data = data.drop('payment_type_not_defined', axis=1)\n",
    "#drops for city info\n",
    "drops = ['customer_city', 'seller_city']\n",
    "data = data.drop(drops, axis=1)\n",
    "#drops of the comments dataset\n",
    "drops = ['review_comment_title', 'review_comment_message', 'review_creation_date', 'review_answer_timestamp']\n",
    "data = data.drop(drops, axis=1)\n",
    "data = data.dropna()\n",
    "#as we will sort by sellers, let's keep all product categories for now\n",
    "data_sellers = data.loc[data.seller_id.isin(top_sellers)]"
   ]
  },
  {
   "cell_type": "markdown",
   "metadata": {},
   "source": [
    "### KMeans Clustering\n",
    "The cluster method slected is KMeans. Despite we have some categorical variables, we will use only continuous variables since they are the ones that can give more information for clustering with KMeans. Also, we will normalize the data so all variables are comparable between them."
   ]
  },
  {
   "cell_type": "code",
   "execution_count": 16,
   "metadata": {},
   "outputs": [
    {
     "data": {
      "text/html": [
       "<div>\n",
       "<style scoped>\n",
       "    .dataframe tbody tr th:only-of-type {\n",
       "        vertical-align: middle;\n",
       "    }\n",
       "\n",
       "    .dataframe tbody tr th {\n",
       "        vertical-align: top;\n",
       "    }\n",
       "\n",
       "    .dataframe thead th {\n",
       "        text-align: right;\n",
       "    }\n",
       "</style>\n",
       "<table border=\"1\" class=\"dataframe\">\n",
       "  <thead>\n",
       "    <tr style=\"text-align: right;\">\n",
       "      <th></th>\n",
       "      <th>price</th>\n",
       "      <th>freight_value</th>\n",
       "      <th>review_score</th>\n",
       "      <th>payment_sequential</th>\n",
       "      <th>payment_installments</th>\n",
       "      <th>payment_value</th>\n",
       "      <th>product_name_lenght</th>\n",
       "      <th>product_description_lenght</th>\n",
       "      <th>product_photos_qty</th>\n",
       "      <th>product_weight_g</th>\n",
       "      <th>product_length_cm</th>\n",
       "      <th>product_height_cm</th>\n",
       "      <th>product_width_cm</th>\n",
       "    </tr>\n",
       "    <tr>\n",
       "      <th>order_purchase_timestamp</th>\n",
       "      <th></th>\n",
       "      <th></th>\n",
       "      <th></th>\n",
       "      <th></th>\n",
       "      <th></th>\n",
       "      <th></th>\n",
       "      <th></th>\n",
       "      <th></th>\n",
       "      <th></th>\n",
       "      <th></th>\n",
       "      <th></th>\n",
       "      <th></th>\n",
       "      <th></th>\n",
       "    </tr>\n",
       "  </thead>\n",
       "  <tbody>\n",
       "    <tr>\n",
       "      <th>2018-07-25 17:44:10</th>\n",
       "      <td>19.9</td>\n",
       "      <td>12.80</td>\n",
       "      <td>5</td>\n",
       "      <td>1.0</td>\n",
       "      <td>3.0</td>\n",
       "      <td>32.70</td>\n",
       "      <td>52.0</td>\n",
       "      <td>155.0</td>\n",
       "      <td>1.0</td>\n",
       "      <td>200.0</td>\n",
       "      <td>16.0</td>\n",
       "      <td>10.0</td>\n",
       "      <td>16.0</td>\n",
       "    </tr>\n",
       "    <tr>\n",
       "      <th>2017-04-20 20:42:44</th>\n",
       "      <td>38.5</td>\n",
       "      <td>24.84</td>\n",
       "      <td>4</td>\n",
       "      <td>1.0</td>\n",
       "      <td>5.0</td>\n",
       "      <td>63.34</td>\n",
       "      <td>53.0</td>\n",
       "      <td>223.0</td>\n",
       "      <td>1.0</td>\n",
       "      <td>950.0</td>\n",
       "      <td>45.0</td>\n",
       "      <td>15.0</td>\n",
       "      <td>35.0</td>\n",
       "    </tr>\n",
       "    <tr>\n",
       "      <th>2017-11-22 11:32:22</th>\n",
       "      <td>83.9</td>\n",
       "      <td>17.84</td>\n",
       "      <td>1</td>\n",
       "      <td>1.0</td>\n",
       "      <td>5.0</td>\n",
       "      <td>101.74</td>\n",
       "      <td>63.0</td>\n",
       "      <td>418.0</td>\n",
       "      <td>1.0</td>\n",
       "      <td>1500.0</td>\n",
       "      <td>45.0</td>\n",
       "      <td>15.0</td>\n",
       "      <td>35.0</td>\n",
       "    </tr>\n",
       "    <tr>\n",
       "      <th>2017-11-26 17:49:46</th>\n",
       "      <td>109.9</td>\n",
       "      <td>25.61</td>\n",
       "      <td>3</td>\n",
       "      <td>1.0</td>\n",
       "      <td>5.0</td>\n",
       "      <td>135.51</td>\n",
       "      <td>53.0</td>\n",
       "      <td>236.0</td>\n",
       "      <td>2.0</td>\n",
       "      <td>1975.0</td>\n",
       "      <td>41.0</td>\n",
       "      <td>13.0</td>\n",
       "      <td>31.0</td>\n",
       "    </tr>\n",
       "    <tr>\n",
       "      <th>2018-03-31 14:20:46</th>\n",
       "      <td>179.9</td>\n",
       "      <td>8.41</td>\n",
       "      <td>3</td>\n",
       "      <td>1.0</td>\n",
       "      <td>1.0</td>\n",
       "      <td>518.39</td>\n",
       "      <td>60.0</td>\n",
       "      <td>234.0</td>\n",
       "      <td>1.0</td>\n",
       "      <td>2050.0</td>\n",
       "      <td>34.0</td>\n",
       "      <td>8.0</td>\n",
       "      <td>32.0</td>\n",
       "    </tr>\n",
       "  </tbody>\n",
       "</table>\n",
       "</div>"
      ],
      "text/plain": [
       "                          price  freight_value  review_score  \\\n",
       "order_purchase_timestamp                                       \n",
       "2018-07-25 17:44:10        19.9          12.80             5   \n",
       "2017-04-20 20:42:44        38.5          24.84             4   \n",
       "2017-11-22 11:32:22        83.9          17.84             1   \n",
       "2017-11-26 17:49:46       109.9          25.61             3   \n",
       "2018-03-31 14:20:46       179.9           8.41             3   \n",
       "\n",
       "                          payment_sequential  payment_installments  \\\n",
       "order_purchase_timestamp                                             \n",
       "2018-07-25 17:44:10                      1.0                   3.0   \n",
       "2017-04-20 20:42:44                      1.0                   5.0   \n",
       "2017-11-22 11:32:22                      1.0                   5.0   \n",
       "2017-11-26 17:49:46                      1.0                   5.0   \n",
       "2018-03-31 14:20:46                      1.0                   1.0   \n",
       "\n",
       "                          payment_value  product_name_lenght  \\\n",
       "order_purchase_timestamp                                       \n",
       "2018-07-25 17:44:10               32.70                 52.0   \n",
       "2017-04-20 20:42:44               63.34                 53.0   \n",
       "2017-11-22 11:32:22              101.74                 63.0   \n",
       "2017-11-26 17:49:46              135.51                 53.0   \n",
       "2018-03-31 14:20:46              518.39                 60.0   \n",
       "\n",
       "                          product_description_lenght  product_photos_qty  \\\n",
       "order_purchase_timestamp                                                   \n",
       "2018-07-25 17:44:10                            155.0                 1.0   \n",
       "2017-04-20 20:42:44                            223.0                 1.0   \n",
       "2017-11-22 11:32:22                            418.0                 1.0   \n",
       "2017-11-26 17:49:46                            236.0                 2.0   \n",
       "2018-03-31 14:20:46                            234.0                 1.0   \n",
       "\n",
       "                          product_weight_g  product_length_cm  \\\n",
       "order_purchase_timestamp                                        \n",
       "2018-07-25 17:44:10                  200.0               16.0   \n",
       "2017-04-20 20:42:44                  950.0               45.0   \n",
       "2017-11-22 11:32:22                 1500.0               45.0   \n",
       "2017-11-26 17:49:46                 1975.0               41.0   \n",
       "2018-03-31 14:20:46                 2050.0               34.0   \n",
       "\n",
       "                          product_height_cm  product_width_cm  \n",
       "order_purchase_timestamp                                       \n",
       "2018-07-25 17:44:10                    10.0              16.0  \n",
       "2017-04-20 20:42:44                    15.0              35.0  \n",
       "2017-11-22 11:32:22                    15.0              35.0  \n",
       "2017-11-26 17:49:46                    13.0              31.0  \n",
       "2018-03-31 14:20:46                     8.0              32.0  "
      ]
     },
     "execution_count": 16,
     "metadata": {},
     "output_type": "execute_result"
    }
   ],
   "source": [
    "drops = ['product_category_name','customer_state', 'seller_state' ]\n",
    "data_sellers = data_sellers.drop(drops, axis=1)\n",
    "\n",
    "data_sellers = data_sellers.reset_index(drop = True)\n",
    "\n",
    "features_to_use = ['order_purchase_timestamp', 'price', 'freight_value', 'review_score',\n",
    "      'payment_sequential', 'payment_installments', 'payment_value',\n",
    "      'product_name_lenght', 'product_description_lenght',\n",
    "      'product_photos_qty', 'product_weight_g', 'product_length_cm',\n",
    "      'product_height_cm', 'product_width_cm']\n",
    "\n",
    "data_sellers = data_sellers[features_to_use]\n",
    "\n",
    "data_sellers=data_sellers.set_index('order_purchase_timestamp')\n",
    "\n",
    "data_sellers.head()"
   ]
  },
  {
   "cell_type": "code",
   "execution_count": 17,
   "metadata": {},
   "outputs": [],
   "source": [
    "from sklearn.cluster import KMeans\n",
    "from sklearn.preprocessing import Normalizer"
   ]
  },
  {
   "cell_type": "code",
   "execution_count": 18,
   "metadata": {},
   "outputs": [
    {
     "data": {
      "image/png": "[encoded data removed]",
      "text/plain": [
       "<Figure size 560x320 with 1 Axes>"
      ]
     },
     "metadata": {
      "needs_background": "light"
     },
     "output_type": "display_data"
    }
   ],
   "source": [
    "norm = Normalizer()\n",
    "X = norm.fit_transform(data_sellers)\n",
    "\n",
    "K=3\n",
    "k=KMeans(K)\n",
    "k.fit(X);\n",
    "\n",
    "plt.figure(figsize=(7,4), dpi= 80)\n",
    "x=range(13)\n",
    "for c in k.cluster_centers_:\n",
    "    plt.plot(x, c)"
   ]
  },
  {
   "cell_type": "markdown",
   "metadata": {},
   "source": [
    "Variables that affect the decision of the clusters are 'Price', 'Payment value', 'Product name lenght', 'Product description lenght', 'Weight', 'Length' and 'Width'. Let's take a look of the distribution of the most informative variables."
   ]
  },
  {
   "cell_type": "code",
   "execution_count": 19,
   "metadata": {},
   "outputs": [],
   "source": [
    "cluster_variables = ['payment_value', 'product_description_lenght', \n",
    " 'product_weight_g']\n",
    "\n",
    "clusters = k.fit_predict(X)\n",
    "\n",
    "data_sellers['cluster'] = clusters"
   ]
  },
  {
   "cell_type": "code",
   "execution_count": 20,
   "metadata": {},
   "outputs": [
    {
     "data": {
      "image/png": "[encoded data removed]",
      "text/plain": [
       "<Figure size 504x216 with 1 Axes>"
      ]
     },
     "metadata": {
      "needs_background": "light"
     },
     "output_type": "display_data"
    }
   ],
   "source": [
    "data_sellers.cluster.hist(figsize=(7,3));"
   ]
  },
  {
   "cell_type": "markdown",
   "metadata": {},
   "source": [
    "##### Cluster 1"
   ]
  },
  {
   "cell_type": "code",
   "execution_count": 21,
   "metadata": {},
   "outputs": [
    {
     "data": {
      "image/png": "[encoded data removed]",
      "text/plain": [
       "<Figure size 1080x504 with 4 Axes>"
      ]
     },
     "metadata": {
      "needs_background": "light"
     },
     "output_type": "display_data"
    }
   ],
   "source": [
    "data_sellers.loc[data_sellers.cluster == 0][cluster_variables].hist(figsize=(15,7), bins = 100);"
   ]
  },
  {
   "cell_type": "markdown",
   "metadata": {},
   "source": [
    "##### Cluster 2"
   ]
  },
  {
   "cell_type": "code",
   "execution_count": 22,
   "metadata": {},
   "outputs": [
    {
     "data": {
      "image/png": "[encoded data removed]",
      "text/plain": [
       "<Figure size 1080x504 with 4 Axes>"
      ]
     },
     "metadata": {
      "needs_background": "light"
     },
     "output_type": "display_data"
    }
   ],
   "source": [
    "data_sellers.loc[data_sellers.cluster == 1][cluster_variables].hist(figsize=(15,7), bins = 100);"
   ]
  },
  {
   "cell_type": "markdown",
   "metadata": {},
   "source": [
    "##### Cluster 3"
   ]
  },
  {
   "cell_type": "code",
   "execution_count": 23,
   "metadata": {},
   "outputs": [
    {
     "data": {
      "image/png": "[encoded data removed]",
      "text/plain": [
       "<Figure size 1080x504 with 4 Axes>"
      ]
     },
     "metadata": {
      "needs_background": "light"
     },
     "output_type": "display_data"
    }
   ],
   "source": [
    "data_sellers.loc[data_sellers.cluster == 2][cluster_variables].hist(figsize=(15,7), bins = 100);"
   ]
  },
  {
   "cell_type": "markdown",
   "metadata": {},
   "source": [
    "It is possible to say that for heavy products, what usually implies a higher value, the length of the description is normally not very long, around 250 words. For cheaper prices, and small and not very weighted products a longer product description is used by most connected sellers. \n",
    "\n",
    "## Conclusions\n"
   ]
  },
  {
   "cell_type": "markdown",
   "metadata": {},
   "source": [
    "Stronger models is not always the best solution and it is what this study has proved. Customers on e-commerce are really conditioned by their expectations, normally pushed from what they see on the internet, so how good is announced on the website, but as well of how much they paid. In any case, receiving with a delay a purchase can ruin absolutely everything. For this reason, the main suggestion to the company from this study is to focus and reinforce their transport network, as it will be crutial for their success.\n",
    "\n",
    "As it has been stated previously, the dataset has a clear bias on the high-grades by having a lot of records with this rating, something that is really negative for applying predictive models. Considered this and the obtained results, to improve and expand the study would be interesting for the company to separate the datasets in ratings and study the key for each of the scores that they received separately, so maybe they can get a deeper understanding."
   ]
  }
 ],
 "metadata": {
  "kernelspec": {
   "display_name": "Python 3",
   "language": "python",
   "name": "python3"
  },
  "language_info": {
   "codemirror_mode": {
    "name": "ipython",
    "version": 3
   },
   "file_extension": ".py",
   "mimetype": "text/x-python",
   "name": "python",
   "nbconvert_exporter": "python",
   "pygments_lexer": "ipython3",
   "version": "3.7.4"
  }
 },
 "nbformat": 4,
 "nbformat_minor": 2
}
